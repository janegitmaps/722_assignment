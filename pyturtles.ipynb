{
 "cells": [
  {
   "cell_type": "code",
   "execution_count": 1,
   "metadata": {},
   "outputs": [
    {
     "name": "stdout",
     "output_type": "stream",
     "text": [
      "3.6.13 |Anaconda, Inc.| (default, Mar 16 2021, 11:37:27) [MSC v.1916 64 bit (AMD64)]\n"
     ]
    }
   ],
   "source": [
    "import sys\n",
    "print (sys.version) #this should read as 3.6.13 |Anaconda, Inc.| (default, Mar 16 2021, 11:37:27) [MSC v.1916 64 bit (AMD64)]\n",
    "                    #if not return to anacond environment installation steps"
   ]
  },
  {
   "cell_type": "code",
   "execution_count": 2,
   "metadata": {},
   "outputs": [],
   "source": [
    "# this lets us use the figures interactively\n",
    "%matplotlib notebook\n",
    "\n",
    "import geopandas as gpd\n",
    "from geopandas import GeoDataFrame\n",
    "\n",
    "import pandas as pd\n",
    "from shapely.geometry import Point\n",
    "from shapely.geometry import Polygon\n",
    "\n",
    "import json\n",
    "\n",
    "import numpy as np "
   ]
  },
  {
   "cell_type": "code",
   "execution_count": 3,
   "metadata": {},
   "outputs": [
    {
     "data": {
      "text/plain": [
       "(Index(['Number', 'Date', 'Time_code', 'Time', 'Name', 'ID_Type', 'Photo',\n",
       "        'LAT', 'LONG', 'S_F_R', 'Number.1', 'H_V', 'D_T_C'],\n",
       "       dtype='object'),\n",
       " Index(['Number', 'Date', 'Time_code', 'Time', 'Name', 'ID_Type', 'Photo',\n",
       "        'LAT', 'LONG', 'S_F_R', 'Number.1', 'H_V', 'D_T_C'],\n",
       "       dtype='object'))"
      ]
     },
     "execution_count": 3,
     "metadata": {},
     "output_type": "execute_result"
    }
   ],
   "source": [
    "id_data = pd.read_csv('turtle/id_data.txt')\n",
    "noid_data = pd.read_csv('turtle/noid_data.txt')\n",
    "\n",
    "id_data.columns, noid_data.columns"
   ]
  },
  {
   "cell_type": "code",
   "execution_count": 4,
   "metadata": {},
   "outputs": [],
   "source": [
    "#pd.options.display.max_rows = 999\n",
    "#id_data.LONG"
   ]
  },
  {
   "cell_type": "code",
   "execution_count": 5,
   "metadata": {},
   "outputs": [],
   "source": [
    "id_data['geometry'] = list(zip(id_data['LONG'], id_data['LAT']))\n",
    "id_data['geometry'] = id_data['geometry'].apply(Point)\n",
    "noid_data['geometry'] = list(zip(id_data['LONG'], noid_data['LAT']))\n",
    "noid_data['geometry'] = noid_data['geometry'].apply(Point)"
   ]
  },
  {
   "cell_type": "code",
   "execution_count": null,
   "metadata": {},
   "outputs": [],
   "source": []
  },
  {
   "cell_type": "code",
   "execution_count": 6,
   "metadata": {},
   "outputs": [],
   "source": [
    "id_gdf = gpd.GeoDataFrame(id_data)\n",
    "id_gdf.set_crs(\"EPSG:32616\", inplace=True)\n",
    "id_gdf = id_gdf.drop(['LONG', 'LAT'], axis=1)\n",
    "noid_gdf = gpd.GeoDataFrame(noid_data)\n",
    "noid_gdf.set_crs(\"EPSG:32616\", inplace=True)\n",
    "noid_gdf = noid_gdf.drop(['LONG', 'LAT'], axis=1)\n"
   ]
  },
  {
   "cell_type": "code",
   "execution_count": 7,
   "metadata": {},
   "outputs": [
    {
     "data": {
      "text/plain": [
       "(<Projected CRS: EPSG:32616>\n",
       " Name: WGS 84 / UTM zone 16N\n",
       " Axis Info [cartesian]:\n",
       " - E[east]: Easting (metre)\n",
       " - N[north]: Northing (metre)\n",
       " Area of Use:\n",
       " - name: World - N hemisphere - 90°W to 84°W - by country\n",
       " - bounds: (-90.0, 0.0, -84.0, 84.0)\n",
       " Coordinate Operation:\n",
       " - name: UTM zone 16N\n",
       " - method: Transverse Mercator\n",
       " Datum: World Geodetic System 1984\n",
       " - Ellipsoid: WGS 84\n",
       " - Prime Meridian: Greenwich,\n",
       " <Projected CRS: EPSG:32616>\n",
       " Name: WGS 84 / UTM zone 16N\n",
       " Axis Info [cartesian]:\n",
       " - E[east]: Easting (metre)\n",
       " - N[north]: Northing (metre)\n",
       " Area of Use:\n",
       " - name: World - N hemisphere - 90°W to 84°W - by country\n",
       " - bounds: (-90.0, 0.0, -84.0, 84.0)\n",
       " Coordinate Operation:\n",
       " - name: UTM zone 16N\n",
       " - method: Transverse Mercator\n",
       " Datum: World Geodetic System 1984\n",
       " - Ellipsoid: WGS 84\n",
       " - Prime Meridian: Greenwich)"
      ]
     },
     "execution_count": 7,
     "metadata": {},
     "output_type": "execute_result"
    }
   ],
   "source": [
    "id_gdf.crs, noid_gdf.crs"
   ]
  },
  {
   "cell_type": "code",
   "execution_count": 8,
   "metadata": {},
   "outputs": [
    {
     "name": "stdout",
     "output_type": "stream",
     "text": [
      "id_gdf Number of indentified turtle sightings:625\n",
      "noid_gdf Number of unidentified turtle sightings:114\n"
     ]
    }
   ],
   "source": [
    "id_gdf.to_file('turtle/id_points.shp') #save the GeoDataFrame as a new .shp file\n",
    "noid_gdf.to_file('turtle/noid_points.shp')\n",
    "\n",
    "rows, cols = id_gdf.shape #display total number of rows\n",
    "print('id_gdf Number of indentified turtle sightings:{}'.format(rows))\n",
    "rows, cols = noid_gdf.shape\n",
    "print('noid_gdf Number of unidentified turtle sightings:{}'.format(rows))"
   ]
  },
  {
   "cell_type": "code",
   "execution_count": 9,
   "metadata": {},
   "outputs": [],
   "source": [
    "id_points = gpd.read_file('turtle/id_points.shp') #start work with the shape file\n",
    "noid_points = gpd.read_file('turtle/noid_points.shp')"
   ]
  },
  {
   "cell_type": "code",
   "execution_count": 10,
   "metadata": {},
   "outputs": [
    {
     "name": "stdout",
     "output_type": "stream",
     "text": [
      "id points columns:12\n",
      "noid points columns:12\n"
     ]
    }
   ],
   "source": [
    "rows, cols = id_points.shape\n",
    "print('id points columns:{}'.format(cols))\n",
    "rows, cols = noid_points.shape\n",
    "print('noid points columns:{}'.format(cols))"
   ]
  },
  {
   "cell_type": "code",
   "execution_count": 11,
   "metadata": {},
   "outputs": [
    {
     "data": {
      "text/html": [
       "<div>\n",
       "<style scoped>\n",
       "    .dataframe tbody tr th:only-of-type {\n",
       "        vertical-align: middle;\n",
       "    }\n",
       "\n",
       "    .dataframe tbody tr th {\n",
       "        vertical-align: top;\n",
       "    }\n",
       "\n",
       "    .dataframe thead th {\n",
       "        text-align: right;\n",
       "    }\n",
       "</style>\n",
       "<table border=\"1\" class=\"dataframe\">\n",
       "  <thead>\n",
       "    <tr style=\"text-align: right;\">\n",
       "      <th></th>\n",
       "      <th>Number</th>\n",
       "      <th>Date</th>\n",
       "      <th>Time_code</th>\n",
       "      <th>Time</th>\n",
       "      <th>Name</th>\n",
       "      <th>ID_Type</th>\n",
       "      <th>Photo</th>\n",
       "      <th>S_F_R</th>\n",
       "      <th>Number.1</th>\n",
       "      <th>H_V</th>\n",
       "      <th>D_T_C</th>\n",
       "      <th>geometry</th>\n",
       "    </tr>\n",
       "  </thead>\n",
       "  <tbody>\n",
       "    <tr>\n",
       "      <th>0</th>\n",
       "      <td>2</td>\n",
       "      <td>12/03/2009</td>\n",
       "      <td>1</td>\n",
       "      <td>09:23</td>\n",
       "      <td>FRANKIE</td>\n",
       "      <td>HEAD</td>\n",
       "      <td>IMG_0002/3</td>\n",
       "      <td>F</td>\n",
       "      <td>NaN</td>\n",
       "      <td>None</td>\n",
       "      <td>None</td>\n",
       "      <td>POINT (-87.31372 20.39438)</td>\n",
       "    </tr>\n",
       "    <tr>\n",
       "      <th>1</th>\n",
       "      <td>4</td>\n",
       "      <td>12/03/2009</td>\n",
       "      <td>1</td>\n",
       "      <td>09:25</td>\n",
       "      <td>ANGEL</td>\n",
       "      <td>HEAD</td>\n",
       "      <td>IMG_0004</td>\n",
       "      <td>R</td>\n",
       "      <td>NaN</td>\n",
       "      <td>None</td>\n",
       "      <td>None</td>\n",
       "      <td>POINT (-87.31385 20.39470)</td>\n",
       "    </tr>\n",
       "    <tr>\n",
       "      <th>2</th>\n",
       "      <td>5</td>\n",
       "      <td>12/03/2009</td>\n",
       "      <td>1</td>\n",
       "      <td>09:25</td>\n",
       "      <td>AMAPOLA</td>\n",
       "      <td>HEAD</td>\n",
       "      <td>IMG_0005</td>\n",
       "      <td>R</td>\n",
       "      <td>NaN</td>\n",
       "      <td>None</td>\n",
       "      <td>None</td>\n",
       "      <td>POINT (-87.31385 20.39470)</td>\n",
       "    </tr>\n",
       "    <tr>\n",
       "      <th>3</th>\n",
       "      <td>6</td>\n",
       "      <td>12/03/2009</td>\n",
       "      <td>1</td>\n",
       "      <td>09:34</td>\n",
       "      <td>LIZ</td>\n",
       "      <td>HEAD</td>\n",
       "      <td>IMG_0007/8</td>\n",
       "      <td>F</td>\n",
       "      <td>10.0</td>\n",
       "      <td>V/H</td>\n",
       "      <td>None</td>\n",
       "      <td>POINT (-87.31383 20.39420)</td>\n",
       "    </tr>\n",
       "    <tr>\n",
       "      <th>4</th>\n",
       "      <td>7</td>\n",
       "      <td>12/03/2009</td>\n",
       "      <td>1</td>\n",
       "      <td>09:38</td>\n",
       "      <td>ZIGGY</td>\n",
       "      <td>HEAD</td>\n",
       "      <td>IMG_0011</td>\n",
       "      <td>S</td>\n",
       "      <td>NaN</td>\n",
       "      <td>None</td>\n",
       "      <td>None</td>\n",
       "      <td>POINT (-87.31328 20.39377)</td>\n",
       "    </tr>\n",
       "    <tr>\n",
       "      <th>...</th>\n",
       "      <td>...</td>\n",
       "      <td>...</td>\n",
       "      <td>...</td>\n",
       "      <td>...</td>\n",
       "      <td>...</td>\n",
       "      <td>...</td>\n",
       "      <td>...</td>\n",
       "      <td>...</td>\n",
       "      <td>...</td>\n",
       "      <td>...</td>\n",
       "      <td>...</td>\n",
       "      <td>...</td>\n",
       "    </tr>\n",
       "    <tr>\n",
       "      <th>620</th>\n",
       "      <td>812</td>\n",
       "      <td>02/07/2009</td>\n",
       "      <td>3</td>\n",
       "      <td>17:31</td>\n",
       "      <td>WINSTON</td>\n",
       "      <td>HEAD</td>\n",
       "      <td>IMG_1416</td>\n",
       "      <td>F</td>\n",
       "      <td>NaN</td>\n",
       "      <td>None</td>\n",
       "      <td>None</td>\n",
       "      <td>POINT (-87.31367 20.39415)</td>\n",
       "    </tr>\n",
       "    <tr>\n",
       "      <th>621</th>\n",
       "      <td>813</td>\n",
       "      <td>02/07/2009</td>\n",
       "      <td>3</td>\n",
       "      <td>17:33</td>\n",
       "      <td>LENNON</td>\n",
       "      <td>HEAD</td>\n",
       "      <td>IMG_1417</td>\n",
       "      <td>F</td>\n",
       "      <td>NaN</td>\n",
       "      <td>None</td>\n",
       "      <td>None</td>\n",
       "      <td>POINT (-87.31365 20.39397)</td>\n",
       "    </tr>\n",
       "    <tr>\n",
       "      <th>622</th>\n",
       "      <td>814</td>\n",
       "      <td>02/07/2009</td>\n",
       "      <td>3</td>\n",
       "      <td>17:35</td>\n",
       "      <td>VEX</td>\n",
       "      <td>HEAD</td>\n",
       "      <td>IMG_1419/20</td>\n",
       "      <td>F</td>\n",
       "      <td>NaN</td>\n",
       "      <td>None</td>\n",
       "      <td>None</td>\n",
       "      <td>POINT (-87.31385 20.39407)</td>\n",
       "    </tr>\n",
       "    <tr>\n",
       "      <th>623</th>\n",
       "      <td>815</td>\n",
       "      <td>02/07/2009</td>\n",
       "      <td>3</td>\n",
       "      <td>17:36</td>\n",
       "      <td>RODDY</td>\n",
       "      <td>HEAD</td>\n",
       "      <td>IMG_1421/22</td>\n",
       "      <td>F</td>\n",
       "      <td>2.0</td>\n",
       "      <td>H</td>\n",
       "      <td>None</td>\n",
       "      <td>POINT (-87.31388 20.39413)</td>\n",
       "    </tr>\n",
       "    <tr>\n",
       "      <th>624</th>\n",
       "      <td>816</td>\n",
       "      <td>02/07/2009</td>\n",
       "      <td>3</td>\n",
       "      <td>17:39</td>\n",
       "      <td>DAMA</td>\n",
       "      <td>L PROFILE</td>\n",
       "      <td>IMG_1423-25</td>\n",
       "      <td>F</td>\n",
       "      <td>NaN</td>\n",
       "      <td>None</td>\n",
       "      <td>None</td>\n",
       "      <td>POINT (-87.31428 20.39472)</td>\n",
       "    </tr>\n",
       "  </tbody>\n",
       "</table>\n",
       "<p>625 rows × 12 columns</p>\n",
       "</div>"
      ],
      "text/plain": [
       "     Number        Date  Time_code   Time     Name    ID_Type        Photo  \\\n",
       "0         2  12/03/2009          1  09:23  FRANKIE       HEAD   IMG_0002/3   \n",
       "1         4  12/03/2009          1  09:25    ANGEL       HEAD     IMG_0004   \n",
       "2         5  12/03/2009          1  09:25  AMAPOLA       HEAD     IMG_0005   \n",
       "3         6  12/03/2009          1  09:34      LIZ       HEAD   IMG_0007/8   \n",
       "4         7  12/03/2009          1  09:38    ZIGGY       HEAD     IMG_0011   \n",
       "..      ...         ...        ...    ...      ...        ...          ...   \n",
       "620     812  02/07/2009          3  17:31  WINSTON       HEAD     IMG_1416   \n",
       "621     813  02/07/2009          3  17:33   LENNON       HEAD     IMG_1417   \n",
       "622     814  02/07/2009          3  17:35      VEX       HEAD  IMG_1419/20   \n",
       "623     815  02/07/2009          3  17:36    RODDY       HEAD  IMG_1421/22   \n",
       "624     816  02/07/2009          3  17:39     DAMA  L PROFILE  IMG_1423-25   \n",
       "\n",
       "    S_F_R  Number.1   H_V D_T_C                    geometry  \n",
       "0       F       NaN  None  None  POINT (-87.31372 20.39438)  \n",
       "1       R       NaN  None  None  POINT (-87.31385 20.39470)  \n",
       "2       R       NaN  None  None  POINT (-87.31385 20.39470)  \n",
       "3       F      10.0   V/H  None  POINT (-87.31383 20.39420)  \n",
       "4       S       NaN  None  None  POINT (-87.31328 20.39377)  \n",
       "..    ...       ...   ...   ...                         ...  \n",
       "620     F       NaN  None  None  POINT (-87.31367 20.39415)  \n",
       "621     F       NaN  None  None  POINT (-87.31365 20.39397)  \n",
       "622     F       NaN  None  None  POINT (-87.31385 20.39407)  \n",
       "623     F       2.0     H  None  POINT (-87.31388 20.39413)  \n",
       "624     F       NaN  None  None  POINT (-87.31428 20.39472)  \n",
       "\n",
       "[625 rows x 12 columns]"
      ]
     },
     "execution_count": 11,
     "metadata": {},
     "output_type": "execute_result"
    }
   ],
   "source": [
    "id_points"
   ]
  },
  {
   "cell_type": "code",
   "execution_count": 12,
   "metadata": {},
   "outputs": [
    {
     "data": {
      "text/plain": [
       "0      POINT (-87.31372 20.39438)\n",
       "1      POINT (-87.31385 20.39470)\n",
       "2      POINT (-87.31385 20.39470)\n",
       "3      POINT (-87.31383 20.39420)\n",
       "4      POINT (-87.31328 20.39377)\n",
       "                  ...            \n",
       "620    POINT (-87.31367 20.39415)\n",
       "621    POINT (-87.31365 20.39397)\n",
       "622    POINT (-87.31385 20.39407)\n",
       "623    POINT (-87.31388 20.39413)\n",
       "624    POINT (-87.31428 20.39472)\n",
       "Name: geometry, Length: 625, dtype: geometry"
      ]
     },
     "execution_count": 12,
     "metadata": {},
     "output_type": "execute_result"
    }
   ],
   "source": [
    "id_points.geometry"
   ]
  },
  {
   "cell_type": "code",
   "execution_count": 20,
   "metadata": {},
   "outputs": [
    {
     "name": "stdout",
     "output_type": "stream",
     "text": [
      "id points FRANKIE:114\n"
     ]
    }
   ],
   "source": [
    "id_points[id_points['Name'] == 'FRANKIE']\n",
    "print('id points FRANKIE:{}'.format(rows))"
   ]
  },
  {
   "cell_type": "code",
   "execution_count": 29,
   "metadata": {},
   "outputs": [
    {
     "name": "stdout",
     "output_type": "stream",
     "text": [
      "FRANKIE foraging:114\n"
     ]
    }
   ],
   "source": [
    "#id_points[id_points['Name'] == 'FRANKIE']\n",
    "#FRANKIE = id_points[id_points['Name'] == 'FRANKIE']\n",
    "#FRANKIE[id_points ['D_T_C'] == 'D']\n",
    "#print('FRANKIE foraging:{}'.format(rows))"
   ]
  },
  {
   "cell_type": "code",
   "execution_count": 15,
   "metadata": {},
   "outputs": [
    {
     "name": "stdout",
     "output_type": "stream",
     "text": [
      "0    False\n",
      "1    False\n",
      "2    False\n",
      "3    False\n",
      "4    False\n",
      "Name: D_T_C, dtype: bool\n",
      "0    False\n",
      "1    False\n",
      "2    False\n",
      "3    False\n",
      "4    False\n",
      "Name: D_T_C, dtype: bool\n",
      "0    False\n",
      "1    False\n",
      "2    False\n",
      "3    False\n",
      "4    False\n",
      "Name: D_T_C, dtype: bool\n",
      "Number       5\n",
      "Date         5\n",
      "Time_code    5\n",
      "Time         5\n",
      "Name         5\n",
      "ID_Type      5\n",
      "Photo        5\n",
      "S_F_R        5\n",
      "Number.1     5\n",
      "H_V          2\n",
      "D_T_C        5\n",
      "geometry     5\n",
      "dtype: int64\n",
      "Number       4\n",
      "Date         4\n",
      "Time_code    4\n",
      "Time         4\n",
      "Name         4\n",
      "ID_Type      4\n",
      "Photo        4\n",
      "S_F_R        4\n",
      "Number.1     4\n",
      "H_V          4\n",
      "D_T_C        4\n",
      "geometry     4\n",
      "dtype: int64\n",
      "Number       2\n",
      "Date         2\n",
      "Time_code    2\n",
      "Time         2\n",
      "Name         2\n",
      "ID_Type      2\n",
      "Photo        2\n",
      "S_F_R        2\n",
      "Number.1     2\n",
      "H_V          2\n",
      "D_T_C        2\n",
      "geometry     2\n",
      "dtype: int64\n",
      "0     True\n",
      "1    False\n",
      "2    False\n",
      "3     True\n",
      "4    False\n",
      "Name: S_F_R, dtype: bool\n",
      "0    False\n",
      "1    False\n",
      "2    False\n",
      "3    False\n",
      "4     True\n",
      "Name: S_F_R, dtype: bool\n",
      "0    False\n",
      "1     True\n",
      "2     True\n",
      "3    False\n",
      "4    False\n",
      "Name: S_F_R, dtype: bool\n",
      "Number       395\n",
      "Date         395\n",
      "Time_code    395\n",
      "Time         395\n",
      "Name         395\n",
      "ID_Type      393\n",
      "Photo        385\n",
      "S_F_R        395\n",
      "Number.1      33\n",
      "H_V           27\n",
      "D_T_C         10\n",
      "geometry     395\n",
      "dtype: int64\n",
      "Number       187\n",
      "Date         187\n",
      "Time_code    187\n",
      "Time         187\n",
      "Name         187\n",
      "ID_Type      185\n",
      "Photo        183\n",
      "S_F_R        187\n",
      "Number.1      15\n",
      "H_V           12\n",
      "D_T_C          3\n",
      "geometry     187\n",
      "dtype: int64\n",
      "Number       32\n",
      "Date         32\n",
      "Time_code    32\n",
      "Time         32\n",
      "Name         32\n",
      "ID_Type      32\n",
      "Photo        32\n",
      "S_F_R        32\n",
      "Number.1      0\n",
      "H_V           0\n",
      "D_T_C         0\n",
      "geometry     32\n",
      "dtype: int64\n",
      "0    False\n",
      "1    False\n",
      "2    False\n",
      "3    False\n",
      "4    False\n",
      "Name: Time_code, dtype: bool\n",
      "0    False\n",
      "1    False\n",
      "2    False\n",
      "3    False\n",
      "4    False\n",
      "Name: Time_code, dtype: bool\n",
      "0    False\n",
      "1    False\n",
      "2    False\n",
      "3    False\n",
      "4    False\n",
      "Name: Time_code, dtype: bool\n",
      "<bound method DataFrame.count of Empty GeoDataFrame\n",
      "Columns: [Number, Date, Time_code, Time, Name, ID_Type, Photo, S_F_R, Number.1, H_V, D_T_C, geometry]\n",
      "Index: []>\n",
      "<bound method DataFrame.count of Empty GeoDataFrame\n",
      "Columns: [Number, Date, Time_code, Time, Name, ID_Type, Photo, S_F_R, Number.1, H_V, D_T_C, geometry]\n",
      "Index: []>\n",
      "<bound method DataFrame.count of Empty GeoDataFrame\n",
      "Columns: [Number, Date, Time_code, Time, Name, ID_Type, Photo, S_F_R, Number.1, H_V, D_T_C, geometry]\n",
      "Index: []>\n"
     ]
    },
    {
     "data": {
      "text/plain": [
       "(None, None, None)"
      ]
     },
     "execution_count": 15,
     "metadata": {},
     "output_type": "execute_result"
    }
   ],
   "source": [
    "is_diving = id_points['D_T_C'] =='D'\n",
    "is_touching = id_points['D_T_C'] =='T'\n",
    "is_chasing = id_points['D_T_C'] =='C'\n",
    "\n",
    "diving = id_points[is_diving]\n",
    "touching = id_points[is_touching]\n",
    "chasing = id_points[is_chasing]\n",
    "\n",
    "is_forage = id_points['S_F_R'] =='F'\n",
    "is_swim = id_points['S_F_R'] =='S'\n",
    "is_rest = id_points['S_F_R'] =='R'\n",
    "\n",
    "forage = id_points[is_forage]\n",
    "swim = id_points[is_swim]\n",
    "rest = id_points[is_rest]\n",
    "\n",
    "is_time1 = id_points['Time_code'] =='1'\n",
    "is_time2 = id_points['Time_code'] =='2'\n",
    "is_time3 = id_points['Time_code'] =='3'\n",
    "time1 = id_points[is_time1]\n",
    "time2 = id_points[is_time2]\n",
    "time3 = id_points[is_time3]\n",
    "\n",
    "print(is_diving.head()), print(is_chasing.head()), print(is_touching.head()), \n",
    "print(diving.count()), print(touching.count()), print(chasing.count())\n",
    "\n",
    "print(is_forage.head()), print(is_swim.head()), print(is_rest.head()),\n",
    "print(forage.count()), print(swim.count()), print(rest.count())\n",
    "\n",
    "print(is_time1.head()), print(is_time2.head()), print(is_time3.head()),\n",
    "print(time1.count), print(time2.count), print(time3.count)\n"
   ]
  },
  {
   "cell_type": "code",
   "execution_count": 16,
   "metadata": {},
   "outputs": [
    {
     "name": "stdout",
     "output_type": "stream",
     "text": [
      "Number       5\n",
      "Date         5\n",
      "Time_code    5\n",
      "Time         5\n",
      "Name         5\n",
      "ID_Type      5\n",
      "Photo        5\n",
      "S_F_R        5\n",
      "Number.1     5\n",
      "H_V          2\n",
      "D_T_C        5\n",
      "geometry     5\n",
      "dtype: int64\n",
      "Number       4\n",
      "Date         4\n",
      "Time_code    4\n",
      "Time         4\n",
      "Name         4\n",
      "ID_Type      4\n",
      "Photo        4\n",
      "S_F_R        4\n",
      "Number.1     4\n",
      "H_V          4\n",
      "D_T_C        4\n",
      "geometry     4\n",
      "dtype: int64\n",
      "Number       2\n",
      "Date         2\n",
      "Time_code    2\n",
      "Time         2\n",
      "Name         2\n",
      "ID_Type      2\n",
      "Photo        2\n",
      "S_F_R        2\n",
      "Number.1     2\n",
      "H_V          2\n",
      "D_T_C        2\n",
      "geometry     2\n",
      "dtype: int64\n",
      "Number       395\n",
      "Date         395\n",
      "Time_code    395\n",
      "Time         395\n",
      "Name         395\n",
      "ID_Type      393\n",
      "Photo        385\n",
      "S_F_R        395\n",
      "Number.1      33\n",
      "H_V           27\n",
      "D_T_C         10\n",
      "geometry     395\n",
      "dtype: int64\n",
      "Number       187\n",
      "Date         187\n",
      "Time_code    187\n",
      "Time         187\n",
      "Name         187\n",
      "ID_Type      185\n",
      "Photo        183\n",
      "S_F_R        187\n",
      "Number.1      15\n",
      "H_V           12\n",
      "D_T_C          3\n",
      "geometry     187\n",
      "dtype: int64\n",
      "Number       32\n",
      "Date         32\n",
      "Time_code    32\n",
      "Time         32\n",
      "Name         32\n",
      "ID_Type      32\n",
      "Photo        32\n",
      "S_F_R        32\n",
      "Number.1      0\n",
      "H_V           0\n",
      "D_T_C         0\n",
      "geometry     32\n",
      "dtype: int64\n",
      "Number       0\n",
      "Date         0\n",
      "Time_code    0\n",
      "Time         0\n",
      "Name         0\n",
      "ID_Type      0\n",
      "Photo        0\n",
      "S_F_R        0\n",
      "Number.1     0\n",
      "H_V          0\n",
      "D_T_C        0\n",
      "geometry     0\n",
      "dtype: int64\n",
      "Number       0\n",
      "Date         0\n",
      "Time_code    0\n",
      "Time         0\n",
      "Name         0\n",
      "ID_Type      0\n",
      "Photo        0\n",
      "S_F_R        0\n",
      "Number.1     0\n",
      "H_V          0\n",
      "D_T_C        0\n",
      "geometry     0\n",
      "dtype: int64\n",
      "Number       0\n",
      "Date         0\n",
      "Time_code    0\n",
      "Time         0\n",
      "Name         0\n",
      "ID_Type      0\n",
      "Photo        0\n",
      "S_F_R        0\n",
      "Number.1     0\n",
      "H_V          0\n",
      "D_T_C        0\n",
      "geometry     0\n",
      "dtype: int64\n"
     ]
    },
    {
     "data": {
      "text/plain": [
       "(None, None, None, None, None, None, None, None, None)"
      ]
     },
     "execution_count": 16,
     "metadata": {},
     "output_type": "execute_result"
    }
   ],
   "source": [
    "print(diving.count()), print(touching.count()), print(chasing.count()), print(forage.count()), print(swim.count()), print(rest.count()), print(time1.count()), print(time2.count()), print(time3.count())"
   ]
  },
  {
   "cell_type": "code",
   "execution_count": null,
   "metadata": {},
   "outputs": [],
   "source": []
  },
  {
   "cell_type": "code",
   "execution_count": 17,
   "metadata": {},
   "outputs": [
    {
     "name": "stdout",
     "output_type": "stream",
     "text": [
      "0    False\n",
      "1    False\n",
      "2    False\n",
      "3    False\n",
      "4    False\n",
      "Name: Photo, dtype: bool\n"
     ]
    }
   ],
   "source": [
    "noid_points = noid_points['Photo'] == 'IMG*'\n",
    "print(noid_points.head())"
   ]
  },
  {
   "cell_type": "code",
   "execution_count": null,
   "metadata": {},
   "outputs": [],
   "source": []
  },
  {
   "cell_type": "code",
   "execution_count": 18,
   "metadata": {
    "scrolled": true
   },
   "outputs": [
    {
     "ename": "ImportError",
     "evalue": "DLL load failed: The specified procedure could not be found.",
     "output_type": "error",
     "traceback": [
      "\u001b[1;31m---------------------------------------------------------------------------\u001b[0m",
      "\u001b[1;31mImportError\u001b[0m                               Traceback (most recent call last)",
      "\u001b[1;32m<ipython-input-18-7f58d6cca718>\u001b[0m in \u001b[0;36m<module>\u001b[1;34m\u001b[0m\n\u001b[1;32m----> 1\u001b[1;33m \u001b[1;32mimport\u001b[0m \u001b[0marcpy\u001b[0m\u001b[1;33m\u001b[0m\u001b[1;33m\u001b[0m\u001b[0m\n\u001b[0m\u001b[0;32m      2\u001b[0m \u001b[0marcpy\u001b[0m\u001b[1;33m.\u001b[0m\u001b[0menv\u001b[0m\u001b[1;33m.\u001b[0m\u001b[0mworkspace\u001b[0m \u001b[1;33m=\u001b[0m \u001b[1;34m\"C:/Users/jrllo/OneDrive/Documents/GitHub/egm722/Assignment/data/turtle/turtle_check.gdb\"\u001b[0m\u001b[1;33m\u001b[0m\u001b[1;33m\u001b[0m\u001b[0m\n",
      "\u001b[1;32m~\\AppData\\Local\\Programs\\ArcGIS\\Pro\\Resources\\ArcPy\\arcpy\\__init__.py\u001b[0m in \u001b[0;36m<module>\u001b[1;34m\u001b[0m\n\u001b[0;32m     72\u001b[0m     \u001b[1;32mimport\u001b[0m \u001b[0m_initagsenv\u001b[0m\u001b[1;33m\u001b[0m\u001b[1;33m\u001b[0m\u001b[0m\n\u001b[0;32m     73\u001b[0m \u001b[1;33m\u001b[0m\u001b[0m\n\u001b[1;32m---> 74\u001b[1;33m \u001b[1;32mfrom\u001b[0m \u001b[0marcpy\u001b[0m\u001b[1;33m.\u001b[0m\u001b[0mgeoprocessing\u001b[0m \u001b[1;32mimport\u001b[0m \u001b[0mgp\u001b[0m\u001b[1;33m\u001b[0m\u001b[1;33m\u001b[0m\u001b[0m\n\u001b[0m\u001b[0;32m     75\u001b[0m \u001b[1;32mfrom\u001b[0m \u001b[0marcpy\u001b[0m\u001b[1;33m.\u001b[0m\u001b[0mgeoprocessing\u001b[0m \u001b[1;32mimport\u001b[0m \u001b[0menv\u001b[0m\u001b[1;33m\u001b[0m\u001b[1;33m\u001b[0m\u001b[0m\n\u001b[0;32m     76\u001b[0m \u001b[1;32mfrom\u001b[0m \u001b[0marcpy\u001b[0m\u001b[1;33m.\u001b[0m\u001b[0mgeoprocessing\u001b[0m\u001b[1;33m.\u001b[0m\u001b[0m_base\u001b[0m \u001b[1;32mimport\u001b[0m \u001b[0mgptooldoc\u001b[0m \u001b[1;32mas\u001b[0m \u001b[0m_gptooldoc\u001b[0m\u001b[1;33m\u001b[0m\u001b[1;33m\u001b[0m\u001b[0m\n",
      "\u001b[1;32m~\\AppData\\Local\\Programs\\ArcGIS\\Pro\\Resources\\ArcPy\\arcpy\\geoprocessing\\__init__.py\u001b[0m in \u001b[0;36m<module>\u001b[1;34m\u001b[0m\n\u001b[0;32m     12\u001b[0m \u001b[1;31m#\u001b[0m\u001b[1;33m\u001b[0m\u001b[1;33m\u001b[0m\u001b[1;33m\u001b[0m\u001b[0m\n\u001b[0;32m     13\u001b[0m \u001b[1;31m#email: contracts@esri.com\u001b[0m\u001b[1;33m\u001b[0m\u001b[1;33m\u001b[0m\u001b[1;33m\u001b[0m\u001b[0m\n\u001b[1;32m---> 14\u001b[1;33m \u001b[1;32mfrom\u001b[0m \u001b[1;33m.\u001b[0m\u001b[0m_base\u001b[0m \u001b[1;32mimport\u001b[0m \u001b[1;33m*\u001b[0m\u001b[1;33m\u001b[0m\u001b[1;33m\u001b[0m\u001b[0m\n\u001b[0m",
      "\u001b[1;32m~\\AppData\\Local\\Programs\\ArcGIS\\Pro\\Resources\\ArcPy\\arcpy\\geoprocessing\\_base.py\u001b[0m in \u001b[0;36m<module>\u001b[1;34m\u001b[0m\n\u001b[0;32m     12\u001b[0m \u001b[1;31m#\u001b[0m\u001b[1;33m\u001b[0m\u001b[1;33m\u001b[0m\u001b[1;33m\u001b[0m\u001b[0m\n\u001b[0;32m     13\u001b[0m \u001b[1;31m#email: contracts@esri.com\u001b[0m\u001b[1;33m\u001b[0m\u001b[1;33m\u001b[0m\u001b[1;33m\u001b[0m\u001b[0m\n\u001b[1;32m---> 14\u001b[1;33m \u001b[1;32mimport\u001b[0m \u001b[0marcgisscripting\u001b[0m\u001b[1;33m\u001b[0m\u001b[1;33m\u001b[0m\u001b[0m\n\u001b[0m\u001b[0;32m     15\u001b[0m \u001b[1;32mimport\u001b[0m \u001b[0mfunctools\u001b[0m\u001b[1;33m\u001b[0m\u001b[1;33m\u001b[0m\u001b[0m\n\u001b[0;32m     16\u001b[0m \u001b[1;33m\u001b[0m\u001b[0m\n",
      "\u001b[1;31mImportError\u001b[0m: DLL load failed: The specified procedure could not be found."
     ]
    }
   ],
   "source": [
    "import arcpy\n",
    "arcpy.env.workspace = \"C:/Users/jrllo/OneDrive/Documents/GitHub/egm722/Assignment/data/turtle/turtle_check.gdb\""
   ]
  },
  {
   "cell_type": "code",
   "execution_count": null,
   "metadata": {},
   "outputs": [],
   "source": []
  },
  {
   "cell_type": "code",
   "execution_count": null,
   "metadata": {},
   "outputs": [],
   "source": []
  },
  {
   "cell_type": "code",
   "execution_count": null,
   "metadata": {},
   "outputs": [],
   "source": [
    "# Name: Near.py\n",
    "# Description: Finds nearest features from input feature class to near feature class.\n",
    "\n",
    "import arcpy\n",
    "\n",
    "# Set workspace environment\n",
    "arcpy.env.workspace = \"C:/data/city.gdb\"\n",
    "\n",
    "try:\n",
    "    # set local variables\n",
    "    in_features = \"houses\"\n",
    "    near_features = \"parks\"\n",
    "    \n",
    "    # find features only within search radius\n",
    "    search_radius = \"5000 Meters\"\n",
    "    \n",
    "    # find location nearest features\n",
    "    location = \"LOCATION\"\n",
    "    \n",
    "    # avoid getting angle of neares features\n",
    "    angle = \"NO_ANGLE\"\n",
    "    \n",
    "    # execute the function\n",
    "    arcpy.Near_analysis(in_features, near_features, search_radius, location, angle)\n",
    "    \n",
    "    # get geoprocessing messages\n",
    "    print(arcpy.GetMessages())\n",
    "\n",
    "except arcpy.ExecuteError:\n",
    "    print(arcpy.GetMessages(2))\n",
    "    \n",
    "except Exception as err:\n",
    "    print(err.args[0])"
   ]
  },
  {
   "cell_type": "code",
   "execution_count": null,
   "metadata": {},
   "outputs": [],
   "source": []
  },
  {
   "cell_type": "code",
   "execution_count": null,
   "metadata": {},
   "outputs": [],
   "source": [
    "time2_f = forage swim rest diving touching chasing time1 time2 time3 [tod2]\n",
    "print(tod2_f.head())"
   ]
  },
  {
   "cell_type": "code",
   "execution_count": null,
   "metadata": {},
   "outputs": [],
   "source": [
    "id_points[id_points['Name'] == 'FRANKIE']"
   ]
  },
  {
   "cell_type": "code",
   "execution_count": null,
   "metadata": {},
   "outputs": [],
   "source": [
    "coral_patch1 = gpd.read_file('coral/corala_poly.shp') \n",
    "coral_patch2 = gpd.read_file('coral/coralb_poly.shp')\n",
    "coral_patch3 = gpd.read_file('coral/coralc_poly.shp')"
   ]
  },
  {
   "cell_type": "code",
   "execution_count": null,
   "metadata": {},
   "outputs": [],
   "source": [
    "frankie_clip = gpd.read_file('turtle/id_points.shp')\n",
    "frankieid_points[id_points['Name'] == 'FRANKIE']\n",
    "frankie_clip.groupby(['Name', 'S_F_R', 'H_V', 'D_T_C'])\n",
    "clipped = []\n",
    "for frankie in id_points['Name'].unique():\n",
    "    tmp_clip = gpd.clip(coral_patch1, id_points[id_points['Name'] == FRANKIE])\n",
    "    #for i, row in tmp_clip.iterrows():\n",
    "        "
   ]
  },
  {
   "cell_type": "code",
   "execution_count": null,
   "metadata": {},
   "outputs": [],
   "source": []
  }
 ],
 "metadata": {
  "kernelspec": {
   "display_name": "Python 3",
   "language": "python",
   "name": "python3"
  },
  "language_info": {
   "codemirror_mode": {
    "name": "ipython",
    "version": 3
   },
   "file_extension": ".py",
   "mimetype": "text/x-python",
   "name": "python",
   "nbconvert_exporter": "python",
   "pygments_lexer": "ipython3",
   "version": "3.6.13"
  }
 },
 "nbformat": 4,
 "nbformat_minor": 4
}
