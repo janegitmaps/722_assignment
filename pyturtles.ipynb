{
 "cells": [
  {
   "cell_type": "code",
   "execution_count": null,
   "metadata": {},
   "outputs": [],
   "source": [
    "import sys\n",
    "print (sys.version) #this should read as 3.6.13 |Anaconda, Inc.| (default, Mar 16 2021, 11:37:27) [MSC v.1916 64 bit (AMD64)]\n",
    "                    #if not return to anacond environment installation steps"
   ]
  },
  {
   "cell_type": "code",
   "execution_count": null,
   "metadata": {},
   "outputs": [],
   "source": [
    "# this lets us use the figures interactively\n",
    "%matplotlib notebook\n",
    "\n",
    "import geopandas as gpd\n",
    "from geopandas import GeoDataFrame\n",
    "\n",
    "import pandas as pd\n",
    "from shapely.geometry import Point\n",
    "from shapely.geometry import Polygon\n",
    "\n",
    "import json\n",
    "\n",
    "import numpy as np "
   ]
  },
  {
   "cell_type": "code",
   "execution_count": null,
   "metadata": {},
   "outputs": [],
   "source": [
    "id_data = pd.read_csv('turtle/id_data.txt')\n",
    "noid_data = pd.read_csv('turtle/noid_data.txt')\n",
    "\n",
    "id_data.columns, noid_data.columns"
   ]
  },
  {
   "cell_type": "code",
   "execution_count": null,
   "metadata": {},
   "outputs": [],
   "source": [
    "#pd.options.display.max_rows = 999\n",
    "#id_data.LONG"
   ]
  },
  {
   "cell_type": "code",
   "execution_count": null,
   "metadata": {},
   "outputs": [],
   "source": [
    "id_data['geometry'] = list(zip(id_data['LONG'], id_data['LAT']))\n",
    "id_data['geometry'] = id_data['geometry'].apply(Point)\n",
    "noid_data['geometry'] = list(zip(id_data['LONG'], noid_data['LAT']))\n",
    "noid_data['geometry'] = noid_data['geometry'].apply(Point)"
   ]
  },
  {
   "cell_type": "code",
   "execution_count": null,
   "metadata": {},
   "outputs": [],
   "source": []
  },
  {
   "cell_type": "code",
   "execution_count": null,
   "metadata": {},
   "outputs": [],
   "source": [
    "id_gdf = gpd.GeoDataFrame(id_data)\n",
    "id_gdf.set_crs(\"EPSG:32616\", inplace=True)\n",
    "id_gdf = id_gdf.drop(['LONG', 'LAT'], axis=1)\n",
    "noid_gdf = gpd.GeoDataFrame(noid_data)\n",
    "noid_gdf.set_crs(\"EPSG:32616\", inplace=True)\n",
    "noid_gdf = noid_gdf.drop(['LONG', 'LAT'], axis=1)\n"
   ]
  },
  {
   "cell_type": "code",
   "execution_count": null,
   "metadata": {},
   "outputs": [],
   "source": [
    "id_gdf.crs, noid_gdf.crs"
   ]
  },
  {
   "cell_type": "code",
   "execution_count": null,
   "metadata": {},
   "outputs": [],
   "source": [
    "id_gdf.to_file('turtle/id_points.shp') #save the GeoDataFrame as a new .shp file\n",
    "noid_gdf.to_file('turtle/noid_points.shp')\n",
    "\n",
    "rows, cols = id_gdf.shape #display total number of rows\n",
    "print('id_gdf Number of indentified turtle sightings:{}'.format(rows))\n",
    "rows, cols = noid_gdf.shape\n",
    "print('noid_gdf Number of unidentified turtle sightings:{}'.format(rows))"
   ]
  },
  {
   "cell_type": "code",
   "execution_count": null,
   "metadata": {},
   "outputs": [],
   "source": [
    "id_points = gpd.read_file('turtle/id_points.shp') #start work with the shape file\n",
    "noid_points = gpd.read_file('turtle/noid_points.shp')"
   ]
  },
  {
   "cell_type": "code",
   "execution_count": null,
   "metadata": {},
   "outputs": [],
   "source": [
    "rows, cols = id_points.shape\n",
    "print('id points columns:{}'.format(cols))\n",
    "rows, cols = noid_points.shape\n",
    "print('noid points columns:{}'.format(cols))"
   ]
  },
  {
   "cell_type": "code",
   "execution_count": null,
   "metadata": {},
   "outputs": [],
   "source": [
    "id_points"
   ]
  },
  {
   "cell_type": "code",
   "execution_count": null,
   "metadata": {},
   "outputs": [],
   "source": [
    "id_points.geometry"
   ]
  },
  {
   "cell_type": "code",
   "execution_count": null,
   "metadata": {},
   "outputs": [],
   "source": [
    "id_points[id_points['Name'] == 'FRANKIE']\n",
    "print('id points FRANKIE:{}'.format(rows))"
   ]
  },
  {
   "cell_type": "code",
   "execution_count": null,
   "metadata": {},
   "outputs": [],
   "source": [
    "#id_points[id_points['Name'] == 'FRANKIE']\n",
    "#FRANKIE = id_points[id_points['Name'] == 'FRANKIE']\n",
    "#FRANKIE[id_points ['D_T_C'] == 'D']\n",
    "#print('FRANKIE foraging:{}'.format(rows))"
   ]
  },
  {
   "cell_type": "code",
   "execution_count": null,
   "metadata": {},
   "outputs": [],
   "source": [
    "is_diving = id_points['D_T_C'] =='D'\n",
    "is_touching = id_points['D_T_C'] =='T'\n",
    "is_chasing = id_points['D_T_C'] =='C'\n",
    "\n",
    "diving = id_points[is_diving]\n",
    "touching = id_points[is_touching]\n",
    "chasing = id_points[is_chasing]\n",
    "\n",
    "is_forage = id_points['S_F_R'] =='F'\n",
    "is_swim = id_points['S_F_R'] =='S'\n",
    "is_rest = id_points['S_F_R'] =='R'\n",
    "\n",
    "forage = id_points[is_forage]\n",
    "swim = id_points[is_swim]\n",
    "rest = id_points[is_rest]\n",
    "\n",
    "is_time1 = id_points['Time_code'] =='1'\n",
    "is_time2 = id_points['Time_code'] =='2'\n",
    "is_time3 = id_points['Time_code'] =='3'\n",
    "time1 = id_points[is_time1]\n",
    "time2 = id_points[is_time2]\n",
    "time3 = id_points[is_time3]\n",
    "\n",
    "print(is_diving.head()), print(is_chasing.head()), print(is_touching.head()), \n",
    "print(diving.count()), print(touching.count()), print(chasing.count())\n",
    "\n",
    "print(is_forage.head()), print(is_swim.head()), print(is_rest.head()),\n",
    "print(forage.count()), print(swim.count()), print(rest.count())\n",
    "\n",
    "print(is_time1.head()), print(is_time2.head()), print(is_time3.head()),\n",
    "print(time1.count), print(time2.count), print(time3.count)\n"
   ]
  },
  {
   "cell_type": "code",
   "execution_count": null,
   "metadata": {},
   "outputs": [],
   "source": [
    "print(diving.count()), print(touching.count()), print(chasing.count()), print(forage.count()), print(swim.count()), print(rest.count()), print(time1.count()), print(time2.count()), print(time3.count())"
   ]
  },
  {
   "cell_type": "code",
   "execution_count": null,
   "metadata": {},
   "outputs": [],
   "source": []
  },
  {
   "cell_type": "code",
   "execution_count": null,
   "metadata": {},
   "outputs": [],
   "source": [
    "noid_points = noid_points['Photo'] == 'IMG*'\n",
    "print(noid_points.head())"
   ]
  },
  {
   "cell_type": "code",
   "execution_count": null,
   "metadata": {},
   "outputs": [],
   "source": []
  },
  {
   "cell_type": "code",
   "execution_count": null,
   "metadata": {
    "scrolled": true
   },
   "outputs": [],
   "source": [
    "import arcpy\n",
    "arcpy.env.workspace = \"C:/Users/jrllo/OneDrive/Documents/GitHub/egm722/Assignment/data/turtle/turtle_check.gdb\""
   ]
  },
  {
   "cell_type": "code",
   "execution_count": null,
   "metadata": {},
   "outputs": [],
   "source": []
  },
  {
   "cell_type": "code",
   "execution_count": null,
   "metadata": {},
   "outputs": [],
   "source": []
  },
  {
   "cell_type": "code",
   "execution_count": null,
   "metadata": {},
   "outputs": [],
   "source": [
    "# Name: Near.py\n",
    "# Description: Finds nearest features from input feature class to near feature class.\n",
    "\n",
    "import arcpy\n",
    "\n",
    "# Set workspace environment\n",
    "arcpy.env.workspace = \"C:/data/city.gdb\"\n",
    "\n",
    "try:\n",
    "    # set local variables\n",
    "    in_features = \"houses\"\n",
    "    near_features = \"parks\"\n",
    "    \n",
    "    # find features only within search radius\n",
    "    search_radius = \"5000 Meters\"\n",
    "    \n",
    "    # find location nearest features\n",
    "    location = \"LOCATION\"\n",
    "    \n",
    "    # avoid getting angle of neares features\n",
    "    angle = \"NO_ANGLE\"\n",
    "    \n",
    "    # execute the function\n",
    "    arcpy.Near_analysis(in_features, near_features, search_radius, location, angle)\n",
    "    \n",
    "    # get geoprocessing messages\n",
    "    print(arcpy.GetMessages())\n",
    "\n",
    "except arcpy.ExecuteError:\n",
    "    print(arcpy.GetMessages(2))\n",
    "    \n",
    "except Exception as err:\n",
    "    print(err.args[0])"
   ]
  },
  {
   "cell_type": "code",
   "execution_count": null,
   "metadata": {},
   "outputs": [],
   "source": []
  },
  {
   "cell_type": "code",
   "execution_count": null,
   "metadata": {},
   "outputs": [],
   "source": [
    "time2_f = forage swim rest diving touching chasing time1 time2 time3 [tod2]\n",
    "print(tod2_f.head())"
   ]
  },
  {
   "cell_type": "code",
   "execution_count": null,
   "metadata": {},
   "outputs": [],
   "source": [
    "id_points[id_points['Name'] == 'FRANKIE']"
   ]
  },
  {
   "cell_type": "code",
   "execution_count": null,
   "metadata": {},
   "outputs": [],
   "source": [
    "coral_patch1 = gpd.read_file('coral/corala_poly.shp') \n",
    "coral_patch2 = gpd.read_file('coral/coralb_poly.shp')\n",
    "coral_patch3 = gpd.read_file('coral/coralc_poly.shp')"
   ]
  },
  {
   "cell_type": "code",
   "execution_count": null,
   "metadata": {},
   "outputs": [],
   "source": [
    "frankie_clip = gpd.read_file('turtle/id_points.shp')\n",
    "frankieid_points[id_points['Name'] == 'FRANKIE']\n",
    "frankie_clip.groupby(['Name', 'S_F_R', 'H_V', 'D_T_C'])\n",
    "clipped = []\n",
    "for frankie in id_points['Name'].unique():\n",
    "    tmp_clip = gpd.clip(coral_patch1, id_points[id_points['Name'] == FRANKIE])\n",
    "    #for i, row in tmp_clip.iterrows():\n",
    "        "
   ]
  },
  {
   "cell_type": "code",
   "execution_count": null,
   "metadata": {},
   "outputs": [],
   "source": []
  }
 ],
 "metadata": {
  "kernelspec": {
   "display_name": "Python 3",
   "language": "python",
   "name": "python3"
  },
  "language_info": {
   "codemirror_mode": {
    "name": "ipython",
    "version": 3
   },
   "file_extension": ".py",
   "mimetype": "text/x-python",
   "name": "python",
   "nbconvert_exporter": "python",
   "pygments_lexer": "ipython3",
   "version": "3.6.13"
  }
 },
 "nbformat": 4,
 "nbformat_minor": 4
}
