{
 "cells": [
  {
   "cell_type": "code",
   "execution_count": 1,
   "metadata": {},
   "outputs": [
    {
     "name": "stdout",
     "output_type": "stream",
     "text": [
      "3.6.13 |Anaconda, Inc.| (default, Mar 16 2021, 11:37:27) [MSC v.1916 64 bit (AMD64)]\n"
     ]
    }
   ],
   "source": [
    "import sys\n",
    "print (sys.version) #this should read as 3.6.13 |Anaconda, Inc.| (default, Mar 16 2021, 11:37:27) [MSC v.1916 64 bit (AMD64)]\n",
    "                    #if not return to anacond environment installation steps"
   ]
  },
  {
   "cell_type": "code",
   "execution_count": 2,
   "metadata": {},
   "outputs": [],
   "source": [
    "# this lets us use the figures interactively\n",
    "%matplotlib notebook\n",
    "import os\n",
    "import geopandas as gpd\n",
    "import pandas as pd\n",
    "import datetime\n",
    "import cartopy.crs as ccrs\n",
    "from cartopy.feature import ShapelyFeature\n",
    "\n",
    "import matplotlib.pyplot as plt\n",
    "import matplotlib.patches as mpatches\n",
    "import matplotlib.lines as mlines\n",
    "\n",
    "\n",
    "import numpy as np \n",
    "from geopandas import GeoDataFrame\n",
    "from shapely.geometry import Point\n",
    "from shapely.geometry import Polygon"
   ]
  },
  {
   "cell_type": "code",
   "execution_count": 3,
   "metadata": {},
   "outputs": [],
   "source": [
    "#generate matplotlib handles to create a legend of the features we put in our map.\n",
    "def generate_handles(labels, colors, edge='k', alpha=1):\n",
    "    lc = len(colors)  # get the length of the color list\n",
    "    handles = []\n",
    "    for i in range(len(labels)):\n",
    "        handles.append(mpatches.Rectangle((0, 0), 1, 1, facecolor=colors[i % lc], edgecolor=edge, alpha=alpha))\n",
    "    return handles\n",
    "\n",
    "# create a scale bar of length 20 km in the upper right corner of the map\n",
    "def scale_bar(ax, location=(0.92, 0.95)):\n",
    "    llx0, llx1, lly0, lly1 = ax.get_extent(ccrs.PlateCarree())\n",
    "    sbllx = (llx1 + llx0) / 2\n",
    "    sblly = lly0 + (lly1 - lly0) * location[1]\n",
    "\n",
    "    tmc = ccrs.TransverseMercator(sbllx, sblly)\n",
    "    x0, x1, y0, y1 = ax.get_extent(tmc)\n",
    "    sbx = x0 + (x1 - x0) * location[0]\n",
    "    sby = y0 + (y1 - y0) * location[1]\n",
    "\n",
    "    plt.plot([sbx, sbx - 20000], [sby, sby], color='k', linewidth=9, transform=tmc)\n",
    "    plt.plot([sbx, sbx - 10000], [sby, sby], color='k', linewidth=6, transform=tmc)\n",
    "    plt.plot([sbx-10000, sbx - 20000], [sby, sby], color='w', linewidth=6, transform=tmc)\n",
    "\n",
    "    plt.text(sbx, sby-4500, '20 km', transform=tmc, fontsize=8)\n",
    "    plt.text(sbx-12500, sby-4500, '10 km', transform=tmc, fontsize=8)\n",
    "    plt.text(sbx-24500, sby-4500, '0 km', transform=tmc, fontsize=8)\n",
    "\n",
    "# load the outline of Northern Ireland for a backdrop\n",
    "#coral1outline = gpd.read_file('data/coral1.shp')\n",
    "#coral2outline = gpd.read_file('data/coral2.shp')\n",
    "#coral3outline = gpd.read_file('data/coral3.shp')\n",
    "#coral4outline = gpd.read_file('data/coral4.shp')\n",
    "#coral5outline = gpd.read_file('data/coral5.shp')\n",
    "#coral6outline = gpd.read_file('data/coral6.shp')\n",
    "plt.ion() #makes plot interactive"
   ]
  },
  {
   "cell_type": "code",
   "execution_count": 4,
   "metadata": {},
   "outputs": [
    {
     "name": "stdout",
     "output_type": "stream",
     "text": [
      "       TYPE IDENT        Y_PROJ        X_PROJ COMMENT  ALTITUDE  DEPTH  \\\n",
      "0  WAYPOINT     1  2.265372e+06  1.094149e+06    None       0.0    0.0   \n",
      "1  WAYPOINT     2  2.265372e+06  1.094142e+06    None       0.0    0.0   \n",
      "2  WAYPOINT     3  2.265373e+06  1.094133e+06    None       0.0    0.0   \n",
      "3  WAYPOINT     4  2.265364e+06  1.094128e+06    None       0.0    0.0   \n",
      "4  WAYPOINT     5  2.265358e+06  1.094125e+06    None       0.0    0.0   \n",
      "\n",
      "                     geometry  \n",
      "0  POINT (-87.31292 20.39392)  \n",
      "1  POINT (-87.31298 20.39392)  \n",
      "2  POINT (-87.31307 20.39393)  \n",
      "3  POINT (-87.31312 20.39385)  \n",
      "4  POINT (-87.31315 20.39380)  \n",
      "       TYPE IDENT        Y_PROJ        X_PROJ COMMENT  ALTITUDE  DEPTH  \\\n",
      "0  WAYPOINT     1  2.265421e+06  1.094123e+06    None       0.0    0.0   \n",
      "1  WAYPOINT     2  2.265423e+06  1.094119e+06    None       0.0    0.0   \n",
      "2  WAYPOINT     4  2.265423e+06  1.094123e+06    None       0.0    0.0   \n",
      "3  WAYPOINT     5  2.265423e+06  1.094130e+06    None       0.0    0.0   \n",
      "4  WAYPOINT     6  2.265427e+06  1.094131e+06    None       0.0    0.0   \n",
      "\n",
      "                     geometry  \n",
      "0  POINT (-87.31315 20.39437)  \n",
      "1  POINT (-87.31318 20.39438)  \n",
      "2  POINT (-87.31315 20.39438)  \n",
      "3  POINT (-87.31308 20.39438)  \n",
      "4  POINT (-87.31307 20.39442)  \n",
      "       TYPE                    IDENT        Y_PROJ        X_PROJ COMMENT  \\\n",
      "0  WAYPOINT  Marca de posición sin t  2.265446e+06  1.094146e+06    None   \n",
      "1  WAYPOINT  Marca de posición sin t  2.265450e+06  1.094152e+06    None   \n",
      "2  WAYPOINT  Marca de posición sin t  2.265452e+06  1.094159e+06    None   \n",
      "3  WAYPOINT  Marca de posición sin t  2.265456e+06  1.094158e+06    None   \n",
      "4  WAYPOINT  Marca de posición sin t  2.265455e+06  1.094141e+06    None   \n",
      "\n",
      "                     geometry  \n",
      "0  POINT (-87.31292 20.39458)  \n",
      "1  POINT (-87.31287 20.39462)  \n",
      "2  POINT (-87.31280 20.39463)  \n",
      "3  POINT (-87.31280 20.39467)  \n",
      "4  POINT (-87.31297 20.39467)  \n"
     ]
    }
   ],
   "source": [
    "corala = gpd.read_file('coral/corala.shp')\n",
    "geometry = [Point(xy) for xy in zip(corala.LONG, corala.LAT)]\n",
    "corala = corala.drop(['LONG', 'LAT'], axis=1)\n",
    "corala_gdf = GeoDataFrame(corala, crs=\"EPSG:32616\", geometry=geometry)\n",
    "\n",
    "print (corala_gdf.head())\n",
    "\n",
    "coralb = gpd.read_file('coral/coralb.shp')\n",
    "geometry = [Point(xy) for xy in zip(coralb.LONG, coralb.LAT)]\n",
    "coralb = coralb.drop(['LONG', 'LAT'], axis=1)\n",
    "coralb_gdf = GeoDataFrame(coralb, crs=\"EPSG:32616\", geometry=geometry)\n",
    "\n",
    "print (coralb_gdf.head())\n",
    "\n",
    "coralc = gpd.read_file('coral/coralc.shp')\n",
    "geometry = [Point(xy) for xy in zip(coralc.LONG, coralc.LAT)]\n",
    "coralc = coralc.drop(['LONG', 'LAT'], axis=1)\n",
    "coralc_gdf = GeoDataFrame(coralc, crs=\"EPSG:32616\", geometry=geometry)\n",
    "\n",
    "print (coralc_gdf.head())"
   ]
  },
  {
   "cell_type": "code",
   "execution_count": 5,
   "metadata": {},
   "outputs": [
    {
     "name": "stdout",
     "output_type": "stream",
     "text": [
      "       TYPE IDENT        Y_PROJ        X_PROJ COMMENT  \\\n",
      "0  WAYPOINT     1  2.265372e+06  1.094149e+06    None   \n",
      "1  WAYPOINT     2  2.265372e+06  1.094142e+06    None   \n",
      "2  WAYPOINT     3  2.265373e+06  1.094133e+06    None   \n",
      "3  WAYPOINT     4  2.265364e+06  1.094128e+06    None   \n",
      "4  WAYPOINT     5  2.265358e+06  1.094125e+06    None   \n",
      "\n",
      "                     geometry  \n",
      "0  POINT (-87.31292 20.39392)  \n",
      "1  POINT (-87.31298 20.39392)  \n",
      "2  POINT (-87.31307 20.39393)  \n",
      "3  POINT (-87.31312 20.39385)  \n",
      "4  POINT (-87.31315 20.39380)  \n"
     ]
    }
   ],
   "source": [
    "corala_gdf = corala_gdf.drop(['ALTITUDE', 'DEPTH'], axis=1)\n",
    "coralb_gdf = coralb_gdf.drop(['ALTITUDE', 'DEPTH'], axis=1)\n",
    "print(corala_gdf.head())"
   ]
  },
  {
   "cell_type": "code",
   "execution_count": 6,
   "metadata": {},
   "outputs": [
    {
     "data": {
      "text/plain": [
       "(<Projected CRS: EPSG:32616>\n",
       " Name: WGS 84 / UTM zone 16N\n",
       " Axis Info [cartesian]:\n",
       " - E[east]: Easting (metre)\n",
       " - N[north]: Northing (metre)\n",
       " Area of Use:\n",
       " - name: World - N hemisphere - 90°W to 84°W - by country\n",
       " - bounds: (-90.0, 0.0, -84.0, 84.0)\n",
       " Coordinate Operation:\n",
       " - name: UTM zone 16N\n",
       " - method: Transverse Mercator\n",
       " Datum: World Geodetic System 1984\n",
       " - Ellipsoid: WGS 84\n",
       " - Prime Meridian: Greenwich,\n",
       " <Projected CRS: EPSG:32616>\n",
       " Name: WGS 84 / UTM zone 16N\n",
       " Axis Info [cartesian]:\n",
       " - E[east]: Easting (metre)\n",
       " - N[north]: Northing (metre)\n",
       " Area of Use:\n",
       " - name: World - N hemisphere - 90°W to 84°W - by country\n",
       " - bounds: (-90.0, 0.0, -84.0, 84.0)\n",
       " Coordinate Operation:\n",
       " - name: UTM zone 16N\n",
       " - method: Transverse Mercator\n",
       " Datum: World Geodetic System 1984\n",
       " - Ellipsoid: WGS 84\n",
       " - Prime Meridian: Greenwich,\n",
       " <Projected CRS: EPSG:32616>\n",
       " Name: WGS 84 / UTM zone 16N\n",
       " Axis Info [cartesian]:\n",
       " - E[east]: Easting (metre)\n",
       " - N[north]: Northing (metre)\n",
       " Area of Use:\n",
       " - name: World - N hemisphere - 90°W to 84°W - by country\n",
       " - bounds: (-90.0, 0.0, -84.0, 84.0)\n",
       " Coordinate Operation:\n",
       " - name: UTM zone 16N\n",
       " - method: Transverse Mercator\n",
       " Datum: World Geodetic System 1984\n",
       " - Ellipsoid: WGS 84\n",
       " - Prime Meridian: Greenwich)"
      ]
     },
     "execution_count": 6,
     "metadata": {},
     "output_type": "execute_result"
    }
   ],
   "source": [
    "#Identified.crs, Unidentified.crs, \n",
    "corala_gdf.crs, coralb_gdf.crs, coralc_gdf.crs #check crs projections for imported files, transform for compatibility as required"
   ]
  },
  {
   "cell_type": "code",
   "execution_count": 7,
   "metadata": {},
   "outputs": [],
   "source": [
    "#coral_join = gpd.sjoin(corala_gdf, coralb_gdf, how='inner', lsuffix='left', rsuffix='right') # perform the spatial join\n",
    "#coral_join # show the joined table"
   ]
  },
  {
   "cell_type": "code",
   "execution_count": 8,
   "metadata": {},
   "outputs": [
    {
     "name": "stdout",
     "output_type": "stream",
     "text": [
      "corala gdf Number of GPS waypoints:101\n",
      "coralb gdf Number of GPS waypoints:99\n",
      "coralc gdf Number of GPS waypoints: 46\n"
     ]
    }
   ],
   "source": [
    "rows, cols = corala_gdf.shape # create GeoDataFrame\n",
    "print('corala gdf Number of GPS waypoints:{}'.format(rows)) \n",
    "rows, cols = coralb_gdf.shape\n",
    "print('coralb gdf Number of GPS waypoints:{}'.format(rows))\n",
    "rows, cols = coralc_gdf.shape\n",
    "print('coralc gdf Number of GPS waypoints: {}'.format(rows))"
   ]
  },
  {
   "cell_type": "code",
   "execution_count": 9,
   "metadata": {},
   "outputs": [
    {
     "data": {
      "text/plain": [
       "(<bound method NDFrame.head of          TYPE IDENT        Y_PROJ        X_PROJ COMMENT  \\\n",
       " 0    WAYPOINT     1  2.265372e+06  1.094149e+06    None   \n",
       " 1    WAYPOINT     2  2.265372e+06  1.094142e+06    None   \n",
       " 2    WAYPOINT     3  2.265373e+06  1.094133e+06    None   \n",
       " 3    WAYPOINT     4  2.265364e+06  1.094128e+06    None   \n",
       " 4    WAYPOINT     5  2.265358e+06  1.094125e+06    None   \n",
       " ..        ...   ...           ...           ...     ...   \n",
       " 96   WAYPOINT    97  2.265279e+06  1.093985e+06    None   \n",
       " 97   WAYPOINT    98  2.265277e+06  1.093993e+06    None   \n",
       " 98   WAYPOINT    99  2.265272e+06  1.094004e+06    None   \n",
       " 99   WAYPOINT   100  2.265273e+06  1.094016e+06    None   \n",
       " 100  WAYPOINT   101  2.265269e+06  1.094025e+06     141   \n",
       " \n",
       "                        geometry  \n",
       " 0    POINT (-87.31292 20.39392)  \n",
       " 1    POINT (-87.31298 20.39392)  \n",
       " 2    POINT (-87.31307 20.39393)  \n",
       " 3    POINT (-87.31312 20.39385)  \n",
       " 4    POINT (-87.31315 20.39380)  \n",
       " ..                          ...  \n",
       " 96   POINT (-87.31452 20.39313)  \n",
       " 97   POINT (-87.31443 20.39312)  \n",
       " 98   POINT (-87.31433 20.39307)  \n",
       " 99   POINT (-87.31422 20.39307)  \n",
       " 100  POINT (-87.31413 20.39303)  \n",
       " \n",
       " [101 rows x 6 columns]>,\n",
       " Index(['TYPE', 'IDENT', 'Y_PROJ', 'X_PROJ', 'COMMENT', 'geometry'], dtype='object'),\n",
       " Index(['TYPE', 'IDENT', 'Y_PROJ', 'X_PROJ', 'COMMENT', 'geometry'], dtype='object'))"
      ]
     },
     "execution_count": 9,
     "metadata": {},
     "output_type": "execute_result"
    }
   ],
   "source": [
    "corala_gdf.head, coralb_gdf.columns, coralc_gdf.columns #prints the column heads, like print(coral.head()) but without any data"
   ]
  },
  {
   "cell_type": "code",
   "execution_count": null,
   "metadata": {},
   "outputs": [],
   "source": []
  },
  {
   "cell_type": "code",
   "execution_count": 10,
   "metadata": {},
   "outputs": [],
   "source": [
    "#corala_gdf = corala_gdf.drop(['ALTITUDE', 'DEPTH'], axis=1)#axis 1 indicts drop columns, 0 is rows\n",
    "#coralb_gdf = coralb_gdf.drop(['ALTITUDE', 'DEPTH'], axis=1)\n",
    "#corala_gdf.head(), coralb_gdf.head()"
   ]
  },
  {
   "cell_type": "code",
   "execution_count": 11,
   "metadata": {},
   "outputs": [
    {
     "data": {
      "text/plain": [
       "0      POINT (-87.31292 20.39392)\n",
       "1      POINT (-87.31298 20.39392)\n",
       "2      POINT (-87.31307 20.39393)\n",
       "3      POINT (-87.31312 20.39385)\n",
       "4      POINT (-87.31315 20.39380)\n",
       "                  ...            \n",
       "96     POINT (-87.31452 20.39313)\n",
       "97     POINT (-87.31443 20.39312)\n",
       "98     POINT (-87.31433 20.39307)\n",
       "99     POINT (-87.31422 20.39307)\n",
       "100    POINT (-87.31413 20.39303)\n",
       "Name: geometry, Length: 101, dtype: geometry"
      ]
     },
     "execution_count": 11,
     "metadata": {},
     "output_type": "execute_result"
    }
   ],
   "source": [
    "corala_gdf.geometry"
   ]
  },
  {
   "cell_type": "code",
   "execution_count": 12,
   "metadata": {},
   "outputs": [
    {
     "name": "stdout",
     "output_type": "stream",
     "text": [
      "0    POLYGON ((-87.31292 -87.31292, -87.31298 -87.3...\n",
      "Name: geometry, dtype: geometry\n"
     ]
    },
    {
     "name": "stderr",
     "output_type": "stream",
     "text": [
      "C:\\Users\\jrllo\\anaconda3\\envs\\quintanaroo\\lib\\site-packages\\pyproj\\crs.py:77: FutureWarning: '+init=<authority>:<code>' syntax is deprecated. '<authority>:<code>' is the preferred initialization method.\n",
      "  return _prepare_from_string(\" \".join(pjargs))\n"
     ]
    }
   ],
   "source": [
    "from shapely.geometry import Polygon\n",
    "lon_point_corala = [-87.312917,- 87.312983, -87.313067, -87.313117, -87.313150, -87.313267, -87.313283, -87.313200, \n",
    "-87.313100, -87.313033, -87.312983, -87.312950, -87.312833, -87.312733, -87.312717, -87.312767, -87.312767, -87.312733, \n",
    "-87.312767, -87.312833, -87.312833, -87.312867, -87.312700, -87.312667, -87.312583, -87.312533, -87.312467, -87.312417,\n",
    "-87.312433, -87.312450, -87.312467, -87.312417, -87.312383, -87.312367, -87.312283, -87.312250, -87.312267, -87.312217,\n",
    "-87.312750, -87.312850, -87.312917, -87.312917, -87.312883, -87.312817, -87.312833, -87.312717, -87.312700, -87.313400,\n",
    "-87.313233, -87.313133, -87.313000, -87.312900, -87.312883, -87.312900, -87.312950, -87.313283, -87.314083, -87.314067,\n",
    "-87.314017, -87.314033, -87.314133, -87.314167, -87.314267, -87.314217, -87.314100, -87.314017, -87.314067, -87.314167,\n",
    "-87.314283, -87.314400, -87.314433, -87.314533, -87.314567, -87.314617, -87.314633, -87.314650, -87.314717, -87.314717,\n",
    "-87.314733, -87.314800, -87.314933, -87.315133, -87.315317, -87.315433, -87.315517, -87.315600, -87.315650, -87.315633,\n",
    "-87.315567, -87.315467, -87.315400, -87.315300, -87.314967, -87.314850, -87.314733, -87.314583, -87.314517, -87.314433,\n",
    "-87.314333, -87.314217, -87.314133]\n",
    "lat_point_corala = [20.393917, 20.393917, 20.393933, 20.393850, 20.393800, 20.393800, 20.393733, 20.393683, 20.393583,\n",
    "20.393517, 20.393450, 20.393333, 20.393333, 20.393383, 20.393450, 20.393500, 20.393567, 20.393667, 20.393717, 20.393700,\n",
    "20.393783, 20.393817, 20.393400, 20.393417, 20.393400, 20.393433, 20.393433, 20.393450, 20.393533, 20.393600, 20.393633,\n",
    "20.393633, 20.393567, 20.393483, 20.393517, 20.393583, 20.393633, 20.393667, 20.393350, 20.393300, 20.393283, 20.393233,\n",
    "20.393133, 20.393083, 20.393033, 20.393017, 20.393067, 20.392967, 20.392850, 20.392833, 20.392800, 20.392600, 20.392667,\n",
    "20.392783, 20.392850, 20.392950, 20.393000, 20.393083, 20.393233, 20.393333, 20.393400, 20.393417, 20.393350, 20.393633,\n",
    "20.393700, 20.393717, 20.393783, 20.393783, 20.393783, 20.393800, 20.393867, 20.393917, 20.393850, 20.393750, 20.393667,\n",
    "20.393650, 20.393667, 20.393600, 20.393550, 20.393500, 20.393433, 20.393450, 20.393483, 20.393467, 20.393450, 20.393483,\n",
    "20.393400, 20.393350, 20.393250, 20.393217, 20.393167, 20.393067, 20.393150, 20.393167, 20.393133, 20.393150, 20.393133,\n",
    "20.393117, 20.393067, 20.393067, 20.393033]\n",
    "\n",
    "polygon_geom_corala = Polygon(zip(lon_point_corala, lon_point_corala))\n",
    "crs = {'init': 'epsg:32616'}\n",
    "corala_poly = gpd.GeoDataFrame(index=[0], crs=crs, geometry=[polygon_geom_corala])       \n",
    "print(corala_poly.geometry)\n",
    "\n",
    "\n",
    "\n",
    "#C:\\Users\\jrllo\\anaconda3\\envs\\turtlepython\\lib\\site-packages\\pyproj\\crs\\crs.py:53: FutureWarning: '+init=<authority>:<code>' syntax is deprecated. '<authority>:<code>' is the preferred initialization method. When making the change, be mindful of axis order changes: https://pyproj4.github.io/pyproj/stable/gotchas.html#axis-order-changes-in-proj-6\n",
    "  #return _prepare_from_string(\" \".join(pjargs))\n",
    "               #need to fix this it works but is not a future proof technique\n"
   ]
  },
  {
   "cell_type": "code",
   "execution_count": 13,
   "metadata": {},
   "outputs": [
    {
     "name": "stdout",
     "output_type": "stream",
     "text": [
      "0    POLYGON ((-87.31315 20.39437, -87.31318 20.394...\n",
      "Name: geometry, dtype: geometry\n"
     ]
    },
    {
     "name": "stderr",
     "output_type": "stream",
     "text": [
      "C:\\Users\\jrllo\\anaconda3\\envs\\quintanaroo\\lib\\site-packages\\pyproj\\crs.py:77: FutureWarning: '+init=<authority>:<code>' syntax is deprecated. '<authority>:<code>' is the preferred initialization method.\n",
      "  return _prepare_from_string(\" \".join(pjargs))\n"
     ]
    }
   ],
   "source": [
    "import geopandas as gpd\n",
    "from shapely.geometry import Polygon\n",
    "\n",
    "lon_point_coralb = [-87.313150, -87.313183, -87.313150, -87.313083, -87.313067, -87.313017, -87.312983, -87.313033,\n",
    "-87.312950, -87.312933, -87.312950, -87.312900, -87.312883, -87.312950, -87.312983, -87.312883, -87.312850, -87.312783,\n",
    "-87.312750, -87.312750, -87.312817, -87.312717, -87.312717, -87.312733, -87.312733, -87.312733, -87.312683, -87.312600,\n",
    "-87.312533, -87.312500, -87.312533, -87.312550, -87.312483, -87.312433, -87.312400, -87.312367, -87.312350, -87.312417,\n",
    "-87.312467, -87.312533, -87.312517, -87.312467, -87.312400, -87.312367, -87.312350, -87.312300, -87.312317, -87.312367,\n",
    "-87.312433, -87.312467, -87.312433, -87.312417, -87.312417, -87.312450, -87.312500, -87.312517, -87.312550, -87.312600,\n",
    "-87.312617, -87.312600, -87.312350, -87.312450, -87.312517, -87.312533, -87.312583, -87.312600, -87.312600, -87.312583, \n",
    "-87.312617, -87.312633, -87.312683, -87.312650, -87.312633, -87.312583, -87.312533, -87.312533, -87.312567, -87.312567,\n",
    "-87.312500, -87.312483, -87.312450, -87.312433, -87.312417, -87.312400, -87.312383, -87.312500, -87.312417, -87.312367,\n",
    "-87.312333, -87.312283, -87.312317, -87.312333, -87.312300, -87.312250, -87.312200, -87.312167, -87.312250, -87.312283,\n",
    "-87.312317]\n",
    "lat_point_coralb = [20.394367, 20.394383, 20.394383, 20.394383, 20.394417, 20.394450, 20.394433, 20.394367, 20.394433,\n",
    "20.394450, 20.394467, 20.394533, 20.394550, 20.394600, 20.394633, 20.394600, 20.394600, 20.394600, 20.394617, 20.394550,\n",
    "20.394517, 20.394467, 20.394483, 20.394500, 20.394483, 20.394600, 20.394683, 20.394767, 20.394767, 20.394817, 20.394883,\n",
    "20.394933, 20.394967, 20.394917, 20.394850, 20.394800, 20.394750, 20.394717, 20.394717, 20.394733, 20.394700, 20.394600,\n",
    "20.394483, 20.394417, 20.394317, 20.394217, 20.394150, 20.394150, 20.394150, 20.394167, 20.394217, 20.394233, 20.394300,\n",
    "20.394333, 20.394367, 20.394400, 20.394383, 20.394383, 20.394433, 20.394483, 20.394067, 20.394117, 20.394150, 20.394150,\n",
    "20.394100, 20.394067, 20.394033, 20.393967, 20.393983, 20.394017, 20.394000, 20.393933, 20.393900, 20.393767, 20.393700,\n",
    "20.393683, 20.393650, 20.393617, 20.393633, 20.393650, 20.393683, 20.393733, 20.393850, 20.393883, 20.393967, 20.394100,\n",
    "20.394100, 20.394133, 20.394150, 20.394217, 20.394300, 20.394417, 20.394450, 20.394500, 20.394533, 20.394533, 20.394583,\n",
    "20.394550, 20.394517]\n",
    "\n",
    "polygon_geom_coralb = Polygon(zip(lon_point_coralb, lat_point_coralb))\n",
    "crs = {'init': 'epsg:32616'}\n",
    "coralb_poly = gpd.GeoDataFrame(index=[0], crs=crs, geometry=[polygon_geom_coralb])       \n",
    "print(coralb_poly.geometry)\n"
   ]
  },
  {
   "cell_type": "code",
   "execution_count": 14,
   "metadata": {},
   "outputs": [
    {
     "name": "stdout",
     "output_type": "stream",
     "text": [
      "0    POLYGON ((-87.31292 20.39458, -87.31287 20.394...\n",
      "Name: geometry, dtype: geometry\n"
     ]
    },
    {
     "name": "stderr",
     "output_type": "stream",
     "text": [
      "C:\\Users\\jrllo\\anaconda3\\envs\\quintanaroo\\lib\\site-packages\\pyproj\\crs.py:77: FutureWarning: '+init=<authority>:<code>' syntax is deprecated. '<authority>:<code>' is the preferred initialization method.\n",
      "  return _prepare_from_string(\" \".join(pjargs))\n"
     ]
    }
   ],
   "source": [
    "from shapely.geometry import Polygon\n",
    "\n",
    "lon_point_coralc = [-87.312917, -87.312867, -87.312800, -87.312800, -87.312967, -87.313000, -87.313033, -87.313050,\n",
    "-87.313100, -87.313100, -87.313017, -87.312950, -87.312917, -87.312883, -87.312867, -87.312900, -87.312900, -87.312817,\n",
    "-87.312817, -87.312850, -87.312767, -87.312633, -87.312600, -87.312567, -87.312517, -87.312533, -87.312567, -87.312533,\n",
    "-87.312517, -87.312517, -87.312633, -87.312667, -87.312733, -87.312800, -87.312817, -87.312917, -87.313017, -87.313083,\n",
    "-87.313167, -87.313233, -87.313283, -87.313233, -87.313217, -87.313300, -87.313200, -87.312800]\n",
    "lat_point_coralc = [20.394583, 20.394617, 20.394633, 20.394667, 20.394667, 20.394783, 20.394833, 20.394900, 20.394883,\n",
    "20.394850, 20.394883, 20.394883, 20.394933, 20.395017, 20.395100, 20.395183, 20.395317, 20.395383, 20.395433, 20.395483,\n",
    "20.395467, 20.395367, 20.395333, 20.395183, 20.395050, 20.394950, 20.394900, 20.394833, 20.394850, 20.394917, 20.394900,\n",
    "20.394867, 20.394800, 20.394767, 20.394617, 20.394583, 20.394550, 20.394467, 20.394433, 20.394433, 20.394467, 20.394583,\n",
    "20.394750, 20.394450, 20.394650, 20.395534]\n",
    "\n",
    "polygon_geom_coralc = Polygon(zip(lon_point_coralc, lat_point_coralc))\n",
    "crs = {'init': 'epsg:32616'}\n",
    "coralc_poly = gpd.GeoDataFrame(index=[0], crs=crs, geometry=[polygon_geom_coralc])       \n",
    "print(coralc_poly.geometry)"
   ]
  },
  {
   "cell_type": "code",
   "execution_count": 15,
   "metadata": {},
   "outputs": [
    {
     "name": "stdout",
     "output_type": "stream",
     "text": [
      "coral a, perimeter:  0    0.01447\n",
      "dtype: float64\n",
      "coral a, area:  0    4.235165e-22\n",
      "dtype: float64\n",
      "coral a, centroid:  0    POINT (-87.31369 -87.31369)\n",
      "dtype: geometry\n",
      "coral a, bounding coordinates:         minx      miny       maxx       maxy\n",
      "0 -87.31565 -87.31565 -87.312217 -87.312217\n",
      "coral a, bounding box:  0    POLYGON ((-87.31565 -87.31565, -87.31222 -87.3...\n",
      "dtype: geometry\n",
      "coral b, perimeter:  0    0.007481\n",
      "dtype: float64\n",
      "coral b, area:  0    2.540750e-08\n",
      "dtype: float64\n",
      "coral b, centroid:  0    POINT (-87.31335 20.39717)\n",
      "dtype: geometry\n",
      "coral b, bounding coordinates:          minx       miny       maxx       maxy\n",
      "0 -87.313183  20.393617 -87.312167  20.394967\n",
      "coral b, bounding box:  0    POLYGON ((-87.31318 20.39362, -87.31217 20.393...\n",
      "dtype: geometry\n",
      "coral c, perimeter:  0    0.006194\n",
      "dtype: float64\n",
      "coral c, area:  0    3.989415e-07\n",
      "dtype: float64\n",
      "coral c, centroid:  0    POINT (-87.31287 20.39496)\n",
      "dtype: geometry\n",
      "coral c, bounding coordinates:        minx       miny       maxx       maxy\n",
      "0 -87.3133  20.394433 -87.312517  20.395534\n",
      "coral c, bounding box:  0    POLYGON ((-87.31330 20.39443, -87.31252 20.394...\n",
      "dtype: geometry\n"
     ]
    }
   ],
   "source": [
    "print('coral a, perimeter: ', corala_poly.length) # print the perimeter\n",
    "print('coral a, area: ', corala_poly.area) # print the area\n",
    "print('coral a, centroid: ', corala_poly.centroid) # get the centerpoint of the rectangle\n",
    "print('coral a, bounding coordinates: ', corala_poly.bounds) # get the minimum x, minimum y, maximum x, maximum y coordinates\n",
    "print('coral a, bounding box: ', corala_poly.envelope) # get the minimum bounding rectangle of the polygon, parallel to the coordinate axes\n",
    "#print('rotated bounding box: ', corala_poly.minimum_rotated_rectangle) # get the smallest possible rectangle that covers the polygon\n",
    "\n",
    "print('coral b, perimeter: ', coralb_poly.length) # print the perimeter\n",
    "print('coral b, area: ', coralb_poly.area) # print the area\n",
    "print('coral b, centroid: ', coralb_poly.centroid) # get the centerpoint of the rectangle\n",
    "print('coral b, bounding coordinates: ', coralb_poly.bounds) # get the minimum x, minimum y, maximum x, maximum y coordinates\n",
    "print('coral b, bounding box: ', coralb_poly.envelope) # get the minimum bounding rectangle of the polygon, parallel to the coordinate axes\n",
    "#print('rotated bounding box: ', corala_poly.minimum_rotated_rectangle) # get the smallest possible rectangle that covers the polygon\n",
    "\n",
    "print('coral c, perimeter: ', coralc_poly.length) # print the perimeter\n",
    "print('coral c, area: ', coralc_poly.area) # print the area\n",
    "print('coral c, centroid: ', coralc_poly.centroid) # get the centerpoint of the rectangle\n",
    "print('coral c, bounding coordinates: ', coralc_poly.bounds) # get the minimum x, minimum y, maximum x, maximum y coordinates\n",
    "print('coral c, bounding box: ', coralc_poly.envelope) # get the minimum bounding rectangle of the polygon, parallel to the coordinate axes\n",
    "#print('rotated bounding box: ', corala_poly.minimum_rotated_rectangle) # get the smallest possible rectangle that covers the polygon"
   ]
  },
  {
   "cell_type": "code",
   "execution_count": 16,
   "metadata": {},
   "outputs": [],
   "source": [
    "corala_poly.to_file('coral/corala_poly.shp') #save the GeoDataFrame as a new .shp file\n",
    "coralb_poly.to_file('coral/coralb_poly.shp')\n",
    "coralc_poly.to_file('coral/coralc_poly.shp')\n"
   ]
  },
  {
   "cell_type": "code",
   "execution_count": 17,
   "metadata": {},
   "outputs": [
    {
     "data": {
      "text/plain": [
       "(<Projected CRS: EPSG:32616>\n",
       " Name: WGS 84 / UTM zone 16N\n",
       " Axis Info [cartesian]:\n",
       " - E[east]: Easting (metre)\n",
       " - N[north]: Northing (metre)\n",
       " Area of Use:\n",
       " - name: World - N hemisphere - 90°W to 84°W - by country\n",
       " - bounds: (-90.0, 0.0, -84.0, 84.0)\n",
       " Coordinate Operation:\n",
       " - name: UTM zone 16N\n",
       " - method: Transverse Mercator\n",
       " Datum: World Geodetic System 1984\n",
       " - Ellipsoid: WGS 84\n",
       " - Prime Meridian: Greenwich,\n",
       " <Projected CRS: EPSG:32616>\n",
       " Name: WGS 84 / UTM zone 16N\n",
       " Axis Info [cartesian]:\n",
       " - E[east]: Easting (metre)\n",
       " - N[north]: Northing (metre)\n",
       " Area of Use:\n",
       " - name: World - N hemisphere - 90°W to 84°W - by country\n",
       " - bounds: (-90.0, 0.0, -84.0, 84.0)\n",
       " Coordinate Operation:\n",
       " - name: UTM zone 16N\n",
       " - method: Transverse Mercator\n",
       " Datum: World Geodetic System 1984\n",
       " - Ellipsoid: WGS 84\n",
       " - Prime Meridian: Greenwich,\n",
       " <Projected CRS: EPSG:32616>\n",
       " Name: WGS 84 / UTM zone 16N\n",
       " Axis Info [cartesian]:\n",
       " - E[east]: Easting (metre)\n",
       " - N[north]: Northing (metre)\n",
       " Area of Use:\n",
       " - name: World - N hemisphere - 90°W to 84°W - by country\n",
       " - bounds: (-90.0, 0.0, -84.0, 84.0)\n",
       " Coordinate Operation:\n",
       " - name: UTM zone 16N\n",
       " - method: Transverse Mercator\n",
       " Datum: World Geodetic System 1984\n",
       " - Ellipsoid: WGS 84\n",
       " - Prime Meridian: Greenwich)"
      ]
     },
     "execution_count": 17,
     "metadata": {},
     "output_type": "execute_result"
    }
   ],
   "source": [
    "corala_poly.crs, coralb_poly.crs, coralc_poly.crs"
   ]
  },
  {
   "cell_type": "code",
   "execution_count": 18,
   "metadata": {},
   "outputs": [],
   "source": [
    "import geopandas as gpd\n",
    "corala_poly = gpd.read_file('coral/corala_poly.shp')\n",
    "coralb_poly = gpd.read_file('coral/coralb_poly.shp')\n",
    "coralc_poly = gpd.read_file('coral/coralc_poly.shp')"
   ]
  },
  {
   "cell_type": "code",
   "execution_count": 19,
   "metadata": {},
   "outputs": [],
   "source": [
    "import os\n",
    "join_coral = os.listdir(\"coral/\")\n",
    "path = [os.path.join(\"coral/\", i) for i in join_coral if \".shp\" in i]\n",
    "\n",
    "coral_gdf = gpd.GeoDataFrame(pd.concat([gpd.read_file(i) for i in path], \n",
    "                        ignore_index=True), crs=gpd.read_file(path[0]).crs)"
   ]
  },
  {
   "cell_type": "code",
   "execution_count": 20,
   "metadata": {},
   "outputs": [
    {
     "ename": "RuntimeError",
     "evalue": "Failed to write record: {'id': '101', 'type': 'Feature', 'properties': {'ALTITUDE': None, 'COMMENT': None, 'DEPTH': None, 'FID': 0, 'IDENT': None, 'LAT': None, 'LONG': None, 'TYPE': None, 'X_PROJ': None, 'Y_PROJ': None}, 'geometry': {'type': 'Polygon', 'coordinates': (((-87.312917, -87.312917), (-87.314133, -87.314133), (-87.314217, -87.314217), (-87.314333, -87.314333), (-87.314433, -87.314433), (-87.314517, -87.314517), (-87.314583, -87.314583), (-87.314733, -87.314733), (-87.31485, -87.31485), (-87.314967, -87.314967), (-87.3153, -87.3153), (-87.3154, -87.3154), (-87.315467, -87.315467), (-87.315567, -87.315567), (-87.315633, -87.315633), (-87.31565, -87.31565), (-87.3156, -87.3156), (-87.315517, -87.315517), (-87.315433, -87.315433), (-87.315317, -87.315317), (-87.315133, -87.315133), (-87.314933, -87.314933), (-87.3148, -87.3148), (-87.314733, -87.314733), (-87.314717, -87.314717), (-87.314717, -87.314717), (-87.31465, -87.31465), (-87.314633, -87.314633), (-87.314617, -87.314617), (-87.314567, -87.314567), (-87.314533, -87.314533), (-87.314433, -87.314433), (-87.3144, -87.3144), (-87.314283, -87.314283), (-87.314167, -87.314167), (-87.314067, -87.314067), (-87.314017, -87.314017), (-87.3141, -87.3141), (-87.314217, -87.314217), (-87.314267, -87.314267), (-87.314167, -87.314167), (-87.314133, -87.314133), (-87.314033, -87.314033), (-87.314017, -87.314017), (-87.314067, -87.314067), (-87.314083, -87.314083), (-87.313283, -87.313283), (-87.31295, -87.31295), (-87.3129, -87.3129), (-87.312883, -87.312883), (-87.3129, -87.3129), (-87.313, -87.313), (-87.313133, -87.313133), (-87.313233, -87.313233), (-87.3134, -87.3134), (-87.3127, -87.3127), (-87.312717, -87.312717), (-87.312833, -87.312833), (-87.312817, -87.312817), (-87.312883, -87.312883), (-87.312917, -87.312917), (-87.312917, -87.312917), (-87.31285, -87.31285), (-87.31275, -87.31275), (-87.312217, -87.312217), (-87.312267, -87.312267), (-87.31225, -87.31225), (-87.312283, -87.312283), (-87.312367, -87.312367), (-87.312383, -87.312383), (-87.312417, -87.312417), (-87.312467, -87.312467), (-87.31245, -87.31245), (-87.312433, -87.312433), (-87.312417, -87.312417), (-87.312467, -87.312467), (-87.312533, -87.312533), (-87.312583, -87.312583), (-87.312667, -87.312667), (-87.3127, -87.3127), (-87.312867, -87.312867), (-87.312833, -87.312833), (-87.312833, -87.312833), (-87.312767, -87.312767), (-87.312733, -87.312733), (-87.312767, -87.312767), (-87.312767, -87.312767), (-87.312717, -87.312717), (-87.312733, -87.312733), (-87.312833, -87.312833), (-87.31295, -87.31295), (-87.312983, -87.312983), (-87.313033, -87.313033), (-87.3131, -87.3131), (-87.3132, -87.3132), (-87.313283, -87.313283), (-87.313267, -87.313267), (-87.31315, -87.31315), (-87.313117, -87.313117), (-87.313067, -87.313067), (-87.312983, -87.312983), (-87.312917, -87.312917)),)}}",
     "output_type": "error",
     "traceback": [
      "\u001b[1;31m---------------------------------------------------------------------------\u001b[0m",
      "\u001b[1;31mRuntimeError\u001b[0m                              Traceback (most recent call last)",
      "\u001b[1;32m<ipython-input-20-b2819438ab04>\u001b[0m in \u001b[0;36m<module>\u001b[1;34m\u001b[0m\n\u001b[1;32m----> 1\u001b[1;33m \u001b[0mcoral_gdf\u001b[0m\u001b[1;33m.\u001b[0m\u001b[0mto_file\u001b[0m\u001b[1;33m(\u001b[0m\u001b[1;34m'coral/coral_gdf.shp'\u001b[0m\u001b[1;33m)\u001b[0m \u001b[1;31m#save the GeoDataFrame as a new .shp file\u001b[0m\u001b[1;33m\u001b[0m\u001b[1;33m\u001b[0m\u001b[0m\n\u001b[0m\u001b[0;32m      2\u001b[0m \u001b[1;31m#coral = gpd.read_file('coral/coral_gdf.shp')\u001b[0m\u001b[1;33m\u001b[0m\u001b[1;33m\u001b[0m\u001b[1;33m\u001b[0m\u001b[0m\n\u001b[0;32m      3\u001b[0m \u001b[1;31m#coral.head()\u001b[0m\u001b[1;33m\u001b[0m\u001b[1;33m\u001b[0m\u001b[1;33m\u001b[0m\u001b[0m\n\u001b[0;32m      4\u001b[0m \u001b[1;31m#coralb_poly.to_file('coral/coralb_poly.shp')\u001b[0m\u001b[1;33m\u001b[0m\u001b[1;33m\u001b[0m\u001b[1;33m\u001b[0m\u001b[0m\n\u001b[0;32m      5\u001b[0m \u001b[1;31m#coralc_poly.to_file('coral/coralc_poly.shp')\u001b[0m\u001b[1;33m\u001b[0m\u001b[1;33m\u001b[0m\u001b[1;33m\u001b[0m\u001b[0m\n",
      "\u001b[1;32m~\\anaconda3\\envs\\quintanaroo\\lib\\site-packages\\geopandas\\geodataframe.py\u001b[0m in \u001b[0;36mto_file\u001b[1;34m(self, filename, driver, schema, index, **kwargs)\u001b[0m\n\u001b[0;32m   1084\u001b[0m         \u001b[1;32mfrom\u001b[0m \u001b[0mgeopandas\u001b[0m\u001b[1;33m.\u001b[0m\u001b[0mio\u001b[0m\u001b[1;33m.\u001b[0m\u001b[0mfile\u001b[0m \u001b[1;32mimport\u001b[0m \u001b[0m_to_file\u001b[0m\u001b[1;33m\u001b[0m\u001b[1;33m\u001b[0m\u001b[0m\n\u001b[0;32m   1085\u001b[0m \u001b[1;33m\u001b[0m\u001b[0m\n\u001b[1;32m-> 1086\u001b[1;33m         \u001b[0m_to_file\u001b[0m\u001b[1;33m(\u001b[0m\u001b[0mself\u001b[0m\u001b[1;33m,\u001b[0m \u001b[0mfilename\u001b[0m\u001b[1;33m,\u001b[0m \u001b[0mdriver\u001b[0m\u001b[1;33m,\u001b[0m \u001b[0mschema\u001b[0m\u001b[1;33m,\u001b[0m \u001b[0mindex\u001b[0m\u001b[1;33m,\u001b[0m \u001b[1;33m**\u001b[0m\u001b[0mkwargs\u001b[0m\u001b[1;33m)\u001b[0m\u001b[1;33m\u001b[0m\u001b[1;33m\u001b[0m\u001b[0m\n\u001b[0m\u001b[0;32m   1087\u001b[0m \u001b[1;33m\u001b[0m\u001b[0m\n\u001b[0;32m   1088\u001b[0m     \u001b[1;32mdef\u001b[0m \u001b[0mset_crs\u001b[0m\u001b[1;33m(\u001b[0m\u001b[0mself\u001b[0m\u001b[1;33m,\u001b[0m \u001b[0mcrs\u001b[0m\u001b[1;33m=\u001b[0m\u001b[1;32mNone\u001b[0m\u001b[1;33m,\u001b[0m \u001b[0mepsg\u001b[0m\u001b[1;33m=\u001b[0m\u001b[1;32mNone\u001b[0m\u001b[1;33m,\u001b[0m \u001b[0minplace\u001b[0m\u001b[1;33m=\u001b[0m\u001b[1;32mFalse\u001b[0m\u001b[1;33m,\u001b[0m \u001b[0mallow_override\u001b[0m\u001b[1;33m=\u001b[0m\u001b[1;32mFalse\u001b[0m\u001b[1;33m)\u001b[0m\u001b[1;33m:\u001b[0m\u001b[1;33m\u001b[0m\u001b[1;33m\u001b[0m\u001b[0m\n",
      "\u001b[1;32m~\\anaconda3\\envs\\quintanaroo\\lib\\site-packages\\geopandas\\io\\file.py\u001b[0m in \u001b[0;36m_to_file\u001b[1;34m(df, filename, driver, schema, index, mode, crs, **kwargs)\u001b[0m\n\u001b[0;32m    328\u001b[0m             \u001b[0mfilename\u001b[0m\u001b[1;33m,\u001b[0m \u001b[0mmode\u001b[0m\u001b[1;33m=\u001b[0m\u001b[0mmode\u001b[0m\u001b[1;33m,\u001b[0m \u001b[0mdriver\u001b[0m\u001b[1;33m=\u001b[0m\u001b[0mdriver\u001b[0m\u001b[1;33m,\u001b[0m \u001b[0mcrs_wkt\u001b[0m\u001b[1;33m=\u001b[0m\u001b[0mcrs_wkt\u001b[0m\u001b[1;33m,\u001b[0m \u001b[0mschema\u001b[0m\u001b[1;33m=\u001b[0m\u001b[0mschema\u001b[0m\u001b[1;33m,\u001b[0m \u001b[1;33m**\u001b[0m\u001b[0mkwargs\u001b[0m\u001b[1;33m\u001b[0m\u001b[1;33m\u001b[0m\u001b[0m\n\u001b[0;32m    329\u001b[0m         ) as colxn:\n\u001b[1;32m--> 330\u001b[1;33m             \u001b[0mcolxn\u001b[0m\u001b[1;33m.\u001b[0m\u001b[0mwriterecords\u001b[0m\u001b[1;33m(\u001b[0m\u001b[0mdf\u001b[0m\u001b[1;33m.\u001b[0m\u001b[0miterfeatures\u001b[0m\u001b[1;33m(\u001b[0m\u001b[1;33m)\u001b[0m\u001b[1;33m)\u001b[0m\u001b[1;33m\u001b[0m\u001b[1;33m\u001b[0m\u001b[0m\n\u001b[0m\u001b[0;32m    331\u001b[0m \u001b[1;33m\u001b[0m\u001b[0m\n\u001b[0;32m    332\u001b[0m \u001b[1;33m\u001b[0m\u001b[0m\n",
      "\u001b[1;32m~\\anaconda3\\envs\\quintanaroo\\lib\\site-packages\\fiona\\collection.py\u001b[0m in \u001b[0;36mwriterecords\u001b[1;34m(self, records)\u001b[0m\n\u001b[0;32m    340\u001b[0m         \u001b[1;32mif\u001b[0m \u001b[0mself\u001b[0m\u001b[1;33m.\u001b[0m\u001b[0mmode\u001b[0m \u001b[1;32mnot\u001b[0m \u001b[1;32min\u001b[0m \u001b[1;33m(\u001b[0m\u001b[1;34m'a'\u001b[0m\u001b[1;33m,\u001b[0m \u001b[1;34m'w'\u001b[0m\u001b[1;33m)\u001b[0m\u001b[1;33m:\u001b[0m\u001b[1;33m\u001b[0m\u001b[1;33m\u001b[0m\u001b[0m\n\u001b[0;32m    341\u001b[0m             \u001b[1;32mraise\u001b[0m \u001b[0mIOError\u001b[0m\u001b[1;33m(\u001b[0m\u001b[1;34m\"collection not open for writing\"\u001b[0m\u001b[1;33m)\u001b[0m\u001b[1;33m\u001b[0m\u001b[1;33m\u001b[0m\u001b[0m\n\u001b[1;32m--> 342\u001b[1;33m         \u001b[0mself\u001b[0m\u001b[1;33m.\u001b[0m\u001b[0msession\u001b[0m\u001b[1;33m.\u001b[0m\u001b[0mwriterecs\u001b[0m\u001b[1;33m(\u001b[0m\u001b[0mrecords\u001b[0m\u001b[1;33m,\u001b[0m \u001b[0mself\u001b[0m\u001b[1;33m)\u001b[0m\u001b[1;33m\u001b[0m\u001b[1;33m\u001b[0m\u001b[0m\n\u001b[0m\u001b[0;32m    343\u001b[0m         \u001b[0mself\u001b[0m\u001b[1;33m.\u001b[0m\u001b[0m_len\u001b[0m \u001b[1;33m=\u001b[0m \u001b[0mself\u001b[0m\u001b[1;33m.\u001b[0m\u001b[0msession\u001b[0m\u001b[1;33m.\u001b[0m\u001b[0mget_length\u001b[0m\u001b[1;33m(\u001b[0m\u001b[1;33m)\u001b[0m\u001b[1;33m\u001b[0m\u001b[1;33m\u001b[0m\u001b[0m\n\u001b[0;32m    344\u001b[0m         \u001b[0mself\u001b[0m\u001b[1;33m.\u001b[0m\u001b[0m_bounds\u001b[0m \u001b[1;33m=\u001b[0m \u001b[0mself\u001b[0m\u001b[1;33m.\u001b[0m\u001b[0msession\u001b[0m\u001b[1;33m.\u001b[0m\u001b[0mget_extent\u001b[0m\u001b[1;33m(\u001b[0m\u001b[1;33m)\u001b[0m\u001b[1;33m\u001b[0m\u001b[1;33m\u001b[0m\u001b[0m\n",
      "\u001b[1;32mfiona/ogrext.pyx\u001b[0m in \u001b[0;36mfiona.ogrext.WritingSession.writerecs\u001b[1;34m()\u001b[0m\n",
      "\u001b[1;31mRuntimeError\u001b[0m: Failed to write record: {'id': '101', 'type': 'Feature', 'properties': {'ALTITUDE': None, 'COMMENT': None, 'DEPTH': None, 'FID': 0, 'IDENT': None, 'LAT': None, 'LONG': None, 'TYPE': None, 'X_PROJ': None, 'Y_PROJ': None}, 'geometry': {'type': 'Polygon', 'coordinates': (((-87.312917, -87.312917), (-87.314133, -87.314133), (-87.314217, -87.314217), (-87.314333, -87.314333), (-87.314433, -87.314433), (-87.314517, -87.314517), (-87.314583, -87.314583), (-87.314733, -87.314733), (-87.31485, -87.31485), (-87.314967, -87.314967), (-87.3153, -87.3153), (-87.3154, -87.3154), (-87.315467, -87.315467), (-87.315567, -87.315567), (-87.315633, -87.315633), (-87.31565, -87.31565), (-87.3156, -87.3156), (-87.315517, -87.315517), (-87.315433, -87.315433), (-87.315317, -87.315317), (-87.315133, -87.315133), (-87.314933, -87.314933), (-87.3148, -87.3148), (-87.314733, -87.314733), (-87.314717, -87.314717), (-87.314717, -87.314717), (-87.31465, -87.31465), (-87.314633, -87.314633), (-87.314617, -87.314617), (-87.314567, -87.314567), (-87.314533, -87.314533), (-87.314433, -87.314433), (-87.3144, -87.3144), (-87.314283, -87.314283), (-87.314167, -87.314167), (-87.314067, -87.314067), (-87.314017, -87.314017), (-87.3141, -87.3141), (-87.314217, -87.314217), (-87.314267, -87.314267), (-87.314167, -87.314167), (-87.314133, -87.314133), (-87.314033, -87.314033), (-87.314017, -87.314017), (-87.314067, -87.314067), (-87.314083, -87.314083), (-87.313283, -87.313283), (-87.31295, -87.31295), (-87.3129, -87.3129), (-87.312883, -87.312883), (-87.3129, -87.3129), (-87.313, -87.313), (-87.313133, -87.313133), (-87.313233, -87.313233), (-87.3134, -87.3134), (-87.3127, -87.3127), (-87.312717, -87.312717), (-87.312833, -87.312833), (-87.312817, -87.312817), (-87.312883, -87.312883), (-87.312917, -87.312917), (-87.312917, -87.312917), (-87.31285, -87.31285), (-87.31275, -87.31275), (-87.312217, -87.312217), (-87.312267, -87.312267), (-87.31225, -87.31225), (-87.312283, -87.312283), (-87.312367, -87.312367), (-87.312383, -87.312383), (-87.312417, -87.312417), (-87.312467, -87.312467), (-87.31245, -87.31245), (-87.312433, -87.312433), (-87.312417, -87.312417), (-87.312467, -87.312467), (-87.312533, -87.312533), (-87.312583, -87.312583), (-87.312667, -87.312667), (-87.3127, -87.3127), (-87.312867, -87.312867), (-87.312833, -87.312833), (-87.312833, -87.312833), (-87.312767, -87.312767), (-87.312733, -87.312733), (-87.312767, -87.312767), (-87.312767, -87.312767), (-87.312717, -87.312717), (-87.312733, -87.312733), (-87.312833, -87.312833), (-87.31295, -87.31295), (-87.312983, -87.312983), (-87.313033, -87.313033), (-87.3131, -87.3131), (-87.3132, -87.3132), (-87.313283, -87.313283), (-87.313267, -87.313267), (-87.31315, -87.31315), (-87.313117, -87.313117), (-87.313067, -87.313067), (-87.312983, -87.312983), (-87.312917, -87.312917)),)}}"
     ]
    }
   ],
   "source": [
    "coral_gdf.to_file('coral/coral_gdf.shp') #save the GeoDataFrame as a new .shp file\n",
    "#coral = gpd.read_file('coral/coral_gdf.shp')\n",
    "#coral.head()\n",
    "#coralb_poly.to_file('coral/coralb_poly.shp')\n",
    "#coralc_poly.to_file('coral/coralc_poly.shp')"
   ]
  },
  {
   "cell_type": "code",
   "execution_count": null,
   "metadata": {},
   "outputs": [],
   "source": [
    "from itertools import combinations\n",
    "\n",
    "from shapely.geometry import Polygon, Point, shape, mapping\n",
    "import matplotlib.pyplot as plt\n",
    "import fiona\n",
    "\n",
    "SHOW_NEW_POLYGONS = False\n",
    "\n",
    "polygons, set_of_properties = [], []\n",
    "with fiona.open(\"coral/corala_poly.shp\", \"r\") as source:\n",
    "    for line in source:\n",
    "        polygons.append(shape(line[\"geometry\"]))\n",
    "        set_of_properties.append(line[\"properties\"])\n",
    "    meta = source.meta\n",
    "\n",
    "poly_index_combinations = combinations(tuple(range(len(polygons))), 2)\n",
    "while True:\n",
    "    intersection_record = []\n",
    "    for i_corala_poly, i_coralb_poly in poly_index_combinations:\n",
    "        corala_poly, coralb_polb, coralc_poly = polygons[i_corala_poly], polygons[i_coralb_poly]\n",
    "        if corala_poly.exterior.xy == coralb_poly.exterior.xy:\n",
    "            # print(f\"The polygons have identical exterior coordinates:\\n{poly_a} and {poly_b}\\n\")\n",
    "            continue\n",
    "\n",
    "        intersecting = corala_poly.intersection(coralb_poly)\n",
    "        if type(intersecting) != Polygon:\n",
    "            continue\n",
    "        intersecting_polygons = intersecting.exterior.coords\n",
    "        if not intersecting_polygons:\n",
    "            # print(f\"No intersections between\\n{poly_a} and {poly_b}\\n\")\n",
    "            continue\n",
    "\n",
    "        print(\"Rectifying intersection\")\n",
    "        y_diff = abs(intersecting_polygons[0][1]) - abs(intersecting_polygons[2][1])\n",
    "\n",
    "        coral_all = Polygon((\n",
    "            Point(float(coralb_poly.exterior.coords[0][0]), float(coralb_poly.exterior.coords[0][1] + y_diff)),\n",
    "            Point(float(coralb_poly.exterior.coords[1][0]), float(coralb_poly.exterior.coords[1][1] + y_diff)),\n",
    "            Point(float(coralb_poly.exterior.coords[2][0]), float(coralb_poly.exterior.coords[2][1] + y_diff)),\n",
    "            Point(float(coralb_poly.exterior.coords[3][0]), float(coralb_poly.exterior.coords[3][1] + y_diff)),\n",
    "            Point(float(coralb_poly.exterior.coords[4][0]), float(coralb_poly.exterior.coords[4][1] + y_diff)),\n",
    "            \n",
    "            \n",
    "        ))\n",
    "\n",
    "        if SHOW_NEW_POLYGONS:\n",
    "            x, y = corala_poly.exterior.xy\n",
    "            plt.plot(x, y)\n",
    "            x, y = coralb_poly.exterior.xy\n",
    "            plt.plot(x, y)\n",
    "            plt.show\n",
    "\n",
    "        polygons[corala_poly, coralb_poly] = coralab_poly\n",
    "        intersection_record.append(True)\n",
    "\n",
    "    if not intersection_record:\n",
    "        break\n",
    "\n",
    "with fiona.open(\"coral/coralab.shp\", \"w\", **meta) as sink:\n",
    "    for poly, properties in zip(polygons, set_of_properties):\n",
    "        sink.write({\n",
    "            \"geometry\": mapping(poly),\n",
    "            \"properties\": properties\n",
    "        })\n"
   ]
  },
  {
   "cell_type": "code",
   "execution_count": null,
   "metadata": {},
   "outputs": [],
   "source": [
    "from itertools import combinations\n",
    "\n",
    "from shapely.geometry import Polygon, Point, shape, mapping\n",
    "import matplotlib.pyplot as plt\n",
    "import fiona\n",
    "\n",
    "SHOW_NEW_POLYGONS = False\n",
    "\n",
    "polygons, set_of_properties = [], []\n",
    "with fiona.open(\"coral/coralab.shp\", \"r\") as source:\n",
    "    for line in source:\n",
    "        polygons.append(shape(line[\"geometry\"]))\n",
    "        set_of_properties.append(line[\"properties\"])\n",
    "    meta = source.meta\n",
    "\n",
    "poly_index_combinations = combinations(tuple(range(len(polygons))), 2)\n",
    "while True:\n",
    "    intersection_record = []\n",
    "    for i_coralab, i_coralc_poly in poly_index_combinations:\n",
    "        coralab, coralc_polb, coralc_poly = polygons[i_coralab], polygons[i_coralc_poly]\n",
    "        if coralab.exterior.xy == coralc_poly.exterior.xy:\n",
    "            # print(f\"The polygons have identical exterior coordinates:\\n{poly_a} and {poly_b}\\n\")\n",
    "            continue\n",
    "\n",
    "        intersecting = coralab.intersection(coralc_poly)\n",
    "        if type(intersecting) != Polygon:\n",
    "            continue\n",
    "        intersecting_polygons = intersecting.exterior.coords\n",
    "        if not intersecting_polygons:\n",
    "            # print(f\"No intersections between\\n{poly_a} and {poly_b}\\n\")\n",
    "            continue\n",
    "\n",
    "        print(\"Rectifying intersection\")\n",
    "        y_diff = abs(intersecting_polygons[0][1]) - abs(intersecting_polygons[2][1])\n",
    "\n",
    "        coral_all = Polygon((\n",
    "            Point(float(coralc_poly.exterior.coords[0][0]), float(coralc_poly.exterior.coords[0][1] + y_diff)),\n",
    "            Point(float(coralc_poly.exterior.coords[1][0]), float(coralc_poly.exterior.coords[1][1] + y_diff)),\n",
    "            Point(float(coralc_poly.exterior.coords[2][0]), float(coralc_poly.exterior.coords[2][1] + y_diff)),\n",
    "            Point(float(coralc_poly.exterior.coords[3][0]), float(coralc_poly.exterior.coords[3][1] + y_diff)),\n",
    "            Point(float(coralc_poly.exterior.coords[4][0]), float(coralc_poly.exterior.coords[4][1] + y_diff)),\n",
    "            \n",
    "        ))\n",
    "\n",
    "        if SHOW_NEW_POLYGONS:\n",
    "            x, y = corala_poly.exterior.xy\n",
    "            plt.plot(x, y)\n",
    "            x, y = coralb_poly.exterior.xy\n",
    "            plt.plot(x, y)\n",
    "            plt.show\n",
    "\n",
    "        polygons[corala_poly, coralb_poly] = coralab_poly\n",
    "        intersection_record.append(True)\n",
    "\n",
    "    if not intersection_record:\n",
    "        break\n",
    "\n",
    "with fiona.open(\"coral/coralabc.shp\", \"w\", **meta) as sink:\n",
    "    for poly, properties in zip(polygons, set_of_properties):\n",
    "        sink.write({\n",
    "            \"geometry\": mapping(poly),\n",
    "            \"properties\": properties\n",
    "        })"
   ]
  },
  {
   "cell_type": "code",
   "execution_count": null,
   "metadata": {},
   "outputs": [],
   "source": []
  },
  {
   "cell_type": "code",
   "execution_count": null,
   "metadata": {},
   "outputs": [],
   "source": [
    "coral_joined = corala_poly.geometry.append(coralb_poly.geometry),(coralc_poly.geometry)\n",
    "coral_joined.columns\n",
    "\n",
    "#In [7]: joined = world.geometry.append(cities.geometry)"
   ]
  },
  {
   "cell_type": "code",
   "execution_count": null,
   "metadata": {},
   "outputs": [],
   "source": []
  },
  {
   "cell_type": "code",
   "execution_count": null,
   "metadata": {},
   "outputs": [],
   "source": [
    "coral_joined.to_file('coral/coral_joined.shp')"
   ]
  },
  {
   "cell_type": "code",
   "execution_count": null,
   "metadata": {},
   "outputs": [],
   "source": [
    "import geopandas as gpd                                         \n",
    "df = gpd.GeoDataFrame()\n",
    "df.append(gpd.GeoSeries(), ignore_index=True)\n",
    "file = corala_poly.listdir(\"coral\")\n",
    "path = [corala_poly.join(\"coral\", i) for i in file if \".shp\" in i]\n",
    "\n",
    "gdf = gpd.GeoDataFrame(pd.concat([gpd.read_file(i) for i in path], \n",
    "                        ignore_index=True), crs=gpd.read_file(path[0]).crs)"
   ]
  },
  {
   "cell_type": "code",
   "execution_count": null,
   "metadata": {},
   "outputs": [],
   "source": [
    "#coral_joined = corala_poly.geometry.append('coralb_poly, coralc_poly')\n",
    "europe = world[world.continent == 'Europe']\n",
    "\n",
    "In [9]: asia = world[world.continent == 'Asia']\n",
    "\n",
    "In [10]: eurasia = europe.append(asia)"
   ]
  },
  {
   "cell_type": "code",
   "execution_count": null,
   "metadata": {},
   "outputs": [],
   "source": [
    "coralab = corala_poly[corala]"
   ]
  },
  {
   "cell_type": "code",
   "execution_count": null,
   "metadata": {},
   "outputs": [],
   "source": [
    "# plot to see how they relate\n",
    "# read in the shapefile first, that gives us the CRS for the analysis\n",
    "polygons = gpd_read(\"coral1.shp\")\n",
    "\n",
    "# read in the points\n",
    "points <- read_csv('corala.csv')\n",
    "\n",
    "# convert the points to an sf object\n",
    "coral_sf <- set.as_coral_sf(points, coords = xy ('geometry'))\n",
    "\n",
    "# set CRS for the points to be the same as shapefile\n",
    "st_crs(coral_sf) <- st_crs(polygons)\n",
    "\n",
    "points_\n",
    "\n",
    "\n",
    "# read in the shapefile first, that gives us the CRS for the analysis\n",
    "polygons <- st_read(\"polygons.shp\")\n",
    "\n",
    "# read in the points\n",
    "points <- read_csv('points.csv')\n",
    "\n",
    "# convert the points to an sf object\n",
    "points_sf <- st_as_sf(points, coords = c(\"decimalLongitude\", \"decimalLatitude\"))\n",
    "\n",
    "# set CRS for the points to be the same as shapefile\n",
    "st_crs(points_sf) <- st_crs(polygons)\n",
    "\n",
    "# plot to see how they relate\n",
    "#ggplot() +\n",
    "  #geom_sf(data = polygons) +\n",
    "  #geom_sf(data = points_sf) +\n",
    "  #theme_minimal()\n",
    "#ggplot() +\n",
    "  #geom_sf(data = polygons) +\n",
    "  #geom_sf(data = points_sf) +\n",
    "  #theme_minimal()\n",
    "\n",
    "# some points are out of the polygon, lets filter out\n",
    "# so we get only points in the polygon\n",
    "#points_sf_joined <- \n",
    "  #st_join(points_sf, polygons) %>%  # spatial join to get intersection of points and poly\n",
    "  #filter(!is.na(rgn_name)) # rgn_name just one col from the polygon data that I chose to filter on, could use any. The idea is to get only the points that fall in the polygon\n",
    "\n",
    "# plot again \n",
    "#ggplot() +\n",
    "  #geom_sf(data = polygons) +\n",
    "  #geom_sf(data = points_sf_joined) +\n",
    "  #theme_minimal()\n",
    "\n",
    "#ggplot() +\n",
    "  #geom_sf(coral1 = polygons) +\n",
    "  #geom_sf(corala = points_sf) +\n",
    "  #theme_minimal()\n",
    "\n",
    "# some points are out of the polygon, lets filter out\n",
    "# so we get only points in the polygon\n",
    "#points_sf_joined <- \n",
    "  #st_join(points_sf, polygons) %>%  # spatial join to get intersection of points and poly\n",
    "  #filter(!is.na(rgn_name)) # rgn_name just one col from the polygon data that I chose to filter on, could use any. The idea is to get only the points that fall in the polygon\n",
    "\n",
    "# plot again \n",
    "#ggplot() +\n",
    "  #geom_sf(data = polygons) +\n",
    "  #geom_sf(data = points_sf_joined) +\n",
    "  #theme_minimal()"
   ]
  },
  {
   "cell_type": "code",
   "execution_count": null,
   "metadata": {},
   "outputs": [],
   "source": []
  }
 ],
 "metadata": {
  "kernelspec": {
   "display_name": "Python 3",
   "language": "python",
   "name": "python3"
  },
  "language_info": {
   "codemirror_mode": {
    "name": "ipython",
    "version": 3
   },
   "file_extension": ".py",
   "mimetype": "text/x-python",
   "name": "python",
   "nbconvert_exporter": "python",
   "pygments_lexer": "ipython3",
   "version": "3.6.13"
  }
 },
 "nbformat": 4,
 "nbformat_minor": 4
}
