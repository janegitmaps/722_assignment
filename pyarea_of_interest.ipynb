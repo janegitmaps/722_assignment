{
 "cells": [
  {
   "cell_type": "code",
   "execution_count": null,
   "metadata": {},
   "outputs": [],
   "source": [
    "import sys\n",
    "print (sys.version) #this should read as 3.6.13 |Anaconda, Inc.| (default, Mar 16 2021, 11:37:27) [MSC v.1916 64 bit (AMD64)]\n",
    "                    #if not return to anacond environment installation steps"
   ]
  },
  {
   "cell_type": "code",
   "execution_count": null,
   "metadata": {},
   "outputs": [],
   "source": [
    "# this lets us use the figures interactively\n",
    "%matplotlib notebook\n",
    "\n",
    "import geopandas as gpd\n",
    "\n",
    "import pandas as pd\n",
    "from shapely.geometry import Point\n",
    "from shapely.geometry import Polygon\n",
    "import datetime\n",
    "\n",
    "import cartopy.crs as ccrs\n",
    "from cartopy.feature import ShapelyFeature"
   ]
  },
  {
   "cell_type": "code",
   "execution_count": null,
   "metadata": {},
   "outputs": [],
   "source": [
    "area_of_interest = pd.read_csv('area_of_interest/area_of_interest.txt')\n",
    "area_of_interest.head()"
   ]
  },
  {
   "cell_type": "code",
   "execution_count": null,
   "metadata": {},
   "outputs": [],
   "source": [
    "from geopandas import GeoDataFrame\n",
    "from shapely.geometry import Polygon\n",
    "\n",
    "geometry = [Point(xy) for xy in zip(area_of_interest.x, area_of_interest.y)]\n",
    "area_of_interest = area_of_interest.drop(['x', 'y'], axis=1)\n",
    "area_gdf = GeoDataFrame(area_of_interest, crs=\"EPSG:32626\", geometry=geometry)\n",
    "print (area_gdf.head())"
   ]
  },
  {
   "cell_type": "code",
   "execution_count": null,
   "metadata": {},
   "outputs": [],
   "source": [
    "lon_point_aoi = [-87.37800, -87.33240, -87.26720, -87.31450]\n",
    "lat_point_aoi = [20.35620, 20.33500, 20.45440 -87.26720, 20.47330]\n",
    "\n",
    "polygon_geom_aoi = Polygon(zip(lon_point_aoi, lat_point_aoi))\n",
    "crs = {'init': 'epsg:32616'}\n",
    "aoi_poly = gpd.GeoDataFrame(index=[0], crs=crs, geometry=[polygon_geom_aoi])       \n",
    "print(aoi_poly.geometry)\n",
    "\n"
   ]
  },
  {
   "cell_type": "code",
   "execution_count": null,
   "metadata": {},
   "outputs": [],
   "source": [
    "aoi_poly.crs"
   ]
  },
  {
   "cell_type": "code",
   "execution_count": null,
   "metadata": {},
   "outputs": [],
   "source": [
    "aoi_poly.to_file('area_of_interest/aoi_poly.shp')\n",
    "aoi_poly = gpd.read_file('area_of_interest/aoi_poly.shp')\n"
   ]
  }
 ],
 "metadata": {
  "kernelspec": {
   "display_name": "Python 3",
   "language": "python",
   "name": "python3"
  },
  "language_info": {
   "codemirror_mode": {
    "name": "ipython",
    "version": 3
   },
   "file_extension": ".py",
   "mimetype": "text/x-python",
   "name": "python",
   "nbconvert_exporter": "python",
   "pygments_lexer": "ipython3",
   "version": "3.6.13"
  }
 },
 "nbformat": 4,
 "nbformat_minor": 4
}
