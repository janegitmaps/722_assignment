{
 "cells": [
  {
   "cell_type": "code",
   "execution_count": 3,
   "id": "80fbb8d6",
   "metadata": {},
   "outputs": [
    {
     "name": "stdout",
     "output_type": "stream",
     "text": [
      "3.6.13 |Anaconda, Inc.| (default, Mar 16 2021, 11:37:27) [MSC v.1916 64 bit (AMD64)]\n"
     ]
    }
   ],
   "source": [
    "import sys\n",
    "print (sys.version)"
   ]
  },
  {
   "cell_type": "code",
   "execution_count": 4,
   "id": "4d24089c",
   "metadata": {},
   "outputs": [],
   "source": [
    "#import fiona\n",
    "#import gdal\n",
    "#from gdal import VSIReadDir\n",
    "#from gdal import VISIStatL\n",
    "import tarfile\n",
    "import os\n",
    "from osgeo import gdal\n",
    "import io\n",
    "import osr\n",
    "import numpy as np"
   ]
  },
  {
   "cell_type": "code",
   "execution_count": null,
   "id": "be7e8e8b",
   "metadata": {},
   "outputs": [],
   "source": [
    "#path = 'C:/Users/jrllo/OneDrive/Documents/GitHub/egm722/Assignment/data/raster'\n",
    "#VRT = 'C:/Users/jrllo/OneDrive/Documents/GitHub/egm722/Assignment/data/raster/qroo84'\n",
    "#pathout = 'C:/Users/jrllo/OneDrive/Documents/GitHub/egm722/Assignment/data/raster/qroo84'"
   ]
  },
  {
   "cell_type": "code",
   "execution_count": 6,
   "id": "bfc56218",
   "metadata": {},
   "outputs": [
    {
     "ename": "AttributeError",
     "evalue": "'str' object has no attribute 'to_file'",
     "output_type": "error",
     "traceback": [
      "\u001b[1;31m---------------------------------------------------------------------------\u001b[0m",
      "\u001b[1;31mAttributeError\u001b[0m                            Traceback (most recent call last)",
      "\u001b[1;32m<ipython-input-6-118186c442c7>\u001b[0m in \u001b[0;36m<module>\u001b[1;34m\u001b[0m\n\u001b[0;32m     36\u001b[0m \u001b[0mexampleOutput\u001b[0m \u001b[1;33m=\u001b[0m \u001b[1;32mNone\u001b[0m\u001b[1;33m\u001b[0m\u001b[1;33m\u001b[0m\u001b[0m\n\u001b[0;32m     37\u001b[0m \u001b[1;33m\u001b[0m\u001b[0m\n\u001b[1;32m---> 38\u001b[1;33m \u001b[0mbandall_ls584\u001b[0m\u001b[1;33m.\u001b[0m\u001b[0mto_file\u001b[0m\u001b[1;33m(\u001b[0m\u001b[1;34m'raster/qroo84/qroo84_stack.tif'\u001b[0m\u001b[1;33m)\u001b[0m\u001b[1;33m\u001b[0m\u001b[1;33m\u001b[0m\u001b[0m\n\u001b[0m\u001b[0;32m     39\u001b[0m \u001b[1;33m\u001b[0m\u001b[0m\n\u001b[0;32m     40\u001b[0m \u001b[1;33m\u001b[0m\u001b[0m\n",
      "\u001b[1;31mAttributeError\u001b[0m: 'str' object has no attribute 'to_file'"
     ]
    }
   ],
   "source": [
    "import gdal\n",
    "import osgeo.gdalnumeric as gdn\n",
    "\n",
    "b1 = gdal.Open(\"L1TP_018046_19840410_20170220_01_T1_B1.tif\")\n",
    "b2 = gdal.Open(\"L1TP_018046_19840410_20170220_01_T1_B2.tif\")\n",
    "b3 = gdal.Open(\"L1TP_018046_19840410_20170220_01_T1_B3.tif\")\n",
    "b4 = gdal.Open(\"L1TP_018046_19840410_20170220_01_T1_B4.tif\")\n",
    "b5 = gdal.Open(\"L1TP_018046_19840410_20170220_01_T1_B5.tif\")\n",
    "b6 = gdal.Open(\"L1TP_018046_19840410_20170220_01_T1_B6.tif\")\n",
    "b7 = gdal.Open(\"L1TP_018046_19840410_20170220_01_T1_B7.tif\")\n",
    "\n",
    "input_file = gdal.Open('b1, b2, b3, b4, b5, b6, b7')\n",
    "\n",
    "def img_to_array(input_file, dim_ordering=\"channels_last\", dtype='float32'):\n",
    "    file  = gdal.Open(input_file)\n",
    "    bands = [file.GetRasterBand(i) for i in range(1, file.RasterCount + 1)]\n",
    "    arr = np.array([gdn.BandReadAsArray(band) for band in bands]).astype(dtype)\n",
    "    if dim_ordering==\"channels_last\":\n",
    "        arr = np.transpose(arr, [2, 1, 0])  # Reorders dimensions, so that channels are last\n",
    "    return arr\n",
    "\n",
    "bandall_ls584 = img_to_array('raster/qroo84/LT05_L1TP_018046_19840410_20170220_01_T1_B1.tif')\n",
    "\n",
    "bandall_ls584 = (\"raster/qroo84/qroo84_stack.tif\")\n",
    "rasterOrigin=[0,0]\n",
    "\n",
    "#img_to_array(example,rasterOrigin,1, 1, 'GTiff',32616) \n",
    "\n",
    "createdFile = gdal.Open(\"C:/Users/jrllo/OneDrive/Documents/GitHub/egm722/Assignment/data/raster/qr0084/qroo84_stack.tif\")\n",
    "\n",
    "#print 'old file info': gdal.Info(input_file)\n",
    "#print 'new file info': gdal.Info(createdFile)\n",
    "\n",
    "createdFile = None\n",
    "\n",
    "exampleOutput = None\n",
    "\n",
    "bandall_ls584.to_file('raster/qroo84/qroo84_stack.tif')\n",
    "\n",
    "\n"
   ]
  },
  {
   "cell_type": "code",
   "execution_count": null,
   "id": "9b4fd896",
   "metadata": {},
   "outputs": [],
   "source": [
    "from osgeo import gdal\n",
    "\n",
    "\n",
    "src_ds = gdal.OpenShared('raster/qroo84')\n",
    "mask_ds = gdal.OpenShared('raster/qroo84')\n",
    "mask = mask_ds.GetRasterBand(1).ReadAsArray()\n",
    "\n",
    "tmp_ds = gdal.GetDriverByName('MEM').CreateCopy('', src_ds, 0)\n",
    "tmp_ds.AddBand()\n",
    "tmp_ds.GetRasterBand(4).WriteArray(mask)\n",
    "\n",
    "dst_ds = gdal.GetDriverByName('PNG').CreateCopy(output_path, tmp_ds, 0)\n",
    "del dst_ds"
   ]
  },
  {
   "cell_type": "code",
   "execution_count": null,
   "id": "4fe72611",
   "metadata": {},
   "outputs": [],
   "source": [
    "#Create output folder\n",
    "newFolder = \"raster/qroo84\"\n",
    "os.makedirs(newFolder)\n",
    "\n",
    "#Extract files\n",
    "tar = tarfile.open(\"raster/landsat5/LT05_L1TP_018046_19840410_20170220_01_T1.tar.gz\", \"r:gz\")\n",
    "tar.extractall(newFolder)\n",
    "tar.close()"
   ]
  },
  {
   "cell_type": "code",
   "execution_count": null,
   "id": "38483ddd",
   "metadata": {},
   "outputs": [],
   "source": [
    "newFolder = \"raster/qroo11\"\n",
    "os.makedirs(newFolder)\n",
    "\n",
    "#Extract files\n",
    "tar = tarfile.open(\"raster/landsat7/LE07_L1TP_018046_20110224_20161210_01_T1.tar.gz\", \"r:gz\")\n",
    "tar.extractall(newFolder)\n",
    "tar.close()"
   ]
  },
  {
   "cell_type": "code",
   "execution_count": null,
   "id": "c1a110a7",
   "metadata": {},
   "outputs": [],
   "source": [
    "newFolder = \"raster/qroo19\"\n",
    "os.makedirs(newFolder)\n",
    "\n",
    "#Extract files\n",
    "tar = tarfile.open(\"raster/landsat8/LC08_L1TP_018046_20190411_20190422_01_T1.tar.gz\", \"r:gz\")\n",
    "tar.extractall(newFolder)\n",
    "tar.close()"
   ]
  },
  {
   "cell_type": "code",
   "execution_count": null,
   "id": "25f21354",
   "metadata": {},
   "outputs": [],
   "source": [
    "gdal.buildvrt (\"raster/landsat5/qroo84/LT05_L1TP_018046_19840410_20170220_01_T1_B4.vrt B/*.tif\")\n",
    "\n",
    "gdal.buildvrt (\"raster/landsat5/qroo84/LT05_L1TP_018046_19840410_20170220_01_T1_B4.vrt B/*.tif\")"
   ]
  },
  {
   "cell_type": "code",
   "execution_count": null,
   "id": "2127d911",
   "metadata": {},
   "outputs": [],
   "source": [
    "gdalbuildvrt -input_file_list my_list.txt doq_index.vrt"
   ]
  },
  {
   "cell_type": "code",
   "execution_count": null,
   "id": "732b4916",
   "metadata": {},
   "outputs": [],
   "source": [
    "gdal.buildvrt(file_open)"
   ]
  },
  {
   "cell_type": "code",
   "execution_count": null,
   "id": "71b1e7d7",
   "metadata": {},
   "outputs": [],
   "source": []
  },
  {
   "cell_type": "code",
   "execution_count": null,
   "id": "f7b68461",
   "metadata": {},
   "outputs": [],
   "source": [
    "from osgeo import gdal, osr\n",
    "import os\n",
    "import io\n",
    "import numpy as np\n",
    "\n",
    "def array2raster(newRasterfn,rasterOrigin,pixelWidth,pixelHeight,array,format,spatialRef):\n",
    "\n",
    "    bands = array.shape[0]\n",
    "    cols = array.shape[1]\n",
    "    rows = array.shape[2]\n",
    "\n",
    "    originX = rasterOrigin[0]\n",
    "    originY = rasterOrigin[1]\n",
    "\n",
    "    driver = gdal.GetDriverByName(format)\n",
    "    outRaster = driver.Create(newRasterfn, cols, rows, bands,gdal.GDT_UInt16,options = ['PHOTOMETRIC=RGB', 'PROFILE=GeoTIFF',])\n",
    "    outRaster.SetGeoTransform((originX, pixelWidth, 0, originY, 0, pixelHeight))\n",
    "\n",
    "    for band in range(bands):\n",
    "        outRaster.GetRasterBand(band+1).WriteArray(array[band,:,:])\n",
    "        outRaster.GetRasterBand(band+1).FlushCache()\n",
    "    outRasterSRS = osr.SpatialReference()\n",
    "    outRasterSRS.ImportFromEPSG(spatialRef)\n",
    "    outRaster.SetProjection(outRasterSRS.ExportToWkt())\n",
    "\n",
    "\n",
    "def get_rgb_bands():\n",
    "    source = gdal.Open(\"C:\\\\RGBtest.tif\")\n",
    "\n",
    "    red = source.GetRasterBand(1).ReadAsArray()\n",
    "    green = source.GetRasterBand(2).ReadAsArray()\n",
    "    blue = source.GetRasterBand(3).ReadAsArray()\n",
    "\n",
    "    #rgbOutput = source.ReadAsArray() #Easier method\n",
    "    rgbOutput = np.zeros((3,16,16), 'uint16')\n",
    "\n",
    "    rgbOutput[0,...] = red\n",
    "    rgbOutput[1,...] = green\n",
    "    rgbOutput[2,...] = blue\n",
    "\n",
    "    #Clear so file isn't locked\n",
    "    source = None\n",
    "    return rgbOutput\n",
    "\n",
    "exampleRGB = get_rgb_bands()\n",
    "\n",
    "exampleOutput = \"C:\\\\ExampleOutput.tif\"\n",
    "rasterOrigin=[0,0]\n",
    "\n",
    "array2raster(exampleOutput,rasterOrigin,1, 1,exampleRGB,'GTiff',3879) \n",
    "\n",
    "createdFile = gdal.Open(\"C:\\\\ExampleOutput.tif\")\n",
    "\n",
    "#print 'old file info:' gdal.Info(source)\n",
    "#print 'new file info:' gdal.Info(createdFile)\n",
    "\n",
    "createdFile = None\n",
    "\n",
    "exampleOutput = None\n"
   ]
  },
  {
   "cell_type": "code",
   "execution_count": null,
   "id": "1b30a47e",
   "metadata": {},
   "outputs": [],
   "source": []
  },
  {
   "cell_type": "code",
   "execution_count": null,
   "id": "371c280e",
   "metadata": {},
   "outputs": [],
   "source": []
  },
  {
   "cell_type": "code",
   "execution_count": null,
   "id": "abdda95d",
   "metadata": {},
   "outputs": [],
   "source": [
    "qr84b4_fp = r\"raster/landsat5/qroo84/LT05_L1TP_018046_19840410_20170220_01_T1_B4.tif\" \n",
    "qr84b5_fp = r\"raster/landsat5/qroo84/LT05_L1TP_018046_19840410_20170220_01_T1_B5.tif\" \n",
    "qr84b1_fp = r\"raster/landsat5/qroo84/LT05_L1TP_018046_19840410_20170220_01_T1_B1.tif\" \n",
    "qr84_b4 = gdal.Open(\"qr84b4_fp\")\n",
    "qr84_b5 = gdal.Open(\"qr84b5_fp\")\n",
    "qr84_b1 = gdal.Open(\"qr84b1_fp\")"
   ]
  },
  {
   "cell_type": "code",
   "execution_count": null,
   "id": "a1b90b51",
   "metadata": {},
   "outputs": [],
   "source": [
    "R = qr84_b4.ReadAsArray()\n",
    "G = qr84_b5.ReadAsArray()\n",
    "B = qr84_b1.ReadAsArray()"
   ]
  },
  {
   "cell_type": "code",
   "execution_count": null,
   "id": "e111b834",
   "metadata": {},
   "outputs": [],
   "source": [
    "stacked = np.array([R, G, B])\n",
    "fdal_array.SaveArray(stacked.astype(\"int\"), )"
   ]
  },
  {
   "cell_type": "code",
   "execution_count": null,
   "id": "70cacb93",
   "metadata": {},
   "outputs": [],
   "source": [
    "b1 = gdal.Open(\"L1TP_018046_19840410_20170220_01_T1_B1.tif\")\n",
    "np.array(b1)\n"
   ]
  },
  {
   "cell_type": "code",
   "execution_count": null,
   "id": "4265b753",
   "metadata": {},
   "outputs": [],
   "source": [
    "gdal.Open(\"L1TP_018046_19840410_20170220_01_T1_B1.tif\")\n",
    "\n",
    "\n",
    "b1 = gdal.Open(\"L1TP_018046_19840410_20170220_01_T1_B1.tif\")\n",
    "b2 = gdal.Open(\"L1TP_018046_19840410_20170220_01_T1_B2.tif\")\n",
    "b3 = gdal.Open(\"L1TP_018046_19840410_20170220_01_T1_B3.tif\")\n",
    "b4 = gdal.Open(\"L1TP_018046_19840410_20170220_01_T1_B4.tif\")\n",
    "b5 = gdal.Open(\"L1TP_018046_19840410_20170220_01_T1_B5.tif\")\n",
    "b6 = gdal.Open(\"L1TP_018046_19840410_20170220_01_T1_B6.tif\")\n",
    "b7 = gdal.Open(\"L1TP_018046_19840410_20170220_01_T1_B7.tif\")\n",
    "b8 = gdal.Open(\"L1TP_018046_19840410_20170220_01_T1_B8.tif\")\n",
    "\n",
    "array1 = np.array(b1)\n",
    "array2 = np.array(b2)\n",
    "array3 = np.array(b3)\n",
    "array4 = np.array(b4)\n",
    "array5 = np.array(b5)\n",
    "array6 = np.array(b6)\n",
    "array7 = np.array(b7)\n",
    "array8 = np.array(b8)\n",
    "\n",
    "#array1 = b1.ReadAsArray()\n",
    "#array2 = b2.ReadAsArray()\n",
    "#array3 = b3.ReadAsArray()\n",
    "#array4 = b4.ReadAsArray()\n",
    "#array5 = b5.ReadAsArray()\n",
    "#array6 = b6.ReadAsArray()\n",
    "#array7 = b7.ReadAsArray()\n",
    "#array8 = b8.ReadAsArray()\n",
    "\n",
    "stacked = np.array([array1,array2, array3, array4, array5, array6, array7, array8])\n",
    "stacked.SaveArray(stacked.astype(\"int\"), \"ls5_stacked.tif\", \"GTiff\", gdal.Open(\"L1TP_018046_19840410_20170220_01_T1_B1.tif\"),\n",
    "\"L1TP_018046_19840410_20170220_01_T1_B2.tif\", \"L1TP_018046_19840410_20170220_01_T1_B3.tif\", \n",
    "\"L1TP_018046_19840410_20170220_01_T1_B4.tif\", \"L1TP_018046_19840410_20170220_01_T1_B5.tif\",\n",
    "\"L1TP_018046_19840410_20170220_01_T1_B6.tif\", \"L1TP_018046_19840410_20170220_01_T1_B7.tif\",\n",
    "\"L1TP_018046_19840410_20170220_01_T1_B8.tif\")"
   ]
  },
  {
   "cell_type": "code",
   "execution_count": null,
   "id": "7d3e983a",
   "metadata": {},
   "outputs": [],
   "source": [
    "b4_filepath = r\"raster/landsat5/qroo84/LT05_L1TP_018046_19840410_20170220_01_T1_B4.tif\" \n",
    "b5_filepath = r\"raster/landsat5/qroo84/LT05_L1TP_018046_19840410_20170220_01_T1_B5.tif\" \n",
    "b1_filepath = r\"raster/landsat5/qroo84/LT05_L1TP_018046_19840410_20170220_01_T1_B1.tif\" \n",
    "\n",
    "# Open the file:\n",
    "qr84_b4 = gdal.Open(\"b4_filepath\")\n",
    "qr84_b5 = gdal.Open(\"b5_filepath\")\n",
    "qr84_b1 = gdal.Open(\"b1_filepath\")\n",
    "\n",
    "# Check type of the variable 'raster'\n",
    "type(qr84_b4), type (b5_filepath), type (b1_filepath)"
   ]
  },
  {
   "cell_type": "code",
   "execution_count": null,
   "id": "31fc0933",
   "metadata": {},
   "outputs": [],
   "source": [
    "# Projection\n",
    "qr84_b4.GetProjection()\n",
    "\n",
    "# Dimensions\n",
    "qr84_b4.RasterXSize\n",
    "qr84_b4.RasterYSize\n",
    "\n",
    "# Number of bands\n",
    "qr84_b4.RasterCount\n",
    "\n",
    "# Metadata for the raster dataset\n",
    "qr84_b4.GetMetadata()"
   ]
  },
  {
   "cell_type": "code",
   "execution_count": null,
   "id": "e9eec151",
   "metadata": {},
   "outputs": [],
   "source": [
    "gdalindex [-f format] [-tileindex  C:\\UC:\\Users\\jrllo\\OneDrive\\Documents\\GitHub\\egm722\\Assignment\\data\\raster\\qroo84"
   ]
  },
  {
   "cell_type": "code",
   "execution_count": null,
   "id": "ff2d4d15",
   "metadata": {},
   "outputs": [],
   "source": [
    "inputfiles = \"raster/qroo84/LT05_L1TP_018046_19840410_20170220_01_T1_B4.tif, LT05_L1TP_018046_19840410_20170220_01_T1_B5.tif, LT05_L1TP_018046_19840410_20170220_01_T1_B1.tif\"\n",
    "outputfile = \"raster/qroo84/qroo84_b451.tif\"\n",
    "command = \"gdal_merge.py -separate %s -o %s\" % (inputfiles, outputfile)\n",
    "os.system(command)"
   ]
  },
  {
   "cell_type": "code",
   "execution_count": null,
   "id": "8a60a438",
   "metadata": {},
   "outputs": [],
   "source": [
    "import os\n",
    "\n",
    "# Define input and output files\n",
    "inputfiles =  \"band3_clip.tif band4_clip.tif band5_clip.tif\"\n",
    "outputfile =  \"Landsat8_GreenRedNir.tif\"\n",
    "\n",
    "# Generate the command\n",
    "command = \"gdal_merge.py -separate %s -o %s\" % (inputfiles, outputfile)\n",
    "\n",
    "# Run the command. os.system() returns value zero if the command was executed succesfully\n",
    "os.system(command)"
   ]
  },
  {
   "cell_type": "code",
   "execution_count": null,
   "id": "6d8ee75a",
   "metadata": {},
   "outputs": [],
   "source": [
    "gdaltindex [-f format] [raster/qroo84/LT05_L1TP_018046_19840410_20170220_01_T1_B1] [-write_absolute_path]\n",
    "        [-skip_different_projection] [-t_srs target_srs]\n",
    "        [-src_srs_name field_name] [-src_srs_format [AUTO|WKT|EPSG|PROJ]\n",
    "        [-lyr_name name] index_file [gdal_file]*"
   ]
  },
  {
   "cell_type": "code",
   "execution_count": null,
   "id": "ac36cffe",
   "metadata": {},
   "outputs": [],
   "source": [
    "ds=gdal.Open(raster) array3d = ds.ReadAsArray()"
   ]
  },
  {
   "cell_type": "code",
   "execution_count": null,
   "id": "e583b3f4",
   "metadata": {},
   "outputs": [],
   "source": [
    "landsat5[0]['entityId'], landsat5[1]['entityId'], landsat5[2]['entityId'], landsat5[3]['entityId'], landsat5[4]['entityId'], landsat5[5]['entityId'], landsat5[6]['entityId'], landsat5[7]['entityId'], landsat5[8]['entityId'], landsat5[9]['entityId'], landsat5[10]['entityId'], landsat5[11]['entityId'], landsat5[12]['entityId'], landsat5[13]['entityId'], landsat5[14]['entityId'], landsat5[15]['entityId'], landsat5[16]['entityId'], landsat5[17]['entityId'], landsat5[18]['entityId'], landsat5[19]['entityId'], "
   ]
  },
  {
   "cell_type": "code",
   "execution_count": null,
   "id": "4d24836f",
   "metadata": {},
   "outputs": [],
   "source": [
    "#with fiona.open('raster/landsat5/LT05_L1TP_018046_19840410_20170220_01_T1.tar.gz')"
   ]
  }
 ],
 "metadata": {
  "kernelspec": {
   "display_name": "Python 3",
   "language": "python",
   "name": "python3"
  },
  "language_info": {
   "codemirror_mode": {
    "name": "ipython",
    "version": 3
   },
   "file_extension": ".py",
   "mimetype": "text/x-python",
   "name": "python",
   "nbconvert_exporter": "python",
   "pygments_lexer": "ipython3",
   "version": "3.6.13"
  }
 },
 "nbformat": 4,
 "nbformat_minor": 5
}
