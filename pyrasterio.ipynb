{
 "cells": [
  {
   "cell_type": "code",
   "execution_count": 1,
   "metadata": {},
   "outputs": [
    {
     "name": "stdout",
     "output_type": "stream",
     "text": [
      "3.6.13 |Anaconda, Inc.| (default, Mar 16 2021, 11:37:27) [MSC v.1916 64 bit (AMD64)]\n"
     ]
    }
   ],
   "source": [
    "import sys\n",
    "print (sys.version) #this should read as 3.6.13 |Anaconda, Inc.| (default, Mar 16 2021, 11:37:27) [MSC v.1916 64 bit (AMD64)]\n",
    "                    #if not return to anacond environment installation steps"
   ]
  },
  {
   "cell_type": "code",
   "execution_count": 2,
   "metadata": {},
   "outputs": [],
   "source": [
    "# this lets us use the figures interactively\n",
    "%matplotlib notebook\n",
    "\n",
    "import geopandas as gpd\n",
    "\n",
    "import pandas as pd\n",
    "from shapely.geometry import Point\n",
    "from shapely.geometry import Polygon\n",
    "import datetime\n",
    "\n",
    "import cartopy.crs as ccrs\n",
    "from cartopy.feature import ShapelyFeature\n",
    "\n",
    "import matplotlib.pyplot as plt\n",
    "import matplotlib.patches as mpatches\n",
    "import matplotlib.lines as mlines\n",
    "\n",
    "import rasterio as rio\n",
    "\n",
    "import landsatxplore as landsatxplore\n",
    "\n",
    "import json\n",
    "\n",
    "import numpy as np "
   ]
  },
  {
   "cell_type": "code",
   "execution_count": null,
   "metadata": {},
   "outputs": [],
   "source": [
    "\n",
    "\n",
    "# Read metadata of first file\n",
    "with rasterio.open(file_list[0]) as src0:\n",
    "    meta = src0.meta\n",
    "\n",
    "# Update meta to reflect the number of layers\n",
    "meta.update(count = len(file_list))\n",
    "\n",
    "# Read each layer and write it to stack\n",
    "with rasterio.open('stack.tif', 'w', **meta) as dst:\n",
    "    for id, layer in enumerate(file_list, start=1):\n",
    "        with rasterio.open(layer) as src1:\n",
    "            dst.write_band(id, src1.read(1))"
   ]
  },
  {
   "cell_type": "code",
   "execution_count": null,
   "metadata": {},
   "outputs": [],
   "source": [
    "qroo84_raster = rio.open('C:\\\\Users\\\\jrllo\\\\OneDrive\\\\Documents\\\\GitHub\\\\egm722\\\\Assignment\\\\raster\\\\landsat8\\\\qroo.tif')\n",
    "\n",
    "print('qroo84 raster {} opened in {} mode'.format(qroo84_raster.name,qroo84_raster.mode)) #name attribute is the filename for the dataset, and the mode refers to how the dataset has been opened (r for read, w for write, r+ for read/write).\n",
    "print('qroo84 raster image has {} band(s)'.format(qroo84_raster.count)) #check how many layers, or bands, the datset has using count\n",
    "print('qroo84 raster image size (width, height): {} x {}'.format(qroo84_raster.width, qroo84_raster.height)) # check the size of the image using width and height\n",
    "print('qroo84 raster band 1 dataype is {}'.format(qroo84_raster.dtypes[0])) # note that the band name (Band 1) differs from the list index [0]"
   ]
  },
  {
   "cell_type": "code",
   "execution_count": null,
   "metadata": {},
   "outputs": [],
   "source": [
    "print(qroo84_raster.bounds)"
   ]
  },
  {
   "cell_type": "code",
   "execution_count": null,
   "metadata": {},
   "outputs": [],
   "source": [
    "print(qroo84_raster.crs)"
   ]
  },
  {
   "cell_type": "code",
   "execution_count": null,
   "metadata": {},
   "outputs": [],
   "source": [
    "qroo_84 = qroo84_raster.read(1)"
   ]
  },
  {
   "cell_type": "code",
   "execution_count": null,
   "metadata": {},
   "outputs": [],
   "source": [
    "print(qroo_84.shape)\n",
    "print(qroo_84[12])"
   ]
  },
  {
   "cell_type": "code",
   "execution_count": null,
   "metadata": {},
   "outputs": [],
   "source": [
    "print(qroo_84[0, qroo84_raster.height // 2, qroo84_raster.width // 2]) # note that // performs floor division, as indices have to be integers"
   ]
  },
  {
   "cell_type": "code",
   "execution_count": null,
   "metadata": {},
   "outputs": [],
   "source": [
    "centeri, centerj = qroo84_raster.height // 2, qroo84_raster.width // 2 # note that centeri corresponds to the row, and centerj the column\n",
    "centerx, centery = qroo84_raster.transform * (centerj, centeri) # note the reversal here, from i,j to j,i\n",
    "print(qroo84_raster.index(centerx, centery))\n",
    "print((centeri, centerj) == qroo84_raster.index(centerx, centery)) # check that these are the same"
   ]
  },
  {
   "cell_type": "code",
   "execution_count": null,
   "metadata": {},
   "outputs": [],
   "source": [
    "top, lft = qroo84_raster.index(centerx-500, centery+500)\n",
    "bot, rgt = qroo84_raster.index(centerx+500, centery-500)\n",
    "\n",
    "subset = qroo84_raster.read(window=((top, bot), (lft, rgt))) # format is (top, bottom), (left, right)\n",
    "\n",
    "qroo84_raster.close() # remember to close the dataset now that we're done with it."
   ]
  },
  {
   "cell_type": "code",
   "execution_count": null,
   "metadata": {},
   "outputs": [],
   "source": []
  },
  {
   "cell_type": "code",
   "execution_count": null,
   "metadata": {},
   "outputs": [],
   "source": []
  },
  {
   "cell_type": "code",
   "execution_count": null,
   "metadata": {},
   "outputs": [],
   "source": [
    "myCRS = ccrs.UTM(16) #work out crs.utm() number from epsg value above\n",
    "fig, ax = plt.subplots(1, 1, figsize=(10, 10), subplot_kw=dict(projection=myCRS))"
   ]
  },
  {
   "cell_type": "code",
   "execution_count": null,
   "metadata": {},
   "outputs": [],
   "source": [
    "rasterio.merge.copy_first(merged_data, new_data, merged_mask, new_mask, **kwargs)\n",
    "rasterio.merge.copy_last(merged_data, new_data, merged_mask, new_mask **kwargs)\n",
    "rasterio.merge.copy_max(merged_data, new_data, merged_mask, new_mask **kwargs)\n",
    "rasterio.merge.copy_min(merged_data, new_data, merged_mask, new_mask **kwargs)\n",
    "rasterio.merge.merge(qroo84_raster, bounds=None, res=None, nodata=None, dtype=None, precision=None, indexes=None, output_count=None, resampling=<Resampling.nearest:0>, method='first', dst_path=None, dst_kwds=None)"
   ]
  },
  {
   "cell_type": "code",
   "execution_count": null,
   "metadata": {},
   "outputs": [],
   "source": [
    "#ax.imshow(img[0], cmap='gray', vmin=200, vmax=5000)"
   ]
  },
  {
   "cell_type": "code",
   "execution_count": null,
   "metadata": {},
   "outputs": [],
   "source": [
    "#ax.imshow(img[0], cmap='gray', vmin=200, vmax=5000, transform=myCRS, extent=[xmin, xmax, ymin, ymax])"
   ]
  },
  {
   "cell_type": "code",
   "execution_count": null,
   "metadata": {},
   "outputs": [],
   "source": [
    "#ax.imshow(img[0], transform=myCRS, extent=[xmin, xmax, ymin, ymax])"
   ]
  },
  {
   "cell_type": "code",
   "execution_count": null,
   "metadata": {},
   "outputs": [],
   "source": [
    "#outvrt = '/vsimem/stacked.vrt' #/vsimem is special in-memory virtual \"directory\"\n",
    "#outtif = '/tmp/stacked.tif'\n",
    "#import glob2\n",
    "#tifs = glob2.glob('assignment/raster/landsat5*.tif') \n",
    "\n",
    "\n",
    "#or for all tifs in a dir\n",
    "#import glob\n",
    "#tifs = glob.glob('dir/*.tif')\n",
    "\n",
    "#outds = gdal.BuildVRT(outvrt, tifs, separate=True)\n",
    "#outds = gdal.Translate(outtif, outds)"
   ]
  },
  {
   "cell_type": "code",
   "execution_count": 34,
   "metadata": {},
   "outputs": [
    {
     "ename": "TypeError",
     "evalue": "open() argument after ** must be a mapping, not tuple",
     "output_type": "error",
     "traceback": [
      "\u001b[1;31m---------------------------------------------------------------------------\u001b[0m",
      "\u001b[1;31mTypeError\u001b[0m                                 Traceback (most recent call last)",
      "\u001b[1;32m<ipython-input-34-76fc706173b8>\u001b[0m in \u001b[0;36m<module>\u001b[1;34m\u001b[0m\n\u001b[0;32m     20\u001b[0m \u001b[1;33m\u001b[0m\u001b[0m\n\u001b[0;32m     21\u001b[0m \u001b[0mstack\u001b[0m \u001b[1;33m=\u001b[0m \u001b[0mnp\u001b[0m\u001b[1;33m.\u001b[0m\u001b[0mdstack\u001b[0m\u001b[1;33m(\u001b[0m\u001b[1;33m(\u001b[0m\u001b[0mband4\u001b[0m\u001b[1;33m,\u001b[0m \u001b[0mband5\u001b[0m\u001b[1;33m,\u001b[0m \u001b[0mband1\u001b[0m\u001b[1;33m)\u001b[0m\u001b[1;33m)\u001b[0m\u001b[1;33m\u001b[0m\u001b[1;33m\u001b[0m\u001b[0m\n\u001b[1;32m---> 22\u001b[1;33m \u001b[1;32mwith\u001b[0m \u001b[0mrio\u001b[0m\u001b[1;33m.\u001b[0m\u001b[0mopen\u001b[0m\u001b[1;33m(\u001b[0m\u001b[0mout_img\u001b[0m\u001b[1;33m,\u001b[0m \u001b[1;34m\"w\"\u001b[0m\u001b[1;33m,\u001b[0m \u001b[1;33m**\u001b[0m\u001b[0mout_meta\u001b[0m\u001b[1;33m)\u001b[0m \u001b[1;32mas\u001b[0m \u001b[0mdest\u001b[0m\u001b[1;33m:\u001b[0m\u001b[1;33m\u001b[0m\u001b[1;33m\u001b[0m\u001b[0m\n\u001b[0m\u001b[0;32m     23\u001b[0m     \u001b[0mdest\u001b[0m\u001b[1;33m.\u001b[0m\u001b[0mwrite\u001b[0m\u001b[1;33m(\u001b[0m\u001b[0mstack\u001b[0m\u001b[1;33m,\u001b[0m \u001b[1;33m(\u001b[0m\u001b[1;36m3\u001b[0m\u001b[1;33m)\u001b[0m\u001b[1;33m)\u001b[0m\u001b[1;33m\u001b[0m\u001b[1;33m\u001b[0m\u001b[0m\n\u001b[0;32m     24\u001b[0m \u001b[1;33m\u001b[0m\u001b[0m\n",
      "\u001b[1;31mTypeError\u001b[0m: open() argument after ** must be a mapping, not tuple"
     ]
    }
   ],
   "source": [
    "#qr84b4_fp = r\"raster/landsat5/qroo84/LT05_L1TP_018046_19840410_20170220_01_T1_B4.tif\" \n",
    "#qr84b5_fp = r\"raster/landsat5/qroo84/LT05_L1TP_018046_19840410_20170220_01_T1_B5.tif\" \n",
    "#qr84b1_fp = r\"raster/landsat5/qroo84/LT05_L1TP_018046_19840410_20170220_01_T1_B1.tif\" \n",
    "#qr84_b4 = gdal.Open(\"qr84b4_fp\")\n",
    "#qr84_b5 = gdal.Open(\"qr84b5_fp\")\n",
    "#qr84_b1 = gdal.Open(\"qr84b1_fp\")\n",
    "\n",
    "band4_raster = rio.open(r\"raster/qroo84/LT05_L1TP_018046_19840410_20170220_01_T1_B4.tif\")\n",
    "band4 = band4_raster.read(1, masked=True)\n",
    "band5_raster = rio.open(r\"raster/qroo84/LT05_L1TP_018046_19840410_20170220_01_T1_B5.tif\")\n",
    "band5 = band5_raster.read(1, masked=True)\n",
    "band1_raster = rio.open(r\"raster/qroo84/LT05_L1TP_018046_19840410_20170220_01_T1_B1.tif\")\n",
    "band1 = band1_raster.read(1, masked=True)\n",
    "\n",
    "out_img = \"stack.tif\"\n",
    "\n",
    "out_meta = band4_raster.meta.copy(), band5_raster.meta.copy(), band1_raster.meta.copy()\n",
    "#out_meta.update ({\"count\": 3, \"nodata\": 100})\n",
    "\n",
    "\n",
    "stack = np.dstack((band4, band5, band1))\n",
    "with rio.open(out_img, \"w\", **out_meta) as dest:\n",
    "    dest.write(stack, (3))\n",
    "            \n",
    "\n",
    "#def array2raster(84sqroo,rasterOrigin,pixelWidth,pixelHeight,array,format,spatialRef):\n",
    "\n",
    "    #bands = array.shape[0]\n",
    "    #cols = array.shape[1]\n",
    "    #rows = array.shape[2]\n",
    "\n",
    "    #originX = rasterOrigin[0]\n",
    "    #originY = rasterOrigin[1]\n",
    "\n",
    "    #driver = gdal.GetDriverByName(format)\n",
    "    #outRaster = driver.Create(newRasterfn, cols, rows, bands,gdal.GDT_UInt16,options = ['PHOTOMETRIC=RGB', 'PROFILE=GeoTIFF',])\n",
    "    #outRaster.SetGeoTransform((originX, pixelWidth, 0, originY, 0, pixelHeight))\n",
    "\n",
    "    #for band in range(bands):\n",
    "        #outRaster.GetRasterBand(band+1).WriteArray(array[band,:,:])\n",
    "        #outRaster.GetRasterBand(band+1).FlushCache()\n",
    "    #outRasterSRS = osr.SpatialReference()\n",
    "    #outRasterSRS.ImportFromEPSG(spatialRef)\n",
    "    #outRaster.SetProjection(outRasterSRS.ExportToWkt())\n",
    "\n",
    "\n",
    "#def get_rgb_bands():\n",
    "    #source = gdal.Open(\"C:\\\\RGBtest.tif\")\n",
    "\n",
    "    #band4 = source.LT05_L1TP_018046_19840410_20170220_01_T1_B4.tif(1).ReadAsArray()\n",
    "    #band5 = source.LT05_L1TP_018046_19840410_20170220_01_T1_B5.tif(2).ReadAsArray()\n",
    "    #band1 = source.LT05_L1TP_018046_19840410_20170220_01_T1_B1(3).ReadAsArray()\n",
    "\n",
    "    #rgbOutput = source.ReadAsArray() #Easier method\n",
    "    #rgbOutput = np.zeros((3,16,16), 'uint16')\n",
    "\n",
    "    #rgbOutput[0,...] = red\n",
    "    #rgbOutput[1,...] = green\n",
    "    #rgbOutput[2,...] = blue\n",
    "\n",
    "    #Clear so file isn't locked\n",
    "    #source = None\n",
    "    #return rgbOutput\n",
    "\n",
    "#exampleRGB = get_rgb_bands()\n",
    "\n",
    "#exampleOutput = \"C:\\\\ExampleOutput.tif\"\n",
    "#rasterOrigin=[0,0]\n",
    "\n",
    "#array2raster(exampleOutput,rasterOrigin,1, 1,exampleRGB,'GTiff',3879) \n",
    "\n",
    "#createdFile = gdal.Open(\"C:\\\\ExampleOutput.tif\")\n",
    "\n",
    "#print 'old file info:' gdal.Info(source)\n",
    "#print 'new file info:' gdal.Info(createdFile)\n",
    "\n",
    "#createdFile = None\n",
    "\n",
    "#exampleOutput = None\n"
   ]
  },
  {
   "cell_type": "code",
   "execution_count": 27,
   "metadata": {},
   "outputs": [
    {
     "ename": "RasterioIOError",
     "evalue": "data_files/NI_Mosaic.tif: No such file or directory",
     "output_type": "error",
     "traceback": [
      "\u001b[1;31m---------------------------------------------------------------------------\u001b[0m",
      "\u001b[1;31mCPLE_OpenFailedError\u001b[0m                      Traceback (most recent call last)",
      "\u001b[1;32mrasterio\\_base.pyx\u001b[0m in \u001b[0;36mrasterio._base.DatasetBase.__init__\u001b[1;34m()\u001b[0m\n",
      "\u001b[1;32mrasterio\\_shim.pyx\u001b[0m in \u001b[0;36mrasterio._shim.open_dataset\u001b[1;34m()\u001b[0m\n",
      "\u001b[1;32mrasterio\\_err.pyx\u001b[0m in \u001b[0;36mrasterio._err.exc_wrap_pointer\u001b[1;34m()\u001b[0m\n",
      "\u001b[1;31mCPLE_OpenFailedError\u001b[0m: data_files/NI_Mosaic.tif: No such file or directory",
      "\nDuring handling of the above exception, another exception occurred:\n",
      "\u001b[1;31mRasterioIOError\u001b[0m                           Traceback (most recent call last)",
      "\u001b[1;32m<ipython-input-27-6d19102ccd5f>\u001b[0m in \u001b[0;36m<module>\u001b[1;34m\u001b[0m\n\u001b[0;32m      2\u001b[0m \u001b[0mdst_crs\u001b[0m \u001b[1;33m=\u001b[0m \u001b[1;34m'epsg:32616'\u001b[0m \u001b[1;31m# irish transverse mercator EPSG code\u001b[0m\u001b[1;33m\u001b[0m\u001b[1;33m\u001b[0m\u001b[0m\n\u001b[0;32m      3\u001b[0m \u001b[1;33m\u001b[0m\u001b[0m\n\u001b[1;32m----> 4\u001b[1;33m \u001b[1;32mwith\u001b[0m \u001b[0mrio\u001b[0m\u001b[1;33m.\u001b[0m\u001b[0mopen\u001b[0m\u001b[1;33m(\u001b[0m\u001b[1;34m'data_files/NI_Mosaic.tif'\u001b[0m\u001b[1;33m)\u001b[0m \u001b[1;32mas\u001b[0m \u001b[0msrc\u001b[0m\u001b[1;33m:\u001b[0m\u001b[1;33m\u001b[0m\u001b[1;33m\u001b[0m\u001b[0m\n\u001b[0m\u001b[0;32m      5\u001b[0m     transform, width, height = rio.warp.calculate_default_transform(\n\u001b[0;32m      6\u001b[0m             src.crs, dst_crs, src.width, src.height, *src.bounds)\n",
      "\u001b[1;32m~\\anaconda3\\envs\\sqroo\\lib\\site-packages\\rasterio\\env.py\u001b[0m in \u001b[0;36mwrapper\u001b[1;34m(*args, **kwds)\u001b[0m\n\u001b[0;32m    443\u001b[0m \u001b[1;33m\u001b[0m\u001b[0m\n\u001b[0;32m    444\u001b[0m         \u001b[1;32mwith\u001b[0m \u001b[0menv_ctor\u001b[0m\u001b[1;33m(\u001b[0m\u001b[0msession\u001b[0m\u001b[1;33m=\u001b[0m\u001b[0msession\u001b[0m\u001b[1;33m)\u001b[0m\u001b[1;33m:\u001b[0m\u001b[1;33m\u001b[0m\u001b[1;33m\u001b[0m\u001b[0m\n\u001b[1;32m--> 445\u001b[1;33m             \u001b[1;32mreturn\u001b[0m \u001b[0mf\u001b[0m\u001b[1;33m(\u001b[0m\u001b[1;33m*\u001b[0m\u001b[0margs\u001b[0m\u001b[1;33m,\u001b[0m \u001b[1;33m**\u001b[0m\u001b[0mkwds\u001b[0m\u001b[1;33m)\u001b[0m\u001b[1;33m\u001b[0m\u001b[1;33m\u001b[0m\u001b[0m\n\u001b[0m\u001b[0;32m    446\u001b[0m \u001b[1;33m\u001b[0m\u001b[0m\n\u001b[0;32m    447\u001b[0m     \u001b[1;32mreturn\u001b[0m \u001b[0mwrapper\u001b[0m\u001b[1;33m\u001b[0m\u001b[1;33m\u001b[0m\u001b[0m\n",
      "\u001b[1;32m~\\anaconda3\\envs\\sqroo\\lib\\site-packages\\rasterio\\__init__.py\u001b[0m in \u001b[0;36mopen\u001b[1;34m(fp, mode, driver, width, height, count, crs, transform, dtype, nodata, sharing, **kwargs)\u001b[0m\n\u001b[0;32m    217\u001b[0m         \u001b[1;31m# None.\u001b[0m\u001b[1;33m\u001b[0m\u001b[1;33m\u001b[0m\u001b[1;33m\u001b[0m\u001b[0m\n\u001b[0;32m    218\u001b[0m         \u001b[1;32mif\u001b[0m \u001b[0mmode\u001b[0m \u001b[1;33m==\u001b[0m \u001b[1;34m'r'\u001b[0m\u001b[1;33m:\u001b[0m\u001b[1;33m\u001b[0m\u001b[1;33m\u001b[0m\u001b[0m\n\u001b[1;32m--> 219\u001b[1;33m             \u001b[0ms\u001b[0m \u001b[1;33m=\u001b[0m \u001b[0mDatasetReader\u001b[0m\u001b[1;33m(\u001b[0m\u001b[0mpath\u001b[0m\u001b[1;33m,\u001b[0m \u001b[0mdriver\u001b[0m\u001b[1;33m=\u001b[0m\u001b[0mdriver\u001b[0m\u001b[1;33m,\u001b[0m \u001b[0msharing\u001b[0m\u001b[1;33m=\u001b[0m\u001b[0msharing\u001b[0m\u001b[1;33m,\u001b[0m \u001b[1;33m**\u001b[0m\u001b[0mkwargs\u001b[0m\u001b[1;33m)\u001b[0m\u001b[1;33m\u001b[0m\u001b[1;33m\u001b[0m\u001b[0m\n\u001b[0m\u001b[0;32m    220\u001b[0m         \u001b[1;32melif\u001b[0m \u001b[0mmode\u001b[0m \u001b[1;33m==\u001b[0m \u001b[1;34m'r+'\u001b[0m\u001b[1;33m:\u001b[0m\u001b[1;33m\u001b[0m\u001b[1;33m\u001b[0m\u001b[0m\n\u001b[0;32m    221\u001b[0m             \u001b[0ms\u001b[0m \u001b[1;33m=\u001b[0m \u001b[0mget_writer_for_path\u001b[0m\u001b[1;33m(\u001b[0m\u001b[0mpath\u001b[0m\u001b[1;33m)\u001b[0m\u001b[1;33m(\u001b[0m\u001b[0mpath\u001b[0m\u001b[1;33m,\u001b[0m \u001b[0mmode\u001b[0m\u001b[1;33m,\u001b[0m \u001b[0mdriver\u001b[0m\u001b[1;33m=\u001b[0m\u001b[0mdriver\u001b[0m\u001b[1;33m,\u001b[0m \u001b[0msharing\u001b[0m\u001b[1;33m=\u001b[0m\u001b[0msharing\u001b[0m\u001b[1;33m,\u001b[0m \u001b[1;33m**\u001b[0m\u001b[0mkwargs\u001b[0m\u001b[1;33m)\u001b[0m\u001b[1;33m\u001b[0m\u001b[1;33m\u001b[0m\u001b[0m\n",
      "\u001b[1;32mrasterio\\_base.pyx\u001b[0m in \u001b[0;36mrasterio._base.DatasetBase.__init__\u001b[1;34m()\u001b[0m\n",
      "\u001b[1;31mRasterioIOError\u001b[0m: data_files/NI_Mosaic.tif: No such file or directory"
     ]
    }
   ],
   "source": [
    "import rasterio.warp # note: we will be able to use rio.warp here, since we've previously imported rasterio as rio.\n",
    "dst_crs = 'epsg:32616' # irish transverse mercator EPSG code\n",
    "\n",
    "with rio.open('data_files/NI_Mosaic.tif') as src:\n",
    "    transform, width, height = rio.warp.calculate_default_transform(\n",
    "            src.crs, dst_crs, src.width, src.height, *src.bounds)\n",
    "    kwargs = src.meta.copy() # this copies the meta dict object\n",
    "    kwargs.update({\n",
    "        'crs': dst_crs,\n",
    "        'transform': transform,\n",
    "        'width': width,\n",
    "        'height': height\n",
    "    }) # note: to change the values in a dictionary, we use the update() method\n",
    "    \n",
    "    with rio.open('data_files/NI_Mosaic_ITM.tif', 'w', **kwargs) as dst:\n",
    "        for i in range(1, src.count + 1): # ranging from 1 to the number of bands + 1\n",
    "            rio.warp.reproject(\n",
    "                source=rio.band(src, i),\n",
    "                destination=rio.band(dst, i),\n",
    "                src_transform=src.transform,\n",
    "                src_crs=src.crs,\n",
    "                dst_transform=transform,\n",
    "                dst_crs=dst_crs,\n",
    "                resampling=rio.warp.Resampling.nearest)"
   ]
  },
  {
   "cell_type": "code",
   "execution_count": null,
   "metadata": {},
   "outputs": [],
   "source": []
  }
 ],
 "metadata": {
  "kernelspec": {
   "display_name": "Python 3",
   "language": "python",
   "name": "python3"
  },
  "language_info": {
   "codemirror_mode": {
    "name": "ipython",
    "version": 3
   },
   "file_extension": ".py",
   "mimetype": "text/x-python",
   "name": "python",
   "nbconvert_exporter": "python",
   "pygments_lexer": "ipython3",
   "version": "3.6.13"
  }
 },
 "nbformat": 4,
 "nbformat_minor": 4
}
