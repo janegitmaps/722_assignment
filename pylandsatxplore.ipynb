{
 "cells": [
  {
   "cell_type": "code",
   "execution_count": null,
   "metadata": {},
   "outputs": [],
   "source": [
    "import sys\n",
    "print (sys.version) #this should read as 3.6.13 |Anaconda, Inc.| (default, Mar 16 2021, 11:37:27) [MSC v.1916 64 bit (AMD64)]\n",
    "                    #if not return to anacond environment installation steps"
   ]
  },
  {
   "cell_type": "code",
   "execution_count": null,
   "metadata": {},
   "outputs": [],
   "source": [
    "import landsatxplore as landsatxplore"
   ]
  },
  {
   "cell_type": "code",
   "execution_count": null,
   "metadata": {},
   "outputs": [],
   "source": [
    "from landsatxplore.api import API\n",
    "from landsatxplore.earthexplorer import EarthExplorer #help (landsatxplore.api)"
   ]
  },
  {
   "cell_type": "code",
   "execution_count": null,
   "metadata": {},
   "outputs": [],
   "source": [
    "help (landsatxplore.api)"
   ]
  },
  {
   "cell_type": "code",
   "execution_count": null,
   "metadata": {},
   "outputs": [],
   "source": [
    "api = API('janemaps','ulster202020') #log in EE: 30/04/2021 This API has been retired and replaced by the API at https://m2m.cr.usgs.gov"
   ]
  },
  {
   "cell_type": "code",
   "execution_count": null,
   "metadata": {},
   "outputs": [],
   "source": [
    "landsat5 = api.search(\n",
    "    dataset='landsat_tm_c2_l1',\n",
    "    latitude=20.39,\n",
    "    longitude=-87.31,\n",
    "    start_date='1984-03-01',\n",
    "    end_date='2013-06-05',\n",
    "    max_cloud_cover=5\n",
    ")\n",
    "\n",
    "landsat7 = api.search(\n",
    "    dataset='landsat_etm_c2_l1',\n",
    "    latitude=20.39,\n",
    "    longitude=-87.31,\n",
    "    start_date='1999-04-15',\n",
    "    end_date='2013-02-11',\n",
    "    max_cloud_cover=5\n",
    ")\n",
    "\n",
    "landsat8 = api.search(\n",
    "    dataset='landsat_ot_c2_l1',\n",
    "    latitude=20.39,\n",
    "    longitude=-87.31,\n",
    "    start_date='2013-02-11',\n",
    "    end_date='2020-04-25',\n",
    "    max_cloud_cover=5\n",
    ")\n",
    "    \n",
    "    \n",
    "print('{} landsat5 scenes found.'.format(len(landsat5)))\n",
    "\n",
    "for scene in landsat5:\n",
    "    print(scene['summary'])\n",
    "    \n",
    "print('{} landsat7 scenes found.'.format(len(landsat7)))\n",
    "\n",
    "for rasterls7 in landsat7:\n",
    "    print(rasterls7['displayId'])\n",
    "    \n",
    "\n",
    "print('{} landsat8 scenes found.'.format(len(landsat8)))\n",
    "\n",
    "for scene in landsat8:\n",
    "    print(scene['entityId'])\n",
    "\n",
    "api.logout()"
   ]
  },
  {
   "cell_type": "code",
   "execution_count": null,
   "metadata": {},
   "outputs": [],
   "source": [
    "landsat5[0]['entityId'], landsat5[1]['entityId'], landsat5[2]['entityId'], landsat5[3]['entityId'], landsat5[4]['entityId'], landsat5[5]['entityId'], landsat5[6]['entityId'], landsat5[7]['entityId'], landsat5[8]['entityId'], landsat5[9]['entityId'], landsat5[10]['entityId'], landsat5[11]['entityId'], landsat5[12]['entityId'], landsat5[13]['entityId'], landsat5[14]['entityId'], landsat5[15]['entityId'], landsat5[16]['entityId'], landsat5[17]['entityId'], landsat5[18]['entityId'], landsat5[19]['entityId'], "
   ]
  },
  {
   "cell_type": "code",
   "execution_count": null,
   "metadata": {},
   "outputs": [],
   "source": [
    "landsat7[0]['entityId'], landsat7[1]['entityId'], landsat7[2]['entityId'], landsat7[3]['entityId'], landsat7[4]['entityId'], landsat7[5]['entityId'], landsat7[6]['entityId'], landsat7[7]['entityId'], landsat7[8]['entityId'], landsat7[9]['entityId'], landsat7[10]['entityId'], landsat7[11]['entityId'], landsat7[12]['entityId'], landsat7[13]['entityId'], landsat7[14]['entityId'], landsat7[15]['entityId'], landsat7[16]['entityId'], landsat7[17]['entityId'], landsat7[18]['entityId'], landsat7[19]['entityId'],"
   ]
  },
  {
   "cell_type": "code",
   "execution_count": null,
   "metadata": {},
   "outputs": [],
   "source": [
    "landsat8[0]['entityId'], landsat8[1]['entityId'], landsat8[2]['entityId'], landsat8[3]['entityId'], landsat8[4]['entityId'], landsat8[5]['entityId'], landsat8[6]['entityId']"
   ]
  },
  {
   "cell_type": "code",
   "execution_count": null,
   "metadata": {},
   "outputs": [],
   "source": [
    "#ee = EarthExplorer('janemaps', 'ulster202020')\n",
    "\n",
    "#ee.download(scene_id=landsat5[0]['entityId'],\n",
    "#output_dir='raster/landsat5')\n",
    "\n",
    "#ee.download(scene_id=landsat7[19]['entityId'],#[n] is the indexed number of the landsat imagery from searc results, indexing the data tidy \n",
    "#output_dir='raster/landsat7') #creates the files raster and landsat7 to store the downloded data\n",
    "\n",
    "#ee.download(scene_id=landsat8[6]['entityId'], \n",
    "#output_dir='raster/landsat8')\n",
    "\n",
    "#ee.logout()"
   ]
  },
  {
   "cell_type": "code",
   "execution_count": null,
   "metadata": {},
   "outputs": [],
   "source": []
  }
 ],
 "metadata": {
  "kernelspec": {
   "display_name": "Python 3",
   "language": "python",
   "name": "python3"
  },
  "language_info": {
   "codemirror_mode": {
    "name": "ipython",
    "version": 3
   },
   "file_extension": ".py",
   "mimetype": "text/x-python",
   "name": "python",
   "nbconvert_exporter": "python",
   "pygments_lexer": "ipython3",
   "version": "3.6.13"
  }
 },
 "nbformat": 4,
 "nbformat_minor": 4
}
