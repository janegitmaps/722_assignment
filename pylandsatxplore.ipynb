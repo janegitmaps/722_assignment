{
 "cells": [
  {
   "cell_type": "code",
   "execution_count": 1,
   "metadata": {},
   "outputs": [
    {
     "name": "stdout",
     "output_type": "stream",
     "text": [
      "3.6.13 |Anaconda, Inc.| (default, Mar 16 2021, 11:37:27) [MSC v.1916 64 bit (AMD64)]\n"
     ]
    }
   ],
   "source": [
    "import sys\n",
    "print (sys.version) #this should read as 3.6.13 |Anaconda, Inc.| (default, Mar 16 2021, 11:37:27) [MSC v.1916 64 bit (AMD64)]\n",
    "                    #if not return to anacond environment installation steps"
   ]
  },
  {
   "cell_type": "code",
   "execution_count": 2,
   "metadata": {},
   "outputs": [],
   "source": [
    "import landsatxplore as landsatxplore"
   ]
  },
  {
   "cell_type": "code",
   "execution_count": 3,
   "metadata": {},
   "outputs": [],
   "source": [
    "from landsatxplore.api import API\n",
    "from landsatxplore.earthexplorer import EarthExplorer #help (landsatxplore.api)"
   ]
  },
  {
   "cell_type": "code",
   "execution_count": 4,
   "metadata": {},
   "outputs": [
    {
     "name": "stdout",
     "output_type": "stream",
     "text": [
      "Help on module landsatxplore.api in landsatxplore:\n",
      "\n",
      "NAME\n",
      "    landsatxplore.api - Python implementation of the Earth Explorer API.\n",
      "\n",
      "CLASSES\n",
      "    builtins.object\n",
      "        API\n",
      "    \n",
      "    class API(builtins.object)\n",
      "     |  EarthExplorer API.\n",
      "     |  \n",
      "     |  Methods defined here:\n",
      "     |  \n",
      "     |  __init__(self, username, password, version='1.4.1')\n",
      "     |      EarthExplorer API.\n",
      "     |  \n",
      "     |  login(self, username, password)\n",
      "     |      Get an API key.\n",
      "     |  \n",
      "     |  logout(self)\n",
      "     |      Log out.\n",
      "     |  \n",
      "     |  lookup(self, dataset, id_list, inverse=False)\n",
      "     |      Convert a list of legacy scene identifier to product identifiers.\n",
      "     |      \n",
      "     |      Parameters\n",
      "     |      ----------\n",
      "     |      dataset : str\n",
      "     |          LANDSAT_TM_C1, LANDSAT_ETM_C1, or LANDSAT_8_C1.\n",
      "     |      id_list : list of str\n",
      "     |          List of scene id if inverse if False. List of product id if\n",
      "     |          inverse is True.\n",
      "     |      inverse : bool, optional\n",
      "     |          If set to true, convert product id to scene id.\n",
      "     |      \n",
      "     |      Returns\n",
      "     |      -------\n",
      "     |      new_id_list : list of str\n",
      "     |          List of translated id.\n",
      "     |  \n",
      "     |  metadata(self, dataset, id_list)\n",
      "     |      Request metadata for a given list of scenes.\n",
      "     |      \n",
      "     |      Parameters\n",
      "     |      ----------\n",
      "     |      dataset : str\n",
      "     |          LANDSAT_TM_C1, LANDSAT_ETM_C1 or LANDSAT_8_C1.\n",
      "     |      id_list : list of str\n",
      "     |          List of product id or legacy scene id.\n",
      "     |      \n",
      "     |      Returns\n",
      "     |      -------\n",
      "     |      results : dict\n",
      "     |          Results as a dictionnary.\n",
      "     |  \n",
      "     |  request(self, request_code, **kwargs)\n",
      "     |      Perform a request to the EE API.\n",
      "     |      Possible request codes are listed here:\n",
      "     |      https://earthexplorer.usgs.gov/inventory/documentation/json-api\n",
      "     |  \n",
      "     |  search(self, dataset, latitude=None, longitude=None, bbox=None, max_cloud_cover=None, start_date=None, end_date=None, months=None, max_results=20)\n",
      "     |      Search for scenes.\n",
      "     |      \n",
      "     |      Parameters\n",
      "     |      ----------\n",
      "     |      dataset : str\n",
      "     |          LANDSAT_TM_C1, LANDSAT_ETM_C1, LANDSAT_8_C1 or SENTINEL_2A.\n",
      "     |      latitude : float, optional\n",
      "     |          Latitude of the point of interest.\n",
      "     |      longitude : float, optional\n",
      "     |          Longitude of the point of interest.\n",
      "     |      bbox : tuple, optional\n",
      "     |          (xmin, ymin, xmax, ymax) of the bounding box.\n",
      "     |      max_cloud_cover : int, optional\n",
      "     |          Max. cloud cover in percent (1-100).\n",
      "     |      start_date : str, optional\n",
      "     |          YYYY-MM-DD\n",
      "     |      end_date : str, optional\n",
      "     |          YYYY-MM-DD. Equal to start_date if not provided.\n",
      "     |      months : list of int, optional\n",
      "     |          Limit results to specific months (1-12).\n",
      "     |      max_results : int, optional\n",
      "     |          Max. number of results. Defaults to 20.\n",
      "     |      \n",
      "     |      Returns\n",
      "     |      -------\n",
      "     |      results : dict\n",
      "     |          Results as a dictionnary.\n",
      "     |  \n",
      "     |  ----------------------------------------------------------------------\n",
      "     |  Data descriptors defined here:\n",
      "     |  \n",
      "     |  __dict__\n",
      "     |      dictionary for instance variables (if defined)\n",
      "     |  \n",
      "     |  __weakref__\n",
      "     |      list of weak references to the object (if defined)\n",
      "\n",
      "FUNCTIONS\n",
      "    to_json(**kwargs)\n",
      "        Convert input arguments to a formatted JSON string\n",
      "        as expected by the EE API.\n",
      "\n",
      "DATA\n",
      "    API_ENDPOINT = 'https://earthexplorer.usgs.gov/inventory/json/v/{versi...\n",
      "\n",
      "FILE\n",
      "    c:\\users\\jrllo\\anaconda3\\envs\\quintanaroo\\lib\\site-packages\\landsatxplore\\api.py\n",
      "\n",
      "\n"
     ]
    }
   ],
   "source": [
    "help (landsatxplore.api)"
   ]
  },
  {
   "cell_type": "code",
   "execution_count": 5,
   "metadata": {},
   "outputs": [
    {
     "ename": "EarthExplorerError",
     "evalue": "EE: This API has been retired and replaced by the API at https://m2m.cr.usgs.gov",
     "output_type": "error",
     "traceback": [
      "\u001b[1;31m---------------------------------------------------------------------------\u001b[0m",
      "\u001b[1;31mEarthExplorerError\u001b[0m                        Traceback (most recent call last)",
      "\u001b[1;32m<ipython-input-5-6ab8a11c03d3>\u001b[0m in \u001b[0;36m<module>\u001b[1;34m\u001b[0m\n\u001b[1;32m----> 1\u001b[1;33m \u001b[0mapi\u001b[0m \u001b[1;33m=\u001b[0m \u001b[0mAPI\u001b[0m\u001b[1;33m(\u001b[0m\u001b[1;34m'janemaps'\u001b[0m\u001b[1;33m,\u001b[0m\u001b[1;34m'ulster202020'\u001b[0m\u001b[1;33m)\u001b[0m \u001b[1;31m#log in\u001b[0m\u001b[1;33m\u001b[0m\u001b[1;33m\u001b[0m\u001b[0m\n\u001b[0m",
      "\u001b[1;32m~\\anaconda3\\envs\\quintanaroo\\lib\\site-packages\\landsatxplore\\api.py\u001b[0m in \u001b[0;36m__init__\u001b[1;34m(self, username, password, version)\u001b[0m\n\u001b[0;32m     26\u001b[0m         \u001b[0mself\u001b[0m\u001b[1;33m.\u001b[0m\u001b[0mversion\u001b[0m \u001b[1;33m=\u001b[0m \u001b[0mversion\u001b[0m\u001b[1;33m\u001b[0m\u001b[1;33m\u001b[0m\u001b[0m\n\u001b[0;32m     27\u001b[0m         \u001b[0mself\u001b[0m\u001b[1;33m.\u001b[0m\u001b[0mendpoint\u001b[0m \u001b[1;33m=\u001b[0m \u001b[0mAPI_ENDPOINT\u001b[0m\u001b[1;33m.\u001b[0m\u001b[0mformat\u001b[0m\u001b[1;33m(\u001b[0m\u001b[0mversion\u001b[0m\u001b[1;33m=\u001b[0m\u001b[0mversion\u001b[0m\u001b[1;33m)\u001b[0m\u001b[1;33m\u001b[0m\u001b[1;33m\u001b[0m\u001b[0m\n\u001b[1;32m---> 28\u001b[1;33m         \u001b[0mself\u001b[0m\u001b[1;33m.\u001b[0m\u001b[0mkey\u001b[0m \u001b[1;33m=\u001b[0m \u001b[0mself\u001b[0m\u001b[1;33m.\u001b[0m\u001b[0mlogin\u001b[0m\u001b[1;33m(\u001b[0m\u001b[0musername\u001b[0m\u001b[1;33m,\u001b[0m \u001b[0mpassword\u001b[0m\u001b[1;33m)\u001b[0m\u001b[1;33m\u001b[0m\u001b[1;33m\u001b[0m\u001b[0m\n\u001b[0m\u001b[0;32m     29\u001b[0m \u001b[1;33m\u001b[0m\u001b[0m\n\u001b[0;32m     30\u001b[0m     \u001b[1;32mdef\u001b[0m \u001b[0mrequest\u001b[0m\u001b[1;33m(\u001b[0m\u001b[0mself\u001b[0m\u001b[1;33m,\u001b[0m \u001b[0mrequest_code\u001b[0m\u001b[1;33m,\u001b[0m \u001b[1;33m**\u001b[0m\u001b[0mkwargs\u001b[0m\u001b[1;33m)\u001b[0m\u001b[1;33m:\u001b[0m\u001b[1;33m\u001b[0m\u001b[1;33m\u001b[0m\u001b[0m\n",
      "\u001b[1;32m~\\anaconda3\\envs\\quintanaroo\\lib\\site-packages\\landsatxplore\\api.py\u001b[0m in \u001b[0;36mlogin\u001b[1;34m(self, username, password)\u001b[0m\n\u001b[0;32m     48\u001b[0m         \u001b[0mresponse\u001b[0m \u001b[1;33m=\u001b[0m \u001b[0mrequests\u001b[0m\u001b[1;33m.\u001b[0m\u001b[0mpost\u001b[0m\u001b[1;33m(\u001b[0m\u001b[0mself\u001b[0m\u001b[1;33m.\u001b[0m\u001b[0mendpoint\u001b[0m \u001b[1;33m+\u001b[0m \u001b[1;34m'login?'\u001b[0m\u001b[1;33m,\u001b[0m \u001b[0mdata\u001b[0m\u001b[1;33m=\u001b[0m\u001b[0mdata\u001b[0m\u001b[1;33m)\u001b[0m\u001b[1;33m.\u001b[0m\u001b[0mjson\u001b[0m\u001b[1;33m(\u001b[0m\u001b[1;33m)\u001b[0m\u001b[1;33m\u001b[0m\u001b[1;33m\u001b[0m\u001b[0m\n\u001b[0;32m     49\u001b[0m         \u001b[1;32mif\u001b[0m \u001b[0mresponse\u001b[0m\u001b[1;33m[\u001b[0m\u001b[1;34m'error'\u001b[0m\u001b[1;33m]\u001b[0m\u001b[1;33m:\u001b[0m\u001b[1;33m\u001b[0m\u001b[1;33m\u001b[0m\u001b[0m\n\u001b[1;32m---> 50\u001b[1;33m             \u001b[1;32mraise\u001b[0m \u001b[0mEarthExplorerError\u001b[0m\u001b[1;33m(\u001b[0m\u001b[1;34m'EE: {}'\u001b[0m\u001b[1;33m.\u001b[0m\u001b[0mformat\u001b[0m\u001b[1;33m(\u001b[0m\u001b[0mresponse\u001b[0m\u001b[1;33m[\u001b[0m\u001b[1;34m'error'\u001b[0m\u001b[1;33m]\u001b[0m\u001b[1;33m)\u001b[0m\u001b[1;33m)\u001b[0m\u001b[1;33m\u001b[0m\u001b[1;33m\u001b[0m\u001b[0m\n\u001b[0m\u001b[0;32m     51\u001b[0m         \u001b[1;32mreturn\u001b[0m \u001b[0mresponse\u001b[0m\u001b[1;33m[\u001b[0m\u001b[1;34m'data'\u001b[0m\u001b[1;33m]\u001b[0m\u001b[1;33m\u001b[0m\u001b[1;33m\u001b[0m\u001b[0m\n\u001b[0;32m     52\u001b[0m \u001b[1;33m\u001b[0m\u001b[0m\n",
      "\u001b[1;31mEarthExplorerError\u001b[0m: EE: This API has been retired and replaced by the API at https://m2m.cr.usgs.gov"
     ]
    }
   ],
   "source": [
    "api = API('janemaps','ulster202020') #log in"
   ]
  },
  {
   "cell_type": "code",
   "execution_count": null,
   "metadata": {},
   "outputs": [],
   "source": [
    "landsat5 = api.search(\n",
    "    dataset='landsat_tm_c2_l1',\n",
    "    latitude=20.39,\n",
    "    longitude=-87.31,\n",
    "    start_date='1984-03-01',\n",
    "    end_date='2013-06-05',\n",
    "    max_cloud_cover=5\n",
    ")\n",
    "\n",
    "landsat7 = api.search(\n",
    "    dataset='landsat_etm_c2_l1',\n",
    "    latitude=20.39,\n",
    "    longitude=-87.31,\n",
    "    start_date='1999-04-15',\n",
    "    end_date='2013-02-11',\n",
    "    max_cloud_cover=5\n",
    ")\n",
    "\n",
    "landsat8 = api.search(\n",
    "    dataset='landsat_ot_c2_l1',\n",
    "    latitude=20.39,\n",
    "    longitude=-87.31,\n",
    "    start_date='2013-02-11',\n",
    "    end_date='2020-04-25',\n",
    "    max_cloud_cover=5\n",
    ")\n",
    "    \n",
    "    \n",
    "print('{} landsat5 scenes found.'.format(len(landsat5)))\n",
    "\n",
    "for scene in landsat5:\n",
    "    print(scene['summary'])\n",
    "    \n",
    "print('{} landsat7 scenes found.'.format(len(landsat7)))\n",
    "\n",
    "for rasterls7 in landsat7:\n",
    "    print(rasterls7['displayId'])\n",
    "    \n",
    "\n",
    "print('{} landsat8 scenes found.'.format(len(landsat8)))\n",
    "\n",
    "for scene in landsat8:\n",
    "    print(scene['entityId'])\n",
    "\n",
    "api.logout()"
   ]
  },
  {
   "cell_type": "code",
   "execution_count": null,
   "metadata": {},
   "outputs": [],
   "source": [
    "landsat5[0]['entityId'], landsat5[1]['entityId'], landsat5[2]['entityId'], landsat5[3]['entityId'], landsat5[4]['entityId'], landsat5[5]['entityId'], landsat5[6]['entityId'], landsat5[7]['entityId'], landsat5[8]['entityId'], landsat5[9]['entityId'], landsat5[10]['entityId'], landsat5[11]['entityId'], landsat5[12]['entityId'], landsat5[13]['entityId'], landsat5[14]['entityId'], landsat5[15]['entityId'], landsat5[16]['entityId'], landsat5[17]['entityId'], landsat5[18]['entityId'], landsat5[19]['entityId'], "
   ]
  },
  {
   "cell_type": "code",
   "execution_count": null,
   "metadata": {},
   "outputs": [],
   "source": [
    "landsat7[0]['entityId'], landsat7[1]['entityId'], landsat7[2]['entityId'], landsat7[3]['entityId'], landsat7[4]['entityId'], landsat7[5]['entityId'], landsat7[6]['entityId'], landsat7[7]['entityId'], landsat7[8]['entityId'], landsat7[9]['entityId'], landsat7[10]['entityId'], landsat7[11]['entityId'], landsat7[12]['entityId'], landsat7[13]['entityId'], landsat7[14]['entityId'], landsat7[15]['entityId'], landsat7[16]['entityId'], landsat7[17]['entityId'], landsat7[18]['entityId'], landsat7[19]['entityId'],"
   ]
  },
  {
   "cell_type": "code",
   "execution_count": null,
   "metadata": {},
   "outputs": [],
   "source": [
    "landsat8[0]['entityId'], landsat8[1]['entityId'], landsat8[2]['entityId'], landsat8[3]['entityId'], landsat8[4]['entityId'], landsat8[5]['entityId'], landsat8[6]['entityId']"
   ]
  },
  {
   "cell_type": "code",
   "execution_count": null,
   "metadata": {},
   "outputs": [],
   "source": [
    "#ee = EarthExplorer('janemaps', 'ulster202020')\n",
    "\n",
    "#ee.download(scene_id=landsat5[0]['entityId'],\n",
    "#output_dir='raster/landsat5')\n",
    "\n",
    "#ee.download(scene_id=landsat7[19]['entityId'],#[n] is the indexed number of the landsat imagery from searc results, indexing the data tidy \n",
    "#output_dir='raster/landsat7') #creates the files raster and landsat7 to store the downloded data\n",
    "\n",
    "#ee.download(scene_id=landsat8[6]['entityId'], \n",
    "#output_dir='raster/landsat8')\n",
    "\n",
    "#ee.logout()"
   ]
  },
  {
   "cell_type": "code",
   "execution_count": null,
   "metadata": {},
   "outputs": [],
   "source": []
  }
 ],
 "metadata": {
  "kernelspec": {
   "display_name": "Python 3",
   "language": "python",
   "name": "python3"
  },
  "language_info": {
   "codemirror_mode": {
    "name": "ipython",
    "version": 3
   },
   "file_extension": ".py",
   "mimetype": "text/x-python",
   "name": "python",
   "nbconvert_exporter": "python",
   "pygments_lexer": "ipython3",
   "version": "3.6.13"
  }
 },
 "nbformat": 4,
 "nbformat_minor": 4
}
