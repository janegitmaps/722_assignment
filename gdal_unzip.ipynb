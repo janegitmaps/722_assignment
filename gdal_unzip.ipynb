{
 "cells": [
  {
   "cell_type": "code",
   "execution_count": 1,
   "id": "247dc7bb",
   "metadata": {},
   "outputs": [
    {
     "name": "stdout",
     "output_type": "stream",
     "text": [
      "<module 'sys' (built-in)>\n"
     ]
    }
   ],
   "source": [
    "import sys\n",
    "print (sys)"
   ]
  },
  {
   "cell_type": "code",
   "execution_count": 2,
   "id": "53b13e92",
   "metadata": {},
   "outputs": [],
   "source": [
    "#import fiona\n",
    "#import gdal\n",
    "#from gdal import VSIReadDir\n",
    "#from gdal import VISIStatL\n",
    "import tarfile\n",
    "import os\n",
    "from osgeo import gdal\n",
    "import io\n",
    "import osr\n",
    "import numpy as np\n",
    "import rasterio as rio\n",
    "%matplotlib notebook\n",
    "\n",
    "import numpy as np\n",
    "import rasterio as rio\n",
    "import cartopy.crs as ccrs\n",
    "import matplotlib.pyplot as plt"
   ]
  },
  {
   "cell_type": "code",
   "execution_count": 3,
   "id": "22db2ff8",
   "metadata": {},
   "outputs": [],
   "source": [
    "import tarfile\n",
    "import os\n",
    "from osgeo import gdal\n",
    "import io\n",
    "import osr\n",
    "import numpy as np\n",
    "import rasterio as rio\n",
    "%matplotlib notebook\n",
    "\n",
    "import numpy as np\n",
    "import rasterio as rio\n",
    "import cartopy.crs as ccrs\n",
    "import matplotlib.pyplot as plt"
   ]
  },
  {
   "cell_type": "code",
   "execution_count": 4,
   "id": "87b73459",
   "metadata": {},
   "outputs": [
    {
     "data": {
      "text/plain": [
       "['raster/qroo84/LT05_L1TP_018046_19840410_20170220_01_T1_B4.tif',\n",
       " 'raster/qroo84/LT05_L1TP_018046_19840410_20170220_01_T1_B5.tif',\n",
       " 'raster/qroo84/LT05_L1TP_018046_19840410_20170220_01_T1_B1.tif']"
      ]
     },
     "execution_count": 4,
     "metadata": {},
     "output_type": "execute_result"
    }
   ],
   "source": [
    "file_list = ['raster/qroo84/LT05_L1TP_018046_19840410_20170220_01_T1_B4.tif', 'raster/qroo84/LT05_L1TP_018046_19840410_20170220_01_T1_B5.tif', 'raster/qroo84/LT05_L1TP_018046_19840410_20170220_01_T1_B1.tif']\n",
    "\n",
    "with rio.open(file_list[0]) as qroo20_bands451:\n",
    "             meta = qroo20_bands451.meta\n",
    "        \n",
    "meta.update(count = len(file_list))\n",
    "file_list"
   ]
  },
  {
   "cell_type": "code",
   "execution_count": 14,
   "id": "b20bab40",
   "metadata": {},
   "outputs": [
    {
     "ename": "ValueError",
     "evalue": "can't write to closed raster file",
     "output_type": "error",
     "traceback": [
      "\u001b[1;31m---------------------------------------------------------------------------\u001b[0m",
      "\u001b[1;31mValueError\u001b[0m                                Traceback (most recent call last)",
      "\u001b[1;32m<ipython-input-14-e38eee1deac4>\u001b[0m in \u001b[0;36m<module>\u001b[1;34m\u001b[0m\n\u001b[0;32m      4\u001b[0m             \u001b[0mdst\u001b[0m\u001b[1;33m.\u001b[0m\u001b[0mwrite_band\u001b[0m\u001b[1;33m(\u001b[0m\u001b[0mid\u001b[0m\u001b[1;33m,\u001b[0m \u001b[0mband451\u001b[0m\u001b[1;33m.\u001b[0m\u001b[0mread\u001b[0m\u001b[1;33m(\u001b[0m\u001b[1;36m1\u001b[0m\u001b[1;33m)\u001b[0m\u001b[1;33m)\u001b[0m\u001b[1;33m\u001b[0m\u001b[1;33m\u001b[0m\u001b[0m\n\u001b[0;32m      5\u001b[0m \u001b[1;33m\u001b[0m\u001b[0m\n\u001b[1;32m----> 6\u001b[1;33m \u001b[0mdst\u001b[0m\u001b[1;33m.\u001b[0m\u001b[0mwrite\u001b[0m\u001b[1;33m(\u001b[0m\u001b[0mid\u001b[0m\u001b[1;33m,\u001b[0m \u001b[1;33m(\u001b[0m\u001b[1;36m1\u001b[0m\u001b[1;33m)\u001b[0m\u001b[1;33m)\u001b[0m\u001b[1;33m\u001b[0m\u001b[1;33m\u001b[0m\u001b[0m\n\u001b[0m",
      "\u001b[1;32mrasterio\\_io.pyx\u001b[0m in \u001b[0;36mrasterio._io.DatasetWriterBase.write\u001b[1;34m()\u001b[0m\n",
      "\u001b[1;31mValueError\u001b[0m: can't write to closed raster file"
     ]
    }
   ],
   "source": [
    "with rio.open('stack.tif', 'w', **meta) as dst:\n",
    "    for id, layer in enumerate(file_list, start=1):\n",
    "        with rio.open(layer) as band451:\n",
    "            dst.write_band(id, band451.read(1))\n",
    "\n",
    "dst.write(id, (1))"
   ]
  },
  {
   "cell_type": "code",
   "execution_count": 13,
   "id": "172f4eb7",
   "metadata": {},
   "outputs": [
    {
     "ename": "RasterioIOError",
     "evalue": "Dataset is closed: raster/qroo84/LT05_L1TP_018046_19840410_20170220_01_T1_B4.tif",
     "output_type": "error",
     "traceback": [
      "\u001b[1;31m---------------------------------------------------------------------------\u001b[0m",
      "\u001b[1;31mRasterioIOError\u001b[0m                           Traceback (most recent call last)",
      "\u001b[1;32m<ipython-input-13-e13ceee75d53>\u001b[0m in \u001b[0;36m<module>\u001b[1;34m\u001b[0m\n\u001b[0;32m     29\u001b[0m     \u001b[1;32mfor\u001b[0m \u001b[0mid\u001b[0m\u001b[1;33m,\u001b[0m \u001b[0mlayer\u001b[0m \u001b[1;32min\u001b[0m \u001b[0menumerate\u001b[0m\u001b[1;33m(\u001b[0m\u001b[0mfile_list\u001b[0m\u001b[1;33m,\u001b[0m \u001b[0mstart\u001b[0m\u001b[1;33m=\u001b[0m\u001b[1;36m1\u001b[0m\u001b[1;33m)\u001b[0m\u001b[1;33m:\u001b[0m\u001b[1;33m\u001b[0m\u001b[1;33m\u001b[0m\u001b[0m\n\u001b[0;32m     30\u001b[0m         \u001b[1;32mwith\u001b[0m \u001b[0mrio\u001b[0m\u001b[1;33m.\u001b[0m\u001b[0mopen\u001b[0m\u001b[1;33m(\u001b[0m\u001b[0mlayer\u001b[0m\u001b[1;33m)\u001b[0m \u001b[1;32mas\u001b[0m \u001b[0msrc1\u001b[0m\u001b[1;33m:\u001b[0m\u001b[1;33m\u001b[0m\u001b[1;33m\u001b[0m\u001b[0m\n\u001b[1;32m---> 31\u001b[1;33m             \u001b[0mdst\u001b[0m\u001b[1;33m.\u001b[0m\u001b[0mwrite_band\u001b[0m\u001b[1;33m(\u001b[0m\u001b[0mid\u001b[0m\u001b[1;33m,\u001b[0m \u001b[0msrc0\u001b[0m\u001b[1;33m.\u001b[0m\u001b[0mread\u001b[0m\u001b[1;33m(\u001b[0m\u001b[1;36m1\u001b[0m\u001b[1;33m)\u001b[0m\u001b[1;33m)\u001b[0m\u001b[1;33m\u001b[0m\u001b[1;33m\u001b[0m\u001b[0m\n\u001b[0m\u001b[0;32m     32\u001b[0m \u001b[0mscr1\u001b[0m\u001b[1;33m.\u001b[0m\u001b[0mwrite\u001b[0m\u001b[1;33m(\u001b[0m\u001b[0mZ\u001b[0m\u001b[1;33m,\u001b[0m \u001b[1;36m1\u001b[0m\u001b[1;33m)\u001b[0m\u001b[1;33m\u001b[0m\u001b[1;33m\u001b[0m\u001b[0m\n",
      "\u001b[1;32mrasterio\\_io.pyx\u001b[0m in \u001b[0;36mrasterio._io.DatasetReaderBase.read\u001b[1;34m()\u001b[0m\n",
      "\u001b[1;32mrasterio\\_base.pyx\u001b[0m in \u001b[0;36mrasterio._base.DatasetBase.mask_flag_enums.__get__\u001b[1;34m()\u001b[0m\n",
      "\u001b[1;32mrasterio\\_base.pyx\u001b[0m in \u001b[0;36mgenexpr\u001b[1;34m()\u001b[0m\n",
      "\u001b[1;32mrasterio\\_base.pyx\u001b[0m in \u001b[0;36mgenexpr\u001b[1;34m()\u001b[0m\n",
      "\u001b[1;32mrasterio\\_base.pyx\u001b[0m in \u001b[0;36mgenexpr\u001b[1;34m()\u001b[0m\n",
      "\u001b[1;32mrasterio\\_base.pyx\u001b[0m in \u001b[0;36mrasterio._base.DatasetBase.band\u001b[1;34m()\u001b[0m\n",
      "\u001b[1;32mrasterio\\_base.pyx\u001b[0m in \u001b[0;36mrasterio._base.DatasetBase.handle\u001b[1;34m()\u001b[0m\n",
      "\u001b[1;31mRasterioIOError\u001b[0m: Dataset is closed: raster/qroo84/LT05_L1TP_018046_19840410_20170220_01_T1_B4.tif"
     ]
    }
   ],
   "source": [
    "#import rasterio\n",
    "\n",
    "#file_list = ['file1.tif', 'file2.tif', 'file3.tif']\n",
    "\n",
    "# Read metadata of first file\n",
    "#with rasterio.open(file_list[0]) as src0:\n",
    "    #meta = src0.meta\n",
    "\n",
    "# Update meta to reflect the number of layers\n",
    "#meta.update(count = len(file_list))\n",
    "\n",
    "# Read each layer and write it to stack\n",
    "#with rasterio.open('stack.tif', 'w', **meta) as dst:\n",
    "    #for id, layer in enumerate(file_list, start=1):\n",
    "        #with rasterio.open(layer) as src1:\n",
    "            #dst.write_band(id, src1.read(1))\n",
    "#import rasterio\n",
    "\n",
    "file_list = ['raster/qroo84/LT05_L1TP_018046_19840410_20170220_01_T1_B4.tif', 'raster/qroo84/LT05_L1TP_018046_19840410_20170220_01_T1_B5.tif', 'raster/qroo84/LT05_L1TP_018046_19840410_20170220_01_T1_B1.tif']\n",
    "\n",
    "with rio.open(file_list[0]) as src0:\n",
    "    meta = src0.meta\n",
    "\n",
    "# Update meta to reflect the number of layers\n",
    "meta.update(count = len(file_list))\n",
    "\n",
    "# Read each layer and write it to stack\n",
    "with rio.open('stack.tif', 'w', **meta) as dst:\n",
    "    for id, layer in enumerate(file_list, start=1):\n",
    "        with rio.open(layer) as src1:\n",
    "            dst.write_band(id, src0.read(1))\n",
    "scr1.write(Z, 1)"
   ]
  },
  {
   "cell_type": "code",
   "execution_count": 9,
   "id": "c01e3cee",
   "metadata": {},
   "outputs": [],
   "source": [
    "with rio.open('stack.tif') as dataset:\n",
    "    qroo84_451 = dataset.read()\n",
    "    xmin, ymin, xmax, ymax = dataset.bounds"
   ]
  },
  {
   "cell_type": "code",
   "execution_count": null,
   "id": "6fdd514f",
   "metadata": {},
   "outputs": [],
   "source": []
  },
  {
   "cell_type": "code",
   "execution_count": null,
   "id": "7114bb67",
   "metadata": {},
   "outputs": [],
   "source": [
    "#print('qroo84 raster {} opened in {} mode'.format( qroo84_451.name, qroo84_451.mode)) #name attribute is the filename for the dataset, and the mode refers to how the dataset has been opened (r for read, w for write, r+ for read/write).\n",
    "#print('qroo84 raster image has {} band(s)'.format( qroo84_451.count)) #check how many layers, or bands, the datset has using count\n",
    "#print('qroo84 raster image size (width, height): {} x {}'.format( qroo84_451.width,  qroo84_451.height)) # check the size of the image using width and height\n",
    "#print('qroo84 raster band 1 dataype is {}'.format( qroo84_451.dtypes[0])) # note that the band name (Band 1) differs from "
   ]
  },
  {
   "cell_type": "code",
   "execution_count": null,
   "id": "960937e7",
   "metadata": {},
   "outputs": [],
   "source": [
    "myCRS =ccrs.UTM(16)\n",
    "fig, ax = plt.subplots(1, 1, figsize=(10,10), subplot_kw=dict(projection=myCRS))\n",
    "ax.imshow(stack.tif[3], cmap='gray', vmin=200, vmax=5000, transform=myCRS, extent=[xmin, xmax, ymin, ymax])"
   ]
  },
  {
   "cell_type": "code",
   "execution_count": null,
   "id": "7b55f3ea",
   "metadata": {},
   "outputs": [],
   "source": [
    "from rasterio.plot import show\n",
    "show(qroo20_raster)\n",
    "rio.plot.show()"
   ]
  },
  {
   "cell_type": "code",
   "execution_count": null,
   "id": "947dbcc8",
   "metadata": {},
   "outputs": [],
   "source": []
  }
 ],
 "metadata": {
  "kernelspec": {
   "display_name": "Python 3",
   "language": "python",
   "name": "python3"
  },
  "language_info": {
   "codemirror_mode": {
    "name": "ipython",
    "version": 3
   },
   "file_extension": ".py",
   "mimetype": "text/x-python",
   "name": "python",
   "nbconvert_exporter": "python",
   "pygments_lexer": "ipython3",
   "version": "3.6.13"
  }
 },
 "nbformat": 4,
 "nbformat_minor": 5
}
