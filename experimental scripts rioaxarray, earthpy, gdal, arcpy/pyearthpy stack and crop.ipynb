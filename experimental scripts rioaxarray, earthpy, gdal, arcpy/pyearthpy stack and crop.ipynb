{
 "cells": [
  {
   "cell_type": "code",
   "execution_count": null,
   "id": "e9889310",
   "metadata": {},
   "outputs": [],
   "source": [
    "import sys\n",
    "print (sys.version)"
   ]
  },
  {
   "cell_type": "code",
   "execution_count": null,
   "id": "f530431e",
   "metadata": {},
   "outputs": [],
   "source": [
    "import os\n",
    "from glob import glob\n",
    "import matplotlib.pyplot as plt\n",
    "import rasterio as rio\n",
    "from rasterio.plot import plotting_extent\n",
    "import geopandas as gpd\n",
    "import earthpy as et\n",
    "import earthpy.spatial as es\n",
    "import earthpy.plot as ep"
   ]
  },
  {
   "cell_type": "code",
   "execution_count": null,
   "id": "4c9df61d",
   "metadata": {},
   "outputs": [],
   "source": [
    "help (earthpy)"
   ]
  },
  {
   "cell_type": "code",
   "execution_count": null,
   "id": "cd2c3225",
   "metadata": {},
   "outputs": [],
   "source": [
    "# Get sample data from EarthPy and setting your home working directory\n",
    "\n",
    "#data_path = et.data.get_data(\"vignette-landsat\")\n",
    "#os.chdir(os.path.join(et.io.HOME, (\"earth-analytics\")\n",
    "# Prepare the landsat bands to be stacked using glob and sort\n",
    "\n",
    "#landsat_bands_data_path = \"raster/landsat5/LT05_L1TP_019046_19840417_20170220_01_T1_sr_band*[5, 4, 1]*_crop.tif\"\n",
    "landsat_bands_data_path = \"raster/landsat5/LT05_L1TP_019046_19840417_20170220_01_T1_sr_band*[5, 4, 1]*_crop.tif\"\n",
    "stack_band_paths = glob(landsat_bands_data_path)\n",
    "stack_band_paths = glob(landsat_bands_data_path)\n",
    "stack_band_paths.sort()\n",
    "\n",
    "# Create output directory and the output path\n",
    "\n",
    "output_dir = os.path.join(\"data\", \"outputs\")\n",
    "if os.path.isdir(output_dir) == False:\n",
    "    os.mkdir(output_dir)\n",
    "\n",
    "raster_out_path = os.path.join(output_dir, \"raster.tiff\")"
   ]
  },
  {
   "cell_type": "code",
   "execution_count": null,
   "id": "77792717",
   "metadata": {},
   "outputs": [],
   "source": [
    "# Get sample data from EarthPy and setting your home working directory\n",
    "\n",
    "data_path = et.data.get_data(\"landsat5\")\n",
    "os.chdir(os.path.join(\"C:\\\\Users\\\\jrllo\\\\OneDrive\\\\Documents\\\\GitHub\\\\egm722\\\\Assignment\\\\raster\"))\n",
    "\n",
    "# Prepare the landsat bands to be stacked using glob and sort\n",
    "\n",
    "landsat_bands_data_path = \"raster/landsat5/LC08_L1TP_034032_20160621_20170221_01_T1_sr_band*[2-4]*_crop.tif\"\n",
    "stack_band_paths = glob(landsat_bands_data_path)\n",
    "stack_band_paths.sort()\n",
    "\n",
    "# Create output directory and the output path\n",
    "\n",
    "output_dir = os.path.join(\"landsat5\", \"outputs\")\n",
    "if os.path.isdir(output_dir) == False:\n",
    "    os.mkdir(output_dir)\n",
    "\n",
    "raster_out_path = os.path.join(output_dir, \"raster.tiff\")"
   ]
  },
  {
   "cell_type": "code",
   "execution_count": null,
   "id": "dd81ab91",
   "metadata": {},
   "outputs": [],
   "source": [
    "# Stack Landsat bands\n",
    "\n",
    "os.chdir(os.path.join(et.io.HOME, \"earth-analytics\"))\n",
    "array, raster_prof = es.stack(stack_band_paths, out_path=raster_out_path)"
   ]
  },
  {
   "cell_type": "code",
   "execution_count": null,
   "id": "88ba2352",
   "metadata": {},
   "outputs": [],
   "source": [
    "extent = plotting_extent(array[0], raster_prof[\"transform\"])"
   ]
  },
  {
   "cell_type": "code",
   "execution_count": null,
   "id": "99b0b5ae",
   "metadata": {},
   "outputs": [],
   "source": [
    "fig, ax = plt.subplots(figsize=(12, 12))\n",
    "ep.plot_rgb(\n",
    "    array,\n",
    "    ax=ax,\n",
    "    stretch=True,\n",
    "    extent=extent,\n",
    "    str_clip=0.5,\n",
    "    title=\"RGB Image of Un-cropped Raster\",\n",
    ")\n",
    "plt.show()"
   ]
  },
  {
   "cell_type": "code",
   "execution_count": null,
   "id": "95647032",
   "metadata": {},
   "outputs": [],
   "source": [
    "ep.hist(array, title=[\"Band 1\", \"Band 2\", \"Band 3\"])\n",
    "plt.show()"
   ]
  },
  {
   "cell_type": "code",
   "execution_count": null,
   "id": "7aad66a6",
   "metadata": {},
   "outputs": [],
   "source": [
    "os.chdir(os.path.join(et.io.HOME, \"earth-analytics\"))\n",
    "array_nodata, raster_prof_nodata = es.stack(stack_band_paths, nodata=-9999)\n",
    "\n",
    "# View hist of data with nodata values removed\n",
    "ep.hist(\n",
    "    array_nodata,\n",
    "    title=[\n",
    "        \"Band 1 - No Data Values Removed\",\n",
    "        \"Band 2 - No Data Values Removed\",\n",
    "        \"Band 3 - No Data Values Removed\",\n",
    "    ],\n",
    ")\n",
    "plt.show()\n",
    "\n",
    "# Recreate extent object for the No Data array\n",
    "\n",
    "extent_nodata = plotting_extent(\n",
    "    array_nodata[0], raster_prof_nodata[\"transform\"]\n",
    ")"
   ]
  },
  {
   "cell_type": "code",
   "execution_count": null,
   "id": "8a4bf0bf",
   "metadata": {},
   "outputs": [],
   "source": [
    "fig, ax = plt.subplots(figsize=(12, 12))\n",
    "ep.plot_rgb(\n",
    "    array_nodata,\n",
    "    ax=ax,\n",
    "    stretch=True,\n",
    "    extent=extent,\n",
    "    str_clip=0.5,\n",
    "    title=\"RGB image of Un-cropped Raster, No Data Value Selected\",\n",
    ")\n",
    "plt.show()"
   ]
  },
  {
   "cell_type": "code",
   "execution_count": null,
   "id": "057af7f3",
   "metadata": {},
   "outputs": [],
   "source": [
    "os.chdir(os.path.join(et.io.HOME, \"earth-analytics\"))\n",
    "\n",
    "# Open the crop boundary using GeoPandas.\n",
    "\n",
    "crop_bound = gpd.read_file(\n",
    "    \"data/vignette-landsat/vector_layers/fire-boundary-geomac/co_cold_springs_20160711_2200_dd83.shp\"\n",
    ")"
   ]
  },
  {
   "cell_type": "code",
   "execution_count": null,
   "id": "cbd507ba",
   "metadata": {},
   "outputs": [],
   "source": [
    "os.chdir(os.path.join(et.io.HOME, \"earth-analytics\"))\n",
    "\n",
    "with rio.open(stack_band_paths[0]) as raster_crs:\n",
    "    crop_raster_profile = raster_crs.profile\n",
    "    crop_bound_utm13N = crop_bound.to_crs(crop_raster_profile[\"crs\"])"
   ]
  },
  {
   "cell_type": "code",
   "execution_count": null,
   "id": "5ee0fd78",
   "metadata": {},
   "outputs": [],
   "source": [
    "os.chdir(os.path.join(et.io.HOME, \"earth-analytics\"))\n",
    "\n",
    "band_paths_list = es.crop_all(\n",
    "    stack_band_paths, output_dir, crop_bound_utm13N, overwrite=True\n",
    ")"
   ]
  },
  {
   "cell_type": "code",
   "execution_count": null,
   "id": "64c17b9a",
   "metadata": {},
   "outputs": [],
   "source": [
    "os.chdir(os.path.join(et.io.HOME, \"earth-analytics\"))\n",
    "\n",
    "cropped_array, array_raster_profile = es.stack(band_paths_list, nodata=-9999)\n",
    "crop_extent = plotting_extent(\n",
    "    cropped_array[0], array_raster_profile[\"transform\"]\n",
    ")\n",
    "\n",
    "# Plotting the cropped image\n",
    "# sphinx_gallery_thumbnail_number = 5\n",
    "fig, ax = plt.subplots(figsize=(12, 6))\n",
    "crop_bound_utm13N.boundary.plot(ax=ax, color=\"red\", zorder=10)\n",
    "ep.plot_rgb(\n",
    "    cropped_array,\n",
    "    ax=ax,\n",
    "    stretch=True,\n",
    "    extent=crop_extent,\n",
    "    title=\"Cropped Raster and Fire Boundary\",\n",
    ")\n",
    "plt.show()"
   ]
  },
  {
   "cell_type": "code",
   "execution_count": null,
   "id": "882e1a9c",
   "metadata": {},
   "outputs": [],
   "source": [
    "# Open Landsat image as a Rasterio object in order to crop it\n",
    "os.chdir(os.path.join(et.io.HOME, \"earth-analytics\"))\n",
    "\n",
    "with rio.open(stack_band_paths[0]) as src:\n",
    "    single_cropped_image, single_cropped_meta = es.crop_image(\n",
    "        src, crop_bound_utm13N\n",
    "    )\n",
    "\n",
    "# Create the extent object\n",
    "single_crop_extent = plotting_extent(\n",
    "    single_cropped_image[0], single_cropped_meta[\"transform\"]\n",
    ")\n",
    "\n",
    "# Plot the newly cropped image\n",
    "fig, ax = plt.subplots(figsize=(12, 6))\n",
    "crop_bound_utm13N.boundary.plot(ax=ax, color=\"red\", zorder=10)\n",
    "ep.plot_bands(\n",
    "    single_cropped_image,\n",
    "    ax=ax,\n",
    "    extent=single_crop_extent,\n",
    "    title=\"Single Cropped Raster and Fire Boundary\",\n",
    ")\n",
    "plt.show()"
   ]
  },
  {
   "cell_type": "code",
   "execution_count": null,
   "id": "dc0ba8b2",
   "metadata": {},
   "outputs": [],
   "source": []
  }
 ],
 "metadata": {
  "kernelspec": {
   "display_name": "Python 3",
   "language": "python",
   "name": "python3"
  },
  "language_info": {
   "codemirror_mode": {
    "name": "ipython",
    "version": 3
   },
   "file_extension": ".py",
   "mimetype": "text/x-python",
   "name": "python",
   "nbconvert_exporter": "python",
   "pygments_lexer": "ipython3",
   "version": "3.6.13"
  }
 },
 "nbformat": 4,
 "nbformat_minor": 5
}
