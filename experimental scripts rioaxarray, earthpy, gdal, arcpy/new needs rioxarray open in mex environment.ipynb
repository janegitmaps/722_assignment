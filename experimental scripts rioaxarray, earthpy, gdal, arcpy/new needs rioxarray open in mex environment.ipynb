{
 "cells": [
  {
   "cell_type": "code",
   "execution_count": null,
   "id": "702e400c",
   "metadata": {},
   "outputs": [],
   "source": [
    "#qroo84_raster = \"/qroo84/landsat5_84.tif\"\n",
    "#ds = gdal.Open(qroo84_raster)\n",
    "#band = ds.GetRasterBand(1)\n",
    "#arr = band.ReadAsArray()\n",
    "#[cols, rows] = arr.shape\n",
    "#arr_min = arr.min()\n",
    "#arr_max = arr.max()\n",
    "#arr_mean = int(arr.mean())\n",
    "#arr_out = numpy.where((arr_mean), 10000, arr)\n",
    "#driver = gdal.GetDriverByName(\"GTiff\")\n",
    "#outdata = driver.Create(\"raster/qroo84\", rows, cols, 1, gdal.GDT_UInt16)\n"
   ]
  },
  {
   "cell_type": "code",
   "execution_count": null,
   "id": "2f56bc26",
   "metadata": {},
   "outputs": [],
   "source": [
    "\n",
    "#file = \"path+filename\"\n",
    "#ds = gdal.Open(file)\n",
    "#band = ds.GetRasterBand(1)\n",
    "#arr = band.ReadAsArray()\n",
    "#[cols, rows] = arr.shape\n",
    "#arr_min = arr.min()\n",
    "#arr_max = arr.max()\n",
    "#arr_mean = int(arr.mean())\n",
    "#arr_out = numpy.where((arr < arr_mean), 10000, arr)\n",
    "#driver = gdal.GetDriverByName(\"GTiff\")\n",
    "#outdata = driver.Create(outFileName, rows, cols, 1, gdal.GDT_UInt16)\n",
    "#outdata.SetGeoTransform(ds.GetGeoTransform())##sets same geotransform as input\n",
    "#outdata.SetProjection(ds.GetProjection())##sets same projection as input\n",
    "#outdata.GetRasterBand(1).WriteArray(arr_out)\n",
    "#outdata.GetRasterBand(1).SetNoDataValue(10000)##if you want these values transparent\n",
    "#outdata.FlushCache() ##saves to disk!!\n",
    "#outdata = None\n",
    "#band=None\n",
    "#ds=None"
   ]
  },
  {
   "cell_type": "code",
   "execution_count": null,
   "id": "d6d69ccb",
   "metadata": {},
   "outputs": [],
   "source": [
    "import rasterio as rio\n",
    "import os\n",
    "#import rioxarray\n",
    "import matplotlib.pyplot as plt\n",
    "import matplotlib.patches as mpatches\n",
    "import matplotlib.lines as mlines\n",
    "from matplotlib import pyplot\n",
    "from rasterio.plot import show\n",
    "%matplotlib inline\n",
    "import numpy as np"
   ]
  },
  {
   "cell_type": "code",
   "execution_count": null,
   "id": "0a40ef3a",
   "metadata": {},
   "outputs": [],
   "source": [
    "qroo84_ls5 = rio.open('raster/qroo84/landsat5_84.tiff')\n",
    "qroo84_ls5, qroo84_ls5.name, qroo84_ls5.mode, qroo84_ls5.closed"
   ]
  },
  {
   "cell_type": "code",
   "execution_count": null,
   "id": "28e939ed",
   "metadata": {},
   "outputs": [],
   "source": [
    "%matplotlib inline\n",
    "\n",
    "# Data dir\n",
    "data_dir = \"L5_data\"\n",
    "\n",
    "# Filepath\n",
    "fp = os.path.join(data_dir, \"Helsinki_masked_p188r018_7t20020529_z34__LV-FIN.tif\")\n",
    "\n",
    "# Open the file:\n",
    "raster = rasterio.open(fp)\n",
    "\n",
    "# Plot band 1\n",
    "show((raster, 1))"
   ]
  },
  {
   "cell_type": "code",
   "execution_count": null,
   "id": "db8c3179",
   "metadata": {},
   "outputs": [],
   "source": []
  },
  {
   "cell_type": "code",
   "execution_count": null,
   "id": "c31315b4",
   "metadata": {},
   "outputs": [],
   "source": [
    "#b1 = rio.open(\"raster/qroo84/LT05_L1TP_018046_19840410_20170220_01_T1_B1.tif\")\n",
    "#b2 = rio.open(\"raster/qroo84/LT05_L1TP_018046_19840410_20170220_01_T1_B2.tif\")\n",
    "#b3 = rio.open(\"raster/qroo84/LT05_L1TP_018046_19840410_20170220_01_T1_B3.tif\")\n",
    "#b4 = rio.open(\"raster/qroo84/LT05_L1TP_018046_19840410_20170220_01_T1_B4.tif\")\n",
    "#b5 = rio.open(\"raster/qroo84/LT05_L1TP_018046_19840410_20170220_01_T1_B5.tif\")\n",
    "#b6 = rio.open(\"raster/qroo84/LT05_L1TP_018046_19840410_20170220_01_T1_B6.tif\")\n",
    "#b7 = rio.open(\"raster/qroo84/LT05_L1TP_018046_19840410_20170220_01_T1_B7.tif\")\n",
    "\n",
    "#bandlist = (1, 2, 3, 4, 5, 6, 7)\n",
    "\n",
    "#array = src.read(bandlist)\n",
    "\n",
    "#array.shape"
   ]
  },
  {
   "cell_type": "code",
   "execution_count": null,
   "id": "17b5bf25",
   "metadata": {},
   "outputs": [],
   "source": [
    "qroo84_band1 = rio.open(\"raster/qroo84/LT05_L1TP_018046_19840410_20170220_01_T1_B1.tif\")\n",
    "#pyplot.imshow(qroo84_band1.read(1), cmap='Greys')\n",
    "#pyplot.show()"
   ]
  },
  {
   "cell_type": "code",
   "execution_count": null,
   "id": "acce4faa",
   "metadata": {},
   "outputs": [],
   "source": [
    "qroo84_band2 = rio.open(\"raster/qroo84/LT05_L1TP_018046_19840410_20170220_01_T1_B2.tif\")\n",
    "#pyplot.imshow(qroo84_band2.read(1), cmap='Greys')\n",
    "#pyplot.show()"
   ]
  },
  {
   "cell_type": "code",
   "execution_count": null,
   "id": "9060440a",
   "metadata": {},
   "outputs": [],
   "source": [
    "qroo84_band3 = rio.open(\"raster/qroo84/LT05_L1TP_018046_19840410_20170220_01_T1_B3.tif\")\n",
    "#pyplot.imshow(qroo84_band3.read(1), cmap='Greys')\n",
    "#pyplot.show()"
   ]
  },
  {
   "cell_type": "code",
   "execution_count": null,
   "id": "d9ccb04f",
   "metadata": {},
   "outputs": [],
   "source": [
    "qroo84_band4 = rio.open(\"raster/qroo84/LT05_L1TP_018046_19840410_20170220_01_T1_B4.tif\")\n",
    "#pyplot.imshow(qroo84_band4.read(1), cmap='Greys')\n",
    "#pyplot.show()"
   ]
  },
  {
   "cell_type": "code",
   "execution_count": null,
   "id": "09d64eec",
   "metadata": {},
   "outputs": [],
   "source": [
    "qroo84_band5 = rio.open(\"raster/qroo84/LT05_L1TP_018046_19840410_20170220_01_T1_B5.tif\")\n",
    "#pyplot.imshow(qroo84_band5.read(1), cmap='Greys')\n",
    "#pyplot.show()"
   ]
  },
  {
   "cell_type": "code",
   "execution_count": null,
   "id": "846b5ebd",
   "metadata": {},
   "outputs": [],
   "source": [
    "qroo84_band6 = rio.open(\"raster/qroo84/LT05_L1TP_018046_19840410_20170220_01_T1_B6.tif\")\n",
    "#pyplot.imshow(qroo84_band6.read(1), cmap='Greys')\n",
    "#pyplot.show()\n"
   ]
  },
  {
   "cell_type": "code",
   "execution_count": null,
   "id": "8ac2424c",
   "metadata": {},
   "outputs": [],
   "source": []
  },
  {
   "cell_type": "code",
   "execution_count": null,
   "id": "25f4f0dd",
   "metadata": {},
   "outputs": [],
   "source": [
    "\n",
    "%matplotlib inline\n",
    "\n",
    "# Data dir\n",
    "data_dir = \"L5_data\"\n",
    "\n",
    "# Filepath\n",
    "fp = os.path.join(data_dir, \"Helsinki_masked_p188r018_7t20020529_z34__LV-FIN.tif\")\n",
    "\n",
    "# Open the file:\n",
    "raster = rasterio.open(fp)\n",
    "\n",
    "# Plot band 1\n",
    "show((raster, 1))"
   ]
  },
  {
   "cell_type": "code",
   "execution_count": null,
   "id": "498b7c4d",
   "metadata": {},
   "outputs": [],
   "source": [
    "qroo84_band7 = rio.open(\"raster/qroo84/LT05_L1TP_018046_19840410_20170220_01_T1_B7.tif\")\n",
    "#pyplot.imshow(qroo84_band7.read(1), cmap='Greys')\n",
    "#pyplot.show()"
   ]
  },
  {
   "cell_type": "code",
   "execution_count": null,
   "id": "8d60478f",
   "metadata": {},
   "outputs": [],
   "source": [
    "data_dir =\"raster/qroo\"\n",
    "\n",
    "fp = os.path.join(data_dir,r\"C:\\\\Users\\\\jrllo\\\\OneDrive\\\\Documents\\\\GitHub\\\\egm722\\\\Assignment\\\\data\\\\raster\\\\qroo84\\\\landsat5_84.tiff\")\n",
    "\n",
    "raster = rio.open(fp)\n",
    "\n",
    "show(raster, 1)"
   ]
  },
  {
   "cell_type": "code",
   "execution_count": null,
   "id": "2757c37b",
   "metadata": {},
   "outputs": [],
   "source": [
    "# Initialize subplots\n",
    "fig, (ax1, ax2, ax3) = plt.subplots(ncols=3, nrows=1, figsize=(10, 4), sharey=True)\n",
    "\n",
    "# Plot Red, Green and Blue (rgb)\n",
    "show((raster, 5), cmap='Reds', ax=ax1)\n",
    "show((raster, 4), cmap='Greens', ax=ax2)\n",
    "show((raster, 1), cmap='Blues', ax=ax3)\n",
    "\n",
    "# Add titles\n",
    "ax1.set_title(\"Red\")\n",
    "ax2.set_title(\"Green\")\n",
    "ax3.set_title(\"Blue\")"
   ]
  },
  {
   "cell_type": "code",
   "execution_count": null,
   "id": "3a466ed8",
   "metadata": {},
   "outputs": [],
   "source": [
    "# Read the grid values into numpy arrays\n",
    "red = raster.read(4)\n",
    "green = raster.read(5)\n",
    "blue = raster.read(1)\n",
    "\n",
    "# Function to normalize the grid values\n",
    "def normalize(array):\n",
    "    \"\"\"Normalizes numpy arrays into scale 0.0 - 1.0\"\"\"\n",
    "    array_min, array_max = array.min(), array.max()\n",
    "    return ((array - array_min)/(array_max - array_min))\n",
    "\n",
    "# Normalize the bands\n",
    "redn = normalize(red)\n",
    "greenn = normalize(green)\n",
    "bluen = normalize(blue)\n",
    "\n",
    "print(\"Normalized bands\")\n",
    "print(redn.min(), '-', redn.max(), 'mean:', redn.mean())\n",
    "print(greenn.min(), '-', greenn.max(), 'mean:', greenn.mean())\n",
    "print(bluen.min(), '-', bluen.max(), 'mean:', bluen.mean())"
   ]
  },
  {
   "cell_type": "code",
   "execution_count": null,
   "id": "6b427bff",
   "metadata": {},
   "outputs": [],
   "source": [
    "# Create RGB natural color composite\n",
    "Qroo84_451 = np.dstack((redn, greenn, bluen))\n",
    "\n",
    "# Let's see how our color composite looks like\n",
    "plt.imshow(Qroo84_451)"
   ]
  },
  {
   "cell_type": "code",
   "execution_count": null,
   "id": "ecbae062",
   "metadata": {},
   "outputs": [],
   "source": [
    "data_dir =\"raster/qroo\"\n",
    "\n",
    "fp = os.path.join(data_dir,r\"C:\\\\Users\\\\jrllo\\\\OneDrive\\\\Documents\\\\GitHub\\\\egm722\\\\Assignment\\\\data\\\\raster\\\\qroo84\\\\landsat5_84.tiff\")\n",
    "\n",
    "raster = rio.open(fp)\n",
    "\n",
    "# Read the grid values into numpy arrays\n",
    "nir1 = raster.read(4)\n",
    "nir2 = raster.read(5)\n",
    "blue = raster.read(1)\n",
    "\n",
    "# Normalize the values using the function that we defined earlier\n",
    "nir1n = normalize(nir1)\n",
    "nir2n = normalize(nir2)\n",
    "bluen = normalize(blue)\n",
    "\n",
    "# Create the composite by stacking\n",
    "qroo84_451 = np.dstack((nir1n, nir2n, bluen))\n",
    "\n",
    "# Let's see how our color composite looks like\n",
    "plt.imshow(qroo84_451)"
   ]
  },
  {
   "cell_type": "code",
   "execution_count": null,
   "id": "f42d0490",
   "metadata": {},
   "outputs": [],
   "source": []
  },
  {
   "cell_type": "code",
   "execution_count": null,
   "id": "cdd7654b",
   "metadata": {},
   "outputs": [],
   "source": [
    "qroo84_band4 = rio.open(\"raster/qroo84/LT05_L1TP_018046_19840410_20170220_01_T1_B4.tif\") \n",
    "qroo84_band5 = rio.open(\"raster/qroo84/LT05_L1TP_018046_19840410_20170220_01_T1_B5.tif\")\n",
    "qroo84_band1 = rio.open(\"raster/qroo84/LT05_L1TP_018046_19840410_20170220_01_T1_B1.tif\")\n",
    "\n",
    "#roo84_band451 = rio.open('qroo84_band4') as dataset\n",
    "\n",
    "#pyplot.imshow(qroo84_band451.read(1), cmap='Greys')\n",
    "#pyplot.show()\n",
    "\n",
    "\n",
    "with rio.open(qroo_band451) as src_dataset: # Get a copy of the source dataset's profile. Thus our\n",
    "    # destination dataset will have the same dimensions,\n",
    "    # number of bands, data type, and georeferencing as the\n",
    "    # source dataset.\n",
    "    kwds = src_dataset.profile\n",
    "    kwds['driver'] = 'GTiff'\n",
    "    kwds['driver'] = 'GTiff'\n",
    "    kwds['tiled'] = True\n",
    "    kwds['blockxsize'] = 256\n",
    "    kwds['blockysize'] = 256\n",
    "    kwds['photometric'] = 'RGB'\n",
    "    kwds['compress'] = 'JPEG'\n",
    "\n",
    "    # Change the format driver for the destination dataset to\n",
    "    # 'GTiff', short for GeoTIFF.\n",
    "\n",
    "    # Add GeoTIFF-specific keyword arguments.\n",
    "\n",
    "\n",
    "with rio.open('raster/qroo84/qroo84_451.tif', 'w', **kwds) as dst_dataset:\n",
    "    class DeffaultGTiffProfile(Profile):\n",
    "        defaults = {'driver':\n",
    "                    'GTiff', 'interleave':\n",
    "                    'band 4, 5, 1',\n",
    "                    'tiled': True,\n",
    "                    'blockxsize': 256,\n",
    "                    'blockysize': 256, \n",
    "                    'compress':\n",
    "                    'lzw', 'nodata': 0,\n",
    "                    'dtype': uint8}\n",
    "    \n",
    "from rasterio.profiles import DefaultGTiffProfile\n",
    "\n",
    "with rasterio.open(\n",
    "        'qroo84_451.tif', 'w', **DefaultGTiffProfile(count=3)) as dst_dataset:\n",
    "    dst = 'raster/qroo84'\n",
    "    \n",
    "    # Write data to the destination dataset."
   ]
  },
  {
   "cell_type": "code",
   "execution_count": null,
   "id": "525e974b",
   "metadata": {},
   "outputs": [],
   "source": [
    "#rgb_stack_HARV = rioxarray.open_rasterio(\"data/NEON-DS-Airborne-Remote-Sensing/HARV/RGB_Imagery/HARV_RGB_Ortho.tif\")\n",
    "\n",
    "\n",
    "qroo84_ls5 = rioxarray.open_rasterio('raster/qroo84/landsat5_84.tiff')\n",
    "#qroo84_ls5\n",
    "qroo84_band4 = rioxarray.open_rasterio(\"raster/qroo84/LT05_L1TP_018046_19840410_20170220_01_T1_B4.tif\"), qroo84_band5 = rioxarray.open_rasterio(\"raster/qroo84/LT05_L1TP_018046_19840410_20170220_01_T1_B5.tif\"),\n",
    "qroo84_band1 = rioxarray.open_rasterio(\"raster/qroo84/LT05_L1TP_018046_19840410_20170220_01_T1_B1.tif\")\n",
    "qroo84_rgb = ('qroo84_band4', 'qroo84_band5,' 'qroo84_band1')\n",
    "\n",
    "#qroo84_rgb = qroo84_ls5.sel(qroo84_band4), qroo84_ls5.sel(qroo84_band5), qroo84_ls5.sel(qroo84_band1)\n",
    "#show(qroo84_rgb)"
   ]
  },
  {
   "cell_type": "code",
   "execution_count": null,
   "id": "25af07f0",
   "metadata": {},
   "outputs": [],
   "source": [
    "qroo84_rgb"
   ]
  },
  {
   "cell_type": "code",
   "execution_count": null,
   "id": "1fae3d7f",
   "metadata": {},
   "outputs": [],
   "source": [
    "qroo84_rgb\n",
    "pyplot.show(qroo84_rgb)"
   ]
  },
  {
   "cell_type": "code",
   "execution_count": null,
   "id": "eb691e45",
   "metadata": {},
   "outputs": [],
   "source": [
    "#rgb_stack_HARV = rioxarray.open_rasterio(\"data/NEON-DS-Airborne-Remote-Sensing/HARV/RGB_Imagery/HARV_RGB_Ortho.tif\")\n",
    "\n",
    "\n",
    "#qroo84_ls5 = rioxarray.open_rasterio('raster/qroo84/landsat5_84.tiff')\n",
    "#qroo84_ls5\n",
    "qroo84_band4 = rioxarray.open_rasterio(\"raster/qroo84/LT05_L1TP_018046_19840410_20170220_01_T1_B4.tif\")\n",
    "qroo84_band5 = rioxarray.open_rasterio(\"raster/qroo84/LT05_L1TP_018046_19840410_20170220_01_T1_B5.tif\")\n",
    "qroo84_band1 = rioxarray.open_rasterio(\"raster/qroo84/LT05_L1TP_018046_19840410_20170220_01_T1_B1.tif\")\n",
    "qroo84_rgb = ('qroo84_band4', 'qroo84_band5,' 'qroo84_band1')\n",
    "\n",
    "#qroo84_rgb = qroo84_ls5.sel(qroo84_band4), qroo84_ls5.sel(qroo84_band5), qroo84_ls5.sel(qroo84_band1)\n",
    "#show(qroo84_rgb)"
   ]
  },
  {
   "cell_type": "code",
   "execution_count": null,
   "id": "337bec8a",
   "metadata": {},
   "outputs": [],
   "source": []
  },
  {
   "cell_type": "code",
   "execution_count": null,
   "id": "821594d9",
   "metadata": {},
   "outputs": [],
   "source": [
    "\n",
    "#filename = \"20180308_133037_1024_3B_AnalyticMS.tif\"\n",
    "\n",
    "# Load red and NIR bands - note all PlanetScope 4-band images have band order BGRN\n",
    "#xds = xarray.open_rasterio(filename)\n",
    "#band_blue_radiance = xds.sel(band=1)\n",
    "#band_green_radiance = xds.sel(band=2)\n",
    "#band_red_radiance = xds.sel(band=3)\n",
    "#band_nir_radiance = xds.sel(band=4)\n",
    "\n",
    "\n",
    "qroo84_ls5 = rioxarray.open_rasterio('raster/qroo84/landsat5_84.tiff')\n",
    "\n",
    "qroo84_band4 = rioxarray.open_rasterio(\"raster/qroo84/LT05_L1TP_018046_19840410_20170220_01_T1_B4.tif\")\n",
    "qroo84_band5 = rioxarray.open_rasterio(\"raster/qroo84/LT05_L1TP_018046_19840410_20170220_01_T1_B5.tif\")\n",
    "qroo84_band1 = rioxarray.open_rasterio(\"raster/qroo84/LT05_L1TP_018046_19840410_20170220_01_T1_B1.tif\")\n",
    "qroo84_rgb = ('qroo84_band4', 'qroo84_band5,' 'qroo84_band1')\n",
    "\n",
    "def to_raster(qroo84_rgb, template_qroo84_rgb, qroo84_ls5):\n",
    "    qroo84_rgb = qroo84_rgb.rio.write_crs(template_qroo84_rgb.rio.crs)\n",
    "    if template_qroo84_rgb.rio.nodata is not None:\n",
    "        qroo84_rgb.attrs[\"_FillValue\"] = template_qroo84_rgb.rio.nodata\n",
    "    qroo84_rgb.rio.qroo84_451(qroo84_ls5)\n",
    "    \n",
    "qroo84_rgb([qroo84_band4], qroo84_ls5, \"LT05_L1TP_018046_19840410_20170220_01_T1_B4.tif\")\n",
    "qroo84_rgb(qroo84_band5, qroo84_ls5, \"LT05_L1TP_018046_19840410_20170220_01_T1_B5.tif\")\n",
    "qroo84_rgb(qroo84_band1, qroo84_ls5, \"LT05_L1TP_018046_19840410_20170220_01_T1_B1.tif\")\n",
    "\n",
    "#qroo84_rgb = rioxarray.open_rasterio('raster/qroo84/landsat5_84.tiff')\n",
    "#qroo84_rgb\n",
    "\n",
    "qroo84_451.isel(time=0).rio.to_raster(\"raster/qroo84/planet_scope.tif\")\n",
    "!rio info planet_scope.tif\n",
    "# note how selecting one variable allowed for multiple time steps in a single raster\n",
    "qroo84_451.green.rio.to_raster(\"planet_scope_green.tif\")\n",
    "!rio info planet_scope_green.tif\n",
    "\n",
    "\n"
   ]
  },
  {
   "cell_type": "code",
   "execution_count": null,
   "id": "42d03072",
   "metadata": {},
   "outputs": [],
   "source": [
    "import numpy as np\n",
    "import rasterio\n",
    "\n",
    "# Read raster bands directly to Numpy arrays.\n",
    "#\n",
    "#with rasterio.open('raster/qroo84/landsat5_84.tiff') as band4:\n",
    "    #r, g, b = band4.read()\n",
    "with rio.open(\"raster/qroo84/LT05_L1TP_018046_19840410_20170220_01_T1_B4.tif\") as band4:\n",
    "    r, g, b = band4.read()\n",
    "\n",
    "# Combine arrays in place. Expecting that the sum will\n",
    "# temporarily exceed the 8-bit integer range, initialize it as\n",
    "# a 64-bit float (the numpy default) array. Adding other\n",
    "# arrays to it in-place converts those arrays \"up\" and\n",
    "# preserves the type of the total array.\n",
    "total = np.zeros(r.shape)\n",
    "for band in r, g, b:\n",
    "    total = band4, band5, band1\n",
    "total /= 3\n",
    "\n",
    "# Write the product as a raster band to a new 8-bit file. For\n",
    "# the new file's profile, we start with the meta attributes of\n",
    "# the source file, but then change the band count to 1, set the\n",
    "# dtype to uint8, and specify LZW compression.\n",
    "profile = src.profile\n",
    "profile.update(dtype=rasterio.uint8, count=1, compress='lzw')\n",
    "\n",
    "with rasterio.open('example-total.tif', 'w', **profile) as dst:\n",
    "    dst.write(total.astype(rasterio.uint8), 1)"
   ]
  },
  {
   "cell_type": "code",
   "execution_count": null,
   "id": "6c6505f2",
   "metadata": {},
   "outputs": [],
   "source": [
    "to_raster"
   ]
  },
  {
   "cell_type": "code",
   "execution_count": null,
   "id": "45405e58",
   "metadata": {},
   "outputs": [],
   "source": []
  },
  {
   "cell_type": "code",
   "execution_count": null,
   "id": "895ff682",
   "metadata": {},
   "outputs": [],
   "source": []
  },
  {
   "cell_type": "code",
   "execution_count": null,
   "id": "eadc3372",
   "metadata": {},
   "outputs": [],
   "source": [
    "# Register GDAL format drivers and configuration options with a\n",
    "# context manager.\n",
    "with rio.Env():\n",
    "    qroo84_ls5 = rioxarray.open_rasterio('raster/qroo84/landsat5_84.tiff')     # Write an array as a raster band to a new 8-bit file. For\n",
    "    # the new file's profile, we start with the profile of the source\n",
    "#src = *file_path\n",
    "#profile = src.profile\n",
    "\n",
    "#qroo84_ls5 = src.qroo84_ls5\n",
    "\n",
    "qroo84_band4 = rioxarray.open_rasterio(\"raster/qroo84/LT05_L1TP_018046_19840410_20170220_01_T1_B4.tif\")\n",
    "qroo84_band5 = rioxarray.open_rasterio(\"raster/qroo84/LT05_L1TP_018046_19840410_20170220_01_T1_B5.tif\")\n",
    "qroo84_band1 = rioxarray.open_rasterio(\"raster/qroo84/LT05_L1TP_018046_19840410_20170220_01_T1_B1.tif\")\n",
    "qroo84_rgb = ('qroo84_band4', 'qroo84_band5,' 'qroo84_band1')\n",
    "\n",
    "def to_raster(qroo84_rgb, template_qroo84_rgb, qroo84_band4, qroo84_band5, qroo84_band1 ):\n",
    "    qroo84_rgb = qroo84_rgb.rio.write_crs(template_qroo84_rgb.rio.crs)\n",
    "    if template_qroo84_rgb.rio.nodata is not None:\n",
    "        qroo84_rgb.attrs[\"_FillValue\"] = template_qroo84_rgb.rio.nodata\n",
    "    qroo84_rgb.rio.to_raster(QROO84_451)\n",
    "    \n",
    "qroo84_451('qroo84_band4', \"LT05_L1TP_018046_19840410_20170220_01_T1_B4.tif\"), (qroo84_band5, qroo84_ls5, \"LT05_L1TP_018046_19840410_20170220_01_T1_B5.tif\"), (to_raster(qroo84_band1, qroo84_ls5, \"LT05_L1TP_018046_19840410_20170220_01_T1_B1.tif\")\n",
    "\n",
    "    # And then change the band count to 1, set the\n",
    "    # dtype to uint8, and specify LZW compression.\n",
    "#qroo84_451, (dtype=rio.uint8, count=1, compress='lzw')\n",
    "\n",
    "with rio.open('raster/qroo84/landsat5_84.tiff', 'w', **profile) as 'raster/qroo84/qroo84_451':\n",
    "raster/qroo84/qroo84_451.write(array.astype(rasterio.uint8), 1)\n",
    "    \n",
    "# At the end of the ``with rasterio.Env()`` block, context\n",
    "# manager exits and all drivers are de-registered."
   ]
  },
  {
   "cell_type": "code",
   "execution_count": null,
   "id": "9edb753c",
   "metadata": {},
   "outputs": [],
   "source": [
    "def to_raster(in_xds, template_xds, out_file):\n",
    "    in_xds = in_xds.rio.write_crs(template_xds.rio.crs)\n",
    "    if template_xds.rio.nodata is not None:\n",
    "        in_xds.attrs[\"_FillValue\"] = template_xds.rio.nodata\n",
    "    in_xds.rio.to_raster(out_file)\n",
    "\n",
    "to_raster(blue_ref_scaled, xds, \"ReflectanceB1.tif\")\n",
    "to_raster(green_ref_scaled, xds, \"ReflectanceB2.tif\")\n",
    "to_raster(red_ref_scaled, xds, \"ReflectanceB3.tif\")\n",
    "to_raster(nir_ref_scaled, xds, \"ReflectanceB4.tif\")"
   ]
  },
  {
   "cell_type": "code",
   "execution_count": null,
   "id": "4a1cacaf",
   "metadata": {},
   "outputs": [],
   "source": [
    "rds = rioxarray.open_rasterio(\n",
    "    \"../../test/test_data/input/PLANET_SCOPE_3D.nc\",\n",
    ")\n",
    "rds\n",
    "# note how one time slice was selected on export to make the dataset 2D\n",
    "rds.isel(time=0).rio.to_raster(\"planet_scope.tif\")\n",
    "!rio info planet_scope.tif\n",
    "# note how selecting one variable allowed for multiple time steps in a single raster\n",
    "rds.green.rio.to_raster(\"planet_scope_green.tif\")\n",
    "!rio info planet_scope_green.tif\n",
    "\n"
   ]
  }
 ],
 "metadata": {
  "kernelspec": {
   "display_name": "Python 3",
   "language": "python",
   "name": "python3"
  },
  "language_info": {
   "codemirror_mode": {
    "name": "ipython",
    "version": 3
   },
   "file_extension": ".py",
   "mimetype": "text/x-python",
   "name": "python",
   "nbconvert_exporter": "python",
   "pygments_lexer": "ipython3",
   "version": "3.6.13"
  }
 },
 "nbformat": 4,
 "nbformat_minor": 5
}
